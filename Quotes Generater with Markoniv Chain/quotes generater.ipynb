{
 "cells": [
  {
   "cell_type": "code",
   "execution_count": 64,
   "metadata": {},
   "outputs": [
    {
     "name": "stdout",
     "output_type": "stream",
     "text": [
      "{'START': ['advertising', 'silly', 'there', 'go', 'i', 'a'], 'advertising': ['may'], 'may': ['be'], 'be': ['described'], 'described': ['as'], 'as': ['the'], 'the': ['science', 'skin', 'truth', 'skin', 'street'], 'science': ['of'], 'of': ['arresting'], 'arresting': ['human'], 'human': ['intelligence', 'and'], 'intelligence': ['long'], 'long': ['enough'], 'enough': ['to'], 'to': ['get', 'go', 'choose'], 'get': ['money'], 'money': ['from'], 'from': ['it.'], 'END': ['it.', 'hypocrites.', 'taste.', 'most.', 'honest.', 'prejudices.'], 'silly': ['to'], 'go': ['on', 'into'], 'on': ['pretending', 'morality'], 'pretending': ['that'], 'that': ['under', 'under'], 'under': ['the', 'the'], 'skin': ['we', 'we'], 'we': ['are', 'are'], 'are': ['all', 'all', 'times', 'more', 'thinking', 'merely'], 'all': ['brothers.', 'cannibals,assassins,traitors,'], 'brothers.': ['the'], 'truth': ['is'], 'is': ['more'], 'more': ['likely', 'honest.'], 'likely': ['that'], 'cannibals,assassins,traitors,': ['liars'], 'liars': ['and'], 'and': ['hypocrites.', 'having', 'give', 'another', 'see'], 'there': ['are'], 'times': ['when'], 'when': ['you', 'they'], 'you': ['hav', 'most.'], 'hav': ['to'], 'choose': ['between'], 'between': ['being'], 'being': ['human'], 'having': ['good'], 'good': ['taste.'], 'into': ['the'], 'street': ['and'], 'give': ['one'], 'one': ['man'], 'man': ['a'], 'a': ['lecture', 'dollar,', 'great'], 'lecture': ['on'], 'morality': ['and'], 'another': ['a'], 'dollar,': ['and'], 'see': ['which'], 'which': ['will'], 'will': ['respect'], 'respect': ['you'], 'i': [\"don't\", 'prefer'], \"don't\": ['like'], 'like': ['principles.'], 'principles.': ['i'], 'prefer': ['prejudices.'], 'prejudices.': ['they'], 'they': ['are', 'are', 'are'], 'great': ['many'], 'many': ['people'], 'people': ['think'], 'think': ['they'], 'thinking': ['when'], 'merely': ['rearranging'], 'rearranging': ['their'], 'their': ['prejudices.']}\n"
     ]
    }
   ],
   "source": [
    "file = open('grouchy.txt' , 'r')\n",
    "model={}\n",
    "ans=[]\n",
    "for line in file:\n",
    "    line = line.lower().split()\n",
    "    for i,word in enumerate(line):\n",
    "        if i==len(line)-1:\n",
    "            model['END'] = model.get('END',[]) + [word]\n",
    "        else:\n",
    "            if i==0:\n",
    "                model['START'] = model.get('START',[]) + [word]\n",
    "            model[word] = model.get(word,[]) + [line[i+1]]   \n",
    "                \n",
    "print(model)                "
   ]
  },
  {
   "cell_type": "code",
   "execution_count": 95,
   "metadata": {},
   "outputs": [
    {
     "name": "stdout",
     "output_type": "stream",
     "text": [
      "['there', 'are', 'thinking', 'when', 'they', 'are', 'all', 'cannibals,assassins,traitors,', 'liars', 'and', 'having', 'good', 'taste.']\n"
     ]
    }
   ],
   "source": [
    "import random \n",
    "\n",
    "generated = []\n",
    "while True:\n",
    "    if generated==[]:\n",
    "        words = model['START']\n",
    "    elif generated[-1] in model['END']:\n",
    "        break\n",
    "    else:\n",
    "        words = model[generated[-1]]\n",
    "    generated.append(random.choice(words))  \n",
    "    \n",
    "    \n",
    "print(generated) "
   ]
  },
  {
   "cell_type": "code",
   "execution_count": 96,
   "metadata": {},
   "outputs": [
    {
     "name": "stdout",
     "output_type": "stream",
     "text": [
      " there are thinking when they are all cannibals,assassins,traitors, liars and having good taste. \n"
     ]
    }
   ],
   "source": [
    "s=\" \"\n",
    "for i in range(0,len(generated)):\n",
    "    s+=generated[i]+\" \"\n",
    "ans.append(s)\n",
    "print(s)    "
   ]
  },
  {
   "cell_type": "code",
   "execution_count": 97,
   "metadata": {},
   "outputs": [
    {
     "name": "stdout",
     "output_type": "stream",
     "text": [
      "[' go into the truth is more likely that under the truth is more honest. ', ' silly to choose between being human intelligence long enough to choose between being human and having good taste. ', \" i don't like principles. i prefer prejudices. \", ' a dollar, and see which will respect you hav to get money from it. ', ' there are more honest. ', ' there are merely rearranging their prejudices. ', ' advertising may be described as the street and having good taste. ', \" i don't like principles. i don't like principles. i prefer prejudices. \", ' there are thinking when they are all cannibals,assassins,traitors, liars and having good taste. ']\n"
     ]
    }
   ],
   "source": [
    "print (ans)"
   ]
  },
  {
   "cell_type": "code",
   "execution_count": 98,
   "metadata": {},
   "outputs": [
    {
     "name": "stdout",
     "output_type": "stream",
     "text": [
      " go into the truth is more likely that under the truth is more honest. \n",
      "\n",
      " silly to choose between being human intelligence long enough to choose between being human and having good taste. \n",
      "\n",
      " i don't like principles. i prefer prejudices. \n",
      "\n",
      " a dollar, and see which will respect you hav to get money from it. \n",
      "\n",
      " there are more honest. \n",
      "\n",
      " there are merely rearranging their prejudices. \n",
      "\n",
      " advertising may be described as the street and having good taste. \n",
      "\n",
      " i don't like principles. i don't like principles. i prefer prejudices. \n",
      "\n",
      " there are thinking when they are all cannibals,assassins,traitors, liars and having good taste. \n",
      "\n"
     ]
    }
   ],
   "source": [
    "for i in range(0,len(ans)):\n",
    "    print(ans[i] +\"\\n\")"
   ]
  },
  {
   "cell_type": "code",
   "execution_count": null,
   "metadata": {
    "collapsed": true
   },
   "outputs": [],
   "source": []
  }
 ],
 "metadata": {
  "kernelspec": {
   "display_name": "Python 3",
   "language": "python",
   "name": "python3"
  },
  "language_info": {
   "codemirror_mode": {
    "name": "ipython",
    "version": 3
   },
   "file_extension": ".py",
   "mimetype": "text/x-python",
   "name": "python",
   "nbconvert_exporter": "python",
   "pygments_lexer": "ipython3",
   "version": "3.6.3"
  }
 },
 "nbformat": 4,
 "nbformat_minor": 2
}
