{
 "cells": [
  {
   "cell_type": "code",
   "execution_count": null,
   "metadata": {
    "collapsed": true
   },
   "outputs": [],
   "source": [
    "#importing general plots\n",
    "import numpy as np\n",
    "import pandas as pd"
   ]
  },
  {
   "cell_type": "code",
   "execution_count": null,
   "metadata": {
    "collapsed": true
   },
   "outputs": [],
   "source": [
    "#taking out data from train.csv\n",
    "dataset = pd.read_csv('train.csv')"
   ]
  },
  {
   "cell_type": "code",
   "execution_count": null,
   "metadata": {
    "collapsed": true
   },
   "outputs": [],
   "source": [
    "#Checking out dataset\n",
    "dataset.head()"
   ]
  },
  {
   "cell_type": "code",
   "execution_count": null,
   "metadata": {
    "collapsed": true
   },
   "outputs": [],
   "source": [
    "#Shape of dataset\n",
    "dataset.shape"
   ]
  },
  {
   "cell_type": "code",
   "execution_count": null,
   "metadata": {
    "collapsed": true
   },
   "outputs": [],
   "source": [
    "#Cleaning the texts\n",
    "import re\n",
    "import nltk\n",
    "\n",
    "#Downloading stopwords\n",
    "nltk.download('stopwords')"
   ]
  },
  {
   "cell_type": "code",
   "execution_count": null,
   "metadata": {
    "collapsed": true
   },
   "outputs": [],
   "source": [
    "from nltk.corpus import stopwords\n",
    "from nltk.stem.porter import PorterStemmer"
   ]
  },
  {
   "cell_type": "code",
   "execution_count": null,
   "metadata": {
    "collapsed": true
   },
   "outputs": [],
   "source": [
    "#Removing all the numbers and characters other than a to z and A to Z\n",
    "review = re.sub('[^a-zA-Z]' , ' ' , dataset['comment_text'][0])\n",
    "print(review)"
   ]
  },
  {
   "cell_type": "code",
   "execution_count": null,
   "metadata": {
    "collapsed": true
   },
   "outputs": [],
   "source": [
    "# for i in range(0 , 95851):\n",
    "#     #Removing all the numbers and characters other than a to z and A to Z\n",
    "#     review = re.sub('[^a-zA-Z]' , ' ' , dataset['comment_text'][i])\n",
    "#     #Converting into lower case\n",
    "#     review = review.lower()\n",
    "#     #Splitting\n",
    "#     review = review.split()\n",
    "#     #Appying Stemmer \n",
    "#     ps = PorterStemmer()\n",
    "#     review = [ps.stem(word) for word in review if not word in set(stopwords.words('english'))]\n",
    "#     # Again join with space to form sentence\n",
    "#     review = ' '.join(review)\n",
    "#     #Appending to corpus list\n",
    "#     #corpus.append(review)\n",
    "#     dataset['comment_text'][i] = review"
   ]
  },
  {
   "cell_type": "code",
   "execution_count": null,
   "metadata": {
    "collapsed": true
   },
   "outputs": [],
   "source": [
    "dataset['comment_text'] = dataset['comment_text'].apply(lambda x: x.lower())\n",
    "dataset['comment_text'] = dataset['comment_text'].apply((lambda x: re.sub('[^a-zA-z0-9\\s]','',x)))"
   ]
  },
  {
   "cell_type": "code",
   "execution_count": null,
   "metadata": {
    "collapsed": true
   },
   "outputs": [],
   "source": [
    "dataset.head()   "
   ]
  },
  {
   "cell_type": "code",
   "execution_count": null,
   "metadata": {
    "collapsed": true
   },
   "outputs": [],
   "source": [
    "from keras.preprocessing.text import Tokenizer\n",
    "from keras.preprocessing.sequence import pad_sequences\n",
    "from keras.models import Sequential\n",
    "from keras.layers import Dense, Embedding, LSTM\n",
    "from sklearn.model_selection import train_test_split\n",
    "from keras.utils.np_utils import to_categorical"
   ]
  },
  {
   "cell_type": "code",
   "execution_count": null,
   "metadata": {
    "collapsed": true
   },
   "outputs": [],
   "source": [
    "tokenizer = Tokenizer(num_words=2000, split=' ')\n",
    "tokenizer.fit_on_texts(dataset['comment_text'].values)\n",
    "X = tokenizer.texts_to_sequences(dataset['comment_text'].values)"
   ]
  },
  {
   "cell_type": "code",
   "execution_count": null,
   "metadata": {
    "collapsed": true
   },
   "outputs": [],
   "source": [
    "X = pad_sequences(X)"
   ]
  },
  {
   "cell_type": "code",
   "execution_count": null,
   "metadata": {
    "collapsed": true
   },
   "outputs": [],
   "source": [
    "X"
   ]
  },
  {
   "cell_type": "code",
   "execution_count": null,
   "metadata": {
    "collapsed": true
   },
   "outputs": [],
   "source": [
    "len(X)"
   ]
  },
  {
   "cell_type": "code",
   "execution_count": null,
   "metadata": {
    "collapsed": true
   },
   "outputs": [],
   "source": [
    "tokenizer.document_count"
   ]
  },
  {
   "cell_type": "code",
   "execution_count": null,
   "metadata": {
    "collapsed": true
   },
   "outputs": [],
   "source": [
    "X.shape"
   ]
  },
  {
   "cell_type": "code",
   "execution_count": null,
   "metadata": {
    "collapsed": true
   },
   "outputs": [],
   "source": [
    "embed_dim = 128\n",
    "lstm_out = 196\n",
    "max_features = 2000\n",
    "model = Sequential()\n",
    "model.add(Embedding(max_features, embed_dim,input_length = X.shape[1], dropout=0.2))\n",
    "model.add(LSTM(lstm_out, dropout_U=0.2, dropout_W=0.2))\n",
    "model.add(Dense(6,activation='softmax'))\n",
    "model.compile(loss = 'categorical_crossentropy', optimizer='adam',metrics = ['accuracy'])\n",
    "print(model.summary())"
   ]
  },
  {
   "cell_type": "code",
   "execution_count": null,
   "metadata": {
    "collapsed": true
   },
   "outputs": [],
   "source": [
    "Y = dataset.iloc[ : , [2,3,4,5,6,7]].values"
   ]
  },
  {
   "cell_type": "code",
   "execution_count": null,
   "metadata": {
    "collapsed": true
   },
   "outputs": [],
   "source": [
    "Y"
   ]
  },
  {
   "cell_type": "code",
   "execution_count": null,
   "metadata": {
    "collapsed": true
   },
   "outputs": [],
   "source": [
    "X_train, X_test, Y_train, Y_test = train_test_split(X,Y, test_size = 0.33, random_state = 42)\n",
    "print(X_train.shape,Y_train.shape)\n",
    "print(X_test.shape,Y_test.shape)"
   ]
  },
  {
   "cell_type": "code",
   "execution_count": null,
   "metadata": {
    "collapsed": true
   },
   "outputs": [],
   "source": [
    "batch_size = 32\n",
    "model.fit(X_train, Y_train, nb_epoch = 100, batch_size=batch_size, verbose = 2)\n",
    "model.save_weights(\"Weights.hdf5\")"
   ]
  },
  {
   "cell_type": "code",
   "execution_count": null,
   "metadata": {
    "collapsed": true
   },
   "outputs": [],
   "source": [
    "validation_size = 1500\n",
    "\n",
    "X_validate = X_test[-validation_size:]\n",
    "Y_validate = Y_test[-validation_size:]\n",
    "X_test = X_test[:-validation_size]\n",
    "Y_test = Y_test[:-validation_size]\n",
    "score,acc = model.evaluate(X_test, Y_test, verbose = 2, batch_size = batch_size)\n",
    "print(\"score: %.2f\" % (score))\n",
    "print(\"acc: %.2f\" % (acc))"
   ]
  },
  {
   "cell_type": "markdown",
   "metadata": {
    "collapsed": true
   },
   "source": [
    "## New Post"
   ]
  },
  {
   "cell_type": "code",
   "execution_count": 1,
   "metadata": {
    "collapsed": true
   },
   "outputs": [],
   "source": [
    "import pandas as pd # provide sql-like data manipulation tools. very handy.\n",
    "pd.options.mode.chained_assignment = None\n",
    "import numpy as np # high dimensional vector computing library.\n",
    "from copy import deepcopy\n",
    "from string import punctuation\n",
    "from random import shuffle\n",
    "\n",
    "import gensim\n",
    "from gensim.models.word2vec import Word2Vec # the word2vec model gensim class\n",
    "LabeledSentence = gensim.models.doc2vec.LabeledSentence # we'll talk about this down below\n",
    "\n",
    "from tqdm import tqdm\n",
    "tqdm.pandas(desc=\"progress-bar\")\n",
    "\n",
    "from nltk.tokenize import TweetTokenizer # a tweet tokenizer from nltk.\n",
    "tokenizer = TweetTokenizer()\n",
    "\n",
    "from sklearn.model_selection import train_test_split\n",
    "from sklearn.feature_extraction.text import TfidfVectorizer\n",
    "import re"
   ]
  },
  {
   "cell_type": "code",
   "execution_count": 2,
   "metadata": {},
   "outputs": [
    {
     "name": "stdout",
     "output_type": "stream",
     "text": [
      "dataset loaded with shape (95851, 7)\n"
     ]
    }
   ],
   "source": [
    "def ingest():\n",
    "    data = pd.read_csv('./train.csv')\n",
    "    data.drop(['id'], axis=1, inplace=True)\n",
    "    print ('dataset loaded with shape', data.shape)    \n",
    "    return data\n",
    "\n",
    "def testInjest():\n",
    "    data_test = pd.read_csv('./test.csv')\n",
    "    data_test.drop(['id'], axis=1, inplace=True)\n",
    "    return data_test\n",
    "\n",
    "data = ingest()\n",
    "data_test = testInjest()\n",
    "data.head(5)\n",
    "data.shape\n",
    "data['comment_text'] = data['comment_text'].apply((lambda x: re.sub('[^a-zA-z0-9\\s]','',x)))\n",
    "data['comment_text'] = data['comment_text'].apply(lambda x: x.lower())\n",
    "\n",
    "data_test['comment_text'] = data_test['comment_text'].apply((lambda x: re.sub('[^a-zA-z]',' ',str(x))))\n",
    "data_test['comment_text'] = data_test['comment_text'].apply(lambda x: x.lower())"
   ]
  },
  {
   "cell_type": "code",
   "execution_count": 3,
   "metadata": {},
   "outputs": [
    {
     "data": {
      "text/html": [
       "<div>\n",
       "<style>\n",
       "    .dataframe thead tr:only-child th {\n",
       "        text-align: right;\n",
       "    }\n",
       "\n",
       "    .dataframe thead th {\n",
       "        text-align: left;\n",
       "    }\n",
       "\n",
       "    .dataframe tbody tr th {\n",
       "        vertical-align: top;\n",
       "    }\n",
       "</style>\n",
       "<table border=\"1\" class=\"dataframe\">\n",
       "  <thead>\n",
       "    <tr style=\"text-align: right;\">\n",
       "      <th></th>\n",
       "      <th>comment_text</th>\n",
       "    </tr>\n",
       "  </thead>\n",
       "  <tbody>\n",
       "    <tr>\n",
       "      <th>0</th>\n",
       "      <td>orphaned non free media  image   cd jboevl  ...</td>\n",
       "    </tr>\n",
       "    <tr>\n",
       "      <th>1</th>\n",
       "      <td>kentuckiana is colloquial   even though the ...</td>\n",
       "    </tr>\n",
       "    <tr>\n",
       "      <th>2</th>\n",
       "      <td>hello fellow wikipedians  i have just modified...</td>\n",
       "    </tr>\n",
       "    <tr>\n",
       "      <th>3</th>\n",
       "      <td>akc suspensions  the morning call   feb       ...</td>\n",
       "    </tr>\n",
       "    <tr>\n",
       "      <th>4</th>\n",
       "      <td>[wiki_link  talk celts]</td>\n",
       "    </tr>\n",
       "    <tr>\n",
       "      <th>5</th>\n",
       "      <td>hello xdes  [wiki_link  wikipedia introduction...</td>\n",
       "    </tr>\n",
       "    <tr>\n",
       "      <th>6</th>\n",
       "      <td>hi there  i m   i just wanted to let you know ...</td>\n",
       "    </tr>\n",
       "    <tr>\n",
       "      <th>7</th>\n",
       "      <td>i don t think a stuffed arm really counts as...</td>\n",
       "    </tr>\n",
       "    <tr>\n",
       "      <th>8</th>\n",
       "      <td>was it ever really a single in the uk</td>\n",
       "    </tr>\n",
       "    <tr>\n",
       "      <th>9</th>\n",
       "      <td>thanks for uploading [wiki_link  image cloudco...</td>\n",
       "    </tr>\n",
       "  </tbody>\n",
       "</table>\n",
       "</div>"
      ],
      "text/plain": [
       "                                        comment_text\n",
       "0    orphaned non free media  image   cd jboevl  ...\n",
       "1    kentuckiana is colloquial   even though the ...\n",
       "2  hello fellow wikipedians  i have just modified...\n",
       "3  akc suspensions  the morning call   feb       ...\n",
       "4                         [wiki_link  talk celts]   \n",
       "5  hello xdes  [wiki_link  wikipedia introduction...\n",
       "6  hi there  i m   i just wanted to let you know ...\n",
       "7    i don t think a stuffed arm really counts as...\n",
       "8           was it ever really a single in the uk   \n",
       "9  thanks for uploading [wiki_link  image cloudco..."
      ]
     },
     "execution_count": 3,
     "metadata": {},
     "output_type": "execute_result"
    }
   ],
   "source": [
    "data_test.head(10)"
   ]
  },
  {
   "cell_type": "code",
   "execution_count": 4,
   "metadata": {},
   "outputs": [
    {
     "data": {
      "text/plain": [
       "(226998, 1)"
      ]
     },
     "execution_count": 4,
     "metadata": {},
     "output_type": "execute_result"
    }
   ],
   "source": [
    "data_test.shape"
   ]
  },
  {
   "cell_type": "code",
   "execution_count": 5,
   "metadata": {
    "collapsed": true
   },
   "outputs": [],
   "source": [
    "def tokenize(tweet):\n",
    "    try:\n",
    "#        tweet = unicode(tweet.decode('utf-8').lower())\n",
    "        tokens = tokenizer.tokenize(tweet)\n",
    "#         tokens = filter(lambda t: not t.startswith('@'), tokens)\n",
    "#         tokens = filter(lambda t: not t.startswith('#'), tokens)\n",
    "#         tokens = filter(lambda t: not t.startswith('http'), tokens)\n",
    "        return tokens\n",
    "    except:\n",
    "        return 'NC'"
   ]
  },
  {
   "cell_type": "code",
   "execution_count": 6,
   "metadata": {},
   "outputs": [
    {
     "name": "stderr",
     "output_type": "stream",
     "text": [
      "progress-bar: 100%|██████████| 10000/10000 [00:02<00:00, 3940.06it/s]\n",
      "progress-bar: 100%|██████████| 226998/226998 [01:10<00:00, 3203.91it/s]\n"
     ]
    }
   ],
   "source": [
    "def postprocess(data, n=10000):\n",
    "    data = data.head(n)\n",
    "    data['comment_text'] = data['comment_text'].progress_map(tokenize)  ## progress_map is a variant of the map function plus a progress bar. Handy to monitor DataFrame creations.\n",
    "#    data = data[data.tokens != 'NC']\n",
    "    data.reset_index(inplace=True)\n",
    "    data.drop('index', inplace=True, axis=1)\n",
    "    return data\n",
    "\n",
    "def postprocess1(data, n=226998):\n",
    "    data = data.head(n)\n",
    "    data['comment_text'] = data['comment_text'].progress_map(tokenize)  ## progress_map is a variant of the map function plus a progress bar. Handy to monitor DataFrame creations.\n",
    "#    data = data[data.tokens != 'NC']\n",
    "    data.reset_index(inplace=True)\n",
    "    data.drop('index', inplace=True, axis=1)\n",
    "    return data\n",
    "\n",
    "\n",
    "data = postprocess(data)\n",
    "data_test = postprocess1(data_test)"
   ]
  },
  {
   "cell_type": "code",
   "execution_count": 7,
   "metadata": {},
   "outputs": [
    {
     "data": {
      "text/html": [
       "<div>\n",
       "<style>\n",
       "    .dataframe thead tr:only-child th {\n",
       "        text-align: right;\n",
       "    }\n",
       "\n",
       "    .dataframe thead th {\n",
       "        text-align: left;\n",
       "    }\n",
       "\n",
       "    .dataframe tbody tr th {\n",
       "        vertical-align: top;\n",
       "    }\n",
       "</style>\n",
       "<table border=\"1\" class=\"dataframe\">\n",
       "  <thead>\n",
       "    <tr style=\"text-align: right;\">\n",
       "      <th></th>\n",
       "      <th>comment_text</th>\n",
       "      <th>toxic</th>\n",
       "      <th>severe_toxic</th>\n",
       "      <th>obscene</th>\n",
       "      <th>threat</th>\n",
       "      <th>insult</th>\n",
       "      <th>identity_hate</th>\n",
       "    </tr>\n",
       "  </thead>\n",
       "  <tbody>\n",
       "    <tr>\n",
       "      <th>0</th>\n",
       "      <td>[nonsense, kiss, off, geek, what, i, said, is,...</td>\n",
       "      <td>1</td>\n",
       "      <td>0</td>\n",
       "      <td>0</td>\n",
       "      <td>0</td>\n",
       "      <td>0</td>\n",
       "      <td>0</td>\n",
       "    </tr>\n",
       "    <tr>\n",
       "      <th>1</th>\n",
       "      <td>[please, do, not, vandalize, pages, as, you, d...</td>\n",
       "      <td>0</td>\n",
       "      <td>0</td>\n",
       "      <td>0</td>\n",
       "      <td>0</td>\n",
       "      <td>0</td>\n",
       "      <td>0</td>\n",
       "    </tr>\n",
       "    <tr>\n",
       "      <th>2</th>\n",
       "      <td>[points, of, interest, i, removed, the, points...</td>\n",
       "      <td>0</td>\n",
       "      <td>0</td>\n",
       "      <td>0</td>\n",
       "      <td>0</td>\n",
       "      <td>0</td>\n",
       "      <td>0</td>\n",
       "    </tr>\n",
       "    <tr>\n",
       "      <th>3</th>\n",
       "      <td>[asking, some, his, nationality, is, a, racial...</td>\n",
       "      <td>0</td>\n",
       "      <td>0</td>\n",
       "      <td>0</td>\n",
       "      <td>0</td>\n",
       "      <td>0</td>\n",
       "      <td>0</td>\n",
       "    </tr>\n",
       "    <tr>\n",
       "      <th>4</th>\n",
       "      <td>[the, reader, here, is, not, going, by, my, sa...</td>\n",
       "      <td>0</td>\n",
       "      <td>0</td>\n",
       "      <td>0</td>\n",
       "      <td>0</td>\n",
       "      <td>0</td>\n",
       "      <td>0</td>\n",
       "    </tr>\n",
       "  </tbody>\n",
       "</table>\n",
       "</div>"
      ],
      "text/plain": [
       "                                        comment_text  toxic  severe_toxic  \\\n",
       "0  [nonsense, kiss, off, geek, what, i, said, is,...      1             0   \n",
       "1  [please, do, not, vandalize, pages, as, you, d...      0             0   \n",
       "2  [points, of, interest, i, removed, the, points...      0             0   \n",
       "3  [asking, some, his, nationality, is, a, racial...      0             0   \n",
       "4  [the, reader, here, is, not, going, by, my, sa...      0             0   \n",
       "\n",
       "   obscene  threat  insult  identity_hate  \n",
       "0        0       0       0              0  \n",
       "1        0       0       0              0  \n",
       "2        0       0       0              0  \n",
       "3        0       0       0              0  \n",
       "4        0       0       0              0  "
      ]
     },
     "execution_count": 7,
     "metadata": {},
     "output_type": "execute_result"
    }
   ],
   "source": [
    "data.head()"
   ]
  },
  {
   "cell_type": "code",
   "execution_count": 8,
   "metadata": {},
   "outputs": [
    {
     "data": {
      "text/plain": [
       "(226998, 1)"
      ]
     },
     "execution_count": 8,
     "metadata": {},
     "output_type": "execute_result"
    }
   ],
   "source": [
    "data_test.head()\n",
    "data_test.shape"
   ]
  },
  {
   "cell_type": "code",
   "execution_count": 9,
   "metadata": {
    "collapsed": true
   },
   "outputs": [],
   "source": [
    "n=10000\n",
    "x = np.array(data.head(n).comment_text)\n",
    "xpTest = np.array(data_test.comment_text)"
   ]
  },
  {
   "cell_type": "code",
   "execution_count": 10,
   "metadata": {},
   "outputs": [
    {
     "data": {
      "text/plain": [
       "array([ list(['nonsense', 'kiss', 'off', 'geek', 'what', 'i', 'said', 'is', 'true', 'ill', 'have', 'your', 'account', 'terminated']),\n",
       "       list(['please', 'do', 'not', 'vandalize', 'pages', 'as', 'you', 'did', 'with', 'this', 'edit', 'to', 'w', 's', 'merwin', 'if', 'you', 'continue', 'to', 'do', 'so', 'you', 'will', 'be', 'blocked', 'from', 'editing']),\n",
       "       list(['points', 'of', 'interest', 'i', 'removed', 'the', 'points', 'of', 'interest', 'section', 'you', 'added', 'because', 'it', 'seemed', 'kind', 'of', 'spammy', 'i', 'know', 'you', 'probably', 'didnt', 'mean', 'to', 'disobey', 'the', 'rules', 'but', 'generally', 'a', 'point', 'of', 'interest', 'tends', 'to', 'be', 'rather', 'touristy', 'and', 'quite', 'irrelevant', 'to', 'an', 'area', 'culture', 'thats', 'just', 'my', 'opinion', 'though', 'if', 'you', 'want', 'to', 'reply', 'just', 'put', 'your', 'reply', 'here', 'and', 'add', 'talkbackjamiegraham', '08', 'on', 'my', 'talkpage']),\n",
       "       ...,\n",
       "       list(['i', 'just', 'updated', 'the', 'early', 'life', 'section', 'of', 'the', 'diane', 'keaton', 'article', 'it', 'had', 'listed', 'her', 'birthplace', 'incorrectly', 'as', 'santa', 'ana', 'ca', 'but', 'in', 'a', 'public', 'radio', 'interview', 'diane', 'keaton', 'said', 'i', 'was', 'born', 'in', 'highland', 'park', 'which', 'is', 'a', 'suburb', 'of', 'los', 'angeles', 'you', 'can', 'hear', 'her', 'say', 'it', 'by', 'listening', 'to', 'the', 'real', 'audio', 'archive', 'of', 'the', 'show', 'here', 'httpwwwpublicradioorgtoolsmediaplayerkpccnewsshowsairtalk', '2007112007', '1107_airtalk2start002522end005231', 'also', 'i', 'personally', 'asked', 'her', 'yes', 'in', 'person', 'where', 'she', 'was', 'born', 'and', 'she', 'told', 'me', 'the', 'exact', 'hospital', 'in', 'los', 'angeles', 'she', 'told', 'me', 'where', 'she', 'went', 'to', 'elementary', 'school', 'but', 'i', 'assume', 'these', 'details', 'are', 'too', 'obscure', 'to', 'include', 'in', 'this', 'article', 'so', 'please', 'dont', 'change', 'the', 'birthplace', 'back', 'to', 'santa', 'ana', '6677102', '10', 'signed', 'by', 'malfalfa']),\n",
       "       list(['or', 'to', 'call', 'people', 'to', 'action']),\n",
       "       list(['nandesuka', 'you', 'asked', 'for', 'it', 'you', 'can', 'certify', 'it', 'wikipediarequests_for_commentuser_conductuse_of_administrator_privileges'])], dtype=object)"
      ]
     },
     "execution_count": 10,
     "metadata": {},
     "output_type": "execute_result"
    }
   ],
   "source": [
    "x"
   ]
  },
  {
   "cell_type": "code",
   "execution_count": 11,
   "metadata": {},
   "outputs": [
    {
     "data": {
      "text/plain": [
       "226998"
      ]
     },
     "execution_count": 11,
     "metadata": {},
     "output_type": "execute_result"
    }
   ],
   "source": [
    "len(xpTest)"
   ]
  },
  {
   "cell_type": "code",
   "execution_count": 12,
   "metadata": {
    "collapsed": true
   },
   "outputs": [],
   "source": [
    "y = data.iloc[ : , [1,2,3,4,5,6]].values"
   ]
  },
  {
   "cell_type": "code",
   "execution_count": 13,
   "metadata": {},
   "outputs": [
    {
     "data": {
      "text/plain": [
       "array([[1, 0, 0, 0, 0, 0],\n",
       "       [0, 0, 0, 0, 0, 0],\n",
       "       [0, 0, 0, 0, 0, 0],\n",
       "       ..., \n",
       "       [0, 0, 0, 0, 0, 0],\n",
       "       [0, 0, 0, 0, 0, 0],\n",
       "       [0, 0, 0, 0, 0, 0]])"
      ]
     },
     "execution_count": 13,
     "metadata": {},
     "output_type": "execute_result"
    }
   ],
   "source": [
    "y"
   ]
  },
  {
   "cell_type": "code",
   "execution_count": 14,
   "metadata": {
    "collapsed": true
   },
   "outputs": [],
   "source": [
    "x_train, x_test, y_train, y_test = train_test_split(x,\n",
    "                                                    y, test_size=0.2)"
   ]
  },
  {
   "cell_type": "code",
   "execution_count": 15,
   "metadata": {},
   "outputs": [
    {
     "name": "stderr",
     "output_type": "stream",
     "text": [
      "8000it [00:00, 169117.49it/s]\n",
      "2000it [00:00, 5013.28it/s]\n",
      "226998it [00:02, 103639.88it/s]\n"
     ]
    }
   ],
   "source": [
    "def labelizeTweets(tweets, label_type):\n",
    "    labelized = []\n",
    "    for i,v in tqdm(enumerate(tweets)):\n",
    "        label = '%s_%s'%(label_type,i)\n",
    "        labelized.append(LabeledSentence(v, [label]))\n",
    "    return labelized\n",
    "\n",
    "x_train = labelizeTweets(x_train, 'TRAIN')\n",
    "x_test = labelizeTweets(x_test, 'TEST')\n",
    "xpTest = labelizeTweets(xpTest, 'xpTEST')"
   ]
  },
  {
   "cell_type": "code",
   "execution_count": 16,
   "metadata": {},
   "outputs": [
    {
     "data": {
      "text/plain": [
       "226998"
      ]
     },
     "execution_count": 16,
     "metadata": {},
     "output_type": "execute_result"
    }
   ],
   "source": [
    "len(xpTest)"
   ]
  },
  {
   "cell_type": "code",
   "execution_count": 17,
   "metadata": {},
   "outputs": [
    {
     "name": "stderr",
     "output_type": "stream",
     "text": [
      "100%|██████████| 8000/8000 [00:00<00:00, 932041.67it/s]\n",
      "100%|██████████| 8000/8000 [00:00<00:00, 1999310.73it/s]\n"
     ]
    },
    {
     "data": {
      "text/plain": [
       "3420598"
      ]
     },
     "execution_count": 17,
     "metadata": {},
     "output_type": "execute_result"
    }
   ],
   "source": [
    "n_dim = 200\n",
    "tweet_w2v = Word2Vec(size=n_dim, min_count=10)\n",
    "tweet_w2v.build_vocab([x.words for x in tqdm(x_train)])\n",
    "tweet_w2v.train([x.words for x in tqdm(x_train)],total_examples=len(x_train), epochs=10)"
   ]
  },
  {
   "cell_type": "code",
   "execution_count": 19,
   "metadata": {},
   "outputs": [
    {
     "data": {
      "text/plain": [
       "array([-0.25759232, -0.99670386,  0.26657301, -0.63389981, -0.30830094,\n",
       "        0.15656102,  0.47987151,  1.22145283, -0.09960952,  0.42798677,\n",
       "       -0.74000555,  0.075938  , -0.38502222, -0.49958444,  0.00861467,\n",
       "        0.39894897,  0.67205936, -0.02732331, -0.18476877, -0.11404433,\n",
       "        0.36216992,  0.82004607, -0.04830433,  0.23204032, -0.14637035,\n",
       "       -1.2669903 ,  0.58442867, -0.14846356,  0.35605308,  0.09233005,\n",
       "       -0.35808015,  0.7529766 , -0.26567975, -0.23604631,  0.52110869,\n",
       "        0.16594715, -0.45184255, -0.61769265,  1.27338481,  0.24343514,\n",
       "        0.14448997,  0.15199378, -1.39991617,  0.29529026, -0.20572756,\n",
       "       -0.60996574, -0.05450011, -0.76332712,  1.14842832, -0.6524325 ,\n",
       "       -0.34237388,  0.48871821,  0.41875759, -0.1616372 ,  0.24828674,\n",
       "        0.73550773,  0.30104232,  0.333731  ,  0.48710728, -0.72088033,\n",
       "       -0.50250465,  0.43601364, -0.41276318, -0.71392399,  0.19569461,\n",
       "        0.03967543, -0.0102915 , -0.19344939, -0.58287108,  0.45105025,\n",
       "       -0.05761356, -0.04411222,  0.47517875,  0.33898202, -0.71720564,\n",
       "        0.30306521,  0.43190572,  0.18150951,  1.11237943,  0.2989291 ,\n",
       "       -0.18308111,  0.28969154,  0.20836864,  0.72164279,  0.17675495,\n",
       "        0.72303861, -1.30991781, -0.02628503,  0.1718474 , -0.65993202,\n",
       "       -0.02056797,  0.79212141,  0.31805855, -1.37352133,  0.14960426,\n",
       "       -0.20801392, -0.55830759, -0.15418573, -0.7535432 ,  0.12905879,\n",
       "        0.35589176, -0.09253953,  1.07064545, -0.37424865, -0.53589159,\n",
       "       -0.4154821 , -0.84972227,  0.13902362, -0.39794576,  0.00467154,\n",
       "       -0.48671365,  0.51159126, -0.55533028, -0.88359648, -1.11327004,\n",
       "       -0.40524763,  0.54645813,  0.34920341, -0.28003865, -0.24924713,\n",
       "        0.52351928,  0.78735036,  0.00836487, -0.10529794, -0.84020293,\n",
       "       -1.22406948, -0.6657775 ,  1.20828569, -0.11262441, -0.0158453 ,\n",
       "        0.28698787,  0.41690201, -0.07156347, -0.4062787 ,  0.8765766 ,\n",
       "       -0.85563451, -0.60374415, -0.80711627, -0.13949208, -0.2187217 ,\n",
       "       -0.25082159, -0.68317592,  0.03914483,  0.45586085, -0.24651588,\n",
       "        0.54501259,  0.49310577, -0.62109357, -0.27646661,  0.06350426,\n",
       "       -0.17849943,  0.44730261, -0.57277709, -0.52511483,  0.38232011,\n",
       "        0.09671007,  0.05501095,  0.35708782,  1.09677351,  0.84315193,\n",
       "       -0.6240992 ,  0.01355852,  0.12644109, -0.37505516, -0.55036449,\n",
       "        0.61061633, -0.34363914, -0.95638877, -0.15883437, -0.63515884,\n",
       "       -0.32411194, -0.15207984,  0.60832095,  0.45612833, -0.70342022,\n",
       "       -0.93726462,  0.04459792, -0.68866515,  0.17408805, -0.71939641,\n",
       "        0.52054971, -0.75096029,  0.35816181,  0.15997347,  0.25633213,\n",
       "       -0.38396996, -1.04259694,  0.37121016,  0.00827444,  0.32056251,\n",
       "        0.1375933 ,  0.1814702 ,  0.42239761,  1.12113857,  0.5582673 ,\n",
       "        0.1378853 , -0.27422854,  0.74978983,  0.54393029,  0.23594959], dtype=float32)"
      ]
     },
     "execution_count": 19,
     "metadata": {},
     "output_type": "execute_result"
    }
   ],
   "source": [
    "tweet_w2v['good']"
   ]
  },
  {
   "cell_type": "code",
   "execution_count": 20,
   "metadata": {},
   "outputs": [
    {
     "data": {
      "text/plain": [
       "[('bad', 0.6639567017555237),\n",
       " ('hard', 0.6068412661552429),\n",
       " ('lot', 0.6033742427825928),\n",
       " ('nice', 0.5778331756591797),\n",
       " ('little', 0.5763011574745178),\n",
       " ('very', 0.5731037855148315),\n",
       " ('pretty', 0.5680286288261414),\n",
       " ('situation', 0.5673562288284302),\n",
       " ('difficult', 0.564617395401001),\n",
       " ('luck', 0.550885021686554)]"
      ]
     },
     "execution_count": 20,
     "metadata": {},
     "output_type": "execute_result"
    }
   ],
   "source": [
    "tweet_w2v.most_similar('good')"
   ]
  },
  {
   "cell_type": "code",
   "execution_count": 16,
   "metadata": {
    "collapsed": true
   },
   "outputs": [],
   "source": [
    "# importing bokeh library for interactive dataviz\n",
    "# import bokeh.plotting as bp\n",
    "# from bokeh.models import HoverTool, BoxSelectTool\n",
    "# from bokeh.plotting import figure, show, output_notebook"
   ]
  },
  {
   "cell_type": "code",
   "execution_count": 19,
   "metadata": {},
   "outputs": [
    {
     "data": {
      "text/html": [
       "\n",
       "    <div class=\"bk-root\">\n",
       "        <a href=\"https://bokeh.pydata.org\" target=\"_blank\" class=\"bk-logo bk-logo-small bk-logo-notebook\"></a>\n",
       "        <span id=\"4772408a-d52c-4d6d-8f51-ec64155cedcd\">Loading BokehJS ...</span>\n",
       "    </div>"
      ]
     },
     "metadata": {},
     "output_type": "display_data"
    },
    {
     "data": {
      "application/javascript": [
       "\n",
       "(function(root) {\n",
       "  function now() {\n",
       "    return new Date();\n",
       "  }\n",
       "\n",
       "  var force = true;\n",
       "\n",
       "  if (typeof (root._bokeh_onload_callbacks) === \"undefined\" || force === true) {\n",
       "    root._bokeh_onload_callbacks = [];\n",
       "    root._bokeh_is_loading = undefined;\n",
       "  }\n",
       "\n",
       "  var JS_MIME_TYPE = 'application/javascript';\n",
       "  var HTML_MIME_TYPE = 'text/html';\n",
       "  var EXEC_MIME_TYPE = 'application/vnd.bokehjs_exec.v0+json';\n",
       "  var CLASS_NAME = 'output_bokeh rendered_html';\n",
       "\n",
       "  /**\n",
       "   * Render data to the DOM node\n",
       "   */\n",
       "  function render(props, node) {\n",
       "    var script = document.createElement(\"script\");\n",
       "    node.appendChild(script);\n",
       "  }\n",
       "\n",
       "  /**\n",
       "   * Handle when an output is cleared or removed\n",
       "   */\n",
       "  function handleClearOutput(event, handle) {\n",
       "    var cell = handle.cell;\n",
       "\n",
       "    var id = cell.output_area._bokeh_element_id;\n",
       "    var server_id = cell.output_area._bokeh_server_id;\n",
       "    // Clean up Bokeh references\n",
       "    if (id !== undefined) {\n",
       "      Bokeh.index[id].model.document.clear();\n",
       "      delete Bokeh.index[id];\n",
       "    }\n",
       "\n",
       "    if (server_id !== undefined) {\n",
       "      // Clean up Bokeh references\n",
       "      var cmd = \"from bokeh.io.state import curstate; print(curstate().uuid_to_server['\" + server_id + \"'].get_sessions()[0].document.roots[0]._id)\";\n",
       "      cell.notebook.kernel.execute(cmd, {\n",
       "        iopub: {\n",
       "          output: function(msg) {\n",
       "            var element_id = msg.content.text.trim();\n",
       "            Bokeh.index[element_id].model.document.clear();\n",
       "            delete Bokeh.index[element_id];\n",
       "          }\n",
       "        }\n",
       "      });\n",
       "      // Destroy server and session\n",
       "      var cmd = \"import bokeh.io.notebook as ion; ion.destroy_server('\" + server_id + \"')\";\n",
       "      cell.notebook.kernel.execute(cmd);\n",
       "    }\n",
       "  }\n",
       "\n",
       "  /**\n",
       "   * Handle when a new output is added\n",
       "   */\n",
       "  function handleAddOutput(event, handle) {\n",
       "    var output_area = handle.output_area;\n",
       "    var output = handle.output;\n",
       "\n",
       "    // limit handleAddOutput to display_data with EXEC_MIME_TYPE content only\n",
       "    if ((output.output_type != \"display_data\") || (!output.data.hasOwnProperty(EXEC_MIME_TYPE))) {\n",
       "      return\n",
       "    }\n",
       "\n",
       "    var toinsert = output_area.element.find(\".\" + CLASS_NAME.split(' ')[0]);\n",
       "\n",
       "    if (output.metadata[EXEC_MIME_TYPE][\"id\"] !== undefined) {\n",
       "      toinsert[0].firstChild.textContent = output.data[JS_MIME_TYPE];\n",
       "      // store reference to embed id on output_area\n",
       "      output_area._bokeh_element_id = output.metadata[EXEC_MIME_TYPE][\"id\"];\n",
       "    }\n",
       "    if (output.metadata[EXEC_MIME_TYPE][\"server_id\"] !== undefined) {\n",
       "      var bk_div = document.createElement(\"div\");\n",
       "      bk_div.innerHTML = output.data[HTML_MIME_TYPE];\n",
       "      var script_attrs = bk_div.children[0].attributes;\n",
       "      for (var i = 0; i < script_attrs.length; i++) {\n",
       "        toinsert[0].firstChild.setAttribute(script_attrs[i].name, script_attrs[i].value);\n",
       "      }\n",
       "      // store reference to server id on output_area\n",
       "      output_area._bokeh_server_id = output.metadata[EXEC_MIME_TYPE][\"server_id\"];\n",
       "    }\n",
       "  }\n",
       "\n",
       "  function register_renderer(events, OutputArea) {\n",
       "\n",
       "    function append_mime(data, metadata, element) {\n",
       "      // create a DOM node to render to\n",
       "      var toinsert = this.create_output_subarea(\n",
       "        metadata,\n",
       "        CLASS_NAME,\n",
       "        EXEC_MIME_TYPE\n",
       "      );\n",
       "      this.keyboard_manager.register_events(toinsert);\n",
       "      // Render to node\n",
       "      var props = {data: data, metadata: metadata[EXEC_MIME_TYPE]};\n",
       "      render(props, toinsert[0]);\n",
       "      element.append(toinsert);\n",
       "      return toinsert\n",
       "    }\n",
       "\n",
       "    /* Handle when an output is cleared or removed */\n",
       "    events.on('clear_output.CodeCell', handleClearOutput);\n",
       "    events.on('delete.Cell', handleClearOutput);\n",
       "\n",
       "    /* Handle when a new output is added */\n",
       "    events.on('output_added.OutputArea', handleAddOutput);\n",
       "\n",
       "    /**\n",
       "     * Register the mime type and append_mime function with output_area\n",
       "     */\n",
       "    OutputArea.prototype.register_mime_type(EXEC_MIME_TYPE, append_mime, {\n",
       "      /* Is output safe? */\n",
       "      safe: true,\n",
       "      /* Index of renderer in `output_area.display_order` */\n",
       "      index: 0\n",
       "    });\n",
       "  }\n",
       "\n",
       "  // register the mime type if in Jupyter Notebook environment and previously unregistered\n",
       "  if (root.Jupyter !== undefined) {\n",
       "    var events = require('base/js/events');\n",
       "    var OutputArea = require('notebook/js/outputarea').OutputArea;\n",
       "\n",
       "    if (OutputArea.prototype.mime_types().indexOf(EXEC_MIME_TYPE) == -1) {\n",
       "      register_renderer(events, OutputArea);\n",
       "    }\n",
       "  }\n",
       "\n",
       "  \n",
       "  if (typeof (root._bokeh_timeout) === \"undefined\" || force === true) {\n",
       "    root._bokeh_timeout = Date.now() + 5000;\n",
       "    root._bokeh_failed_load = false;\n",
       "  }\n",
       "\n",
       "  var NB_LOAD_WARNING = {'data': {'text/html':\n",
       "     \"<div style='background-color: #fdd'>\\n\"+\n",
       "     \"<p>\\n\"+\n",
       "     \"BokehJS does not appear to have successfully loaded. If loading BokehJS from CDN, this \\n\"+\n",
       "     \"may be due to a slow or bad network connection. Possible fixes:\\n\"+\n",
       "     \"</p>\\n\"+\n",
       "     \"<ul>\\n\"+\n",
       "     \"<li>re-rerun `output_notebook()` to attempt to load from CDN again, or</li>\\n\"+\n",
       "     \"<li>use INLINE resources instead, as so:</li>\\n\"+\n",
       "     \"</ul>\\n\"+\n",
       "     \"<code>\\n\"+\n",
       "     \"from bokeh.resources import INLINE\\n\"+\n",
       "     \"output_notebook(resources=INLINE)\\n\"+\n",
       "     \"</code>\\n\"+\n",
       "     \"</div>\"}};\n",
       "\n",
       "  function display_loaded() {\n",
       "    var el = document.getElementById(\"4772408a-d52c-4d6d-8f51-ec64155cedcd\");\n",
       "    if (el != null) {\n",
       "      el.textContent = \"BokehJS is loading...\";\n",
       "    }\n",
       "    if (root.Bokeh !== undefined) {\n",
       "      if (el != null) {\n",
       "        el.textContent = \"BokehJS \" + root.Bokeh.version + \" successfully loaded.\";\n",
       "      }\n",
       "    } else if (Date.now() < root._bokeh_timeout) {\n",
       "      setTimeout(display_loaded, 100)\n",
       "    }\n",
       "  }\n",
       "\n",
       "\n",
       "  function run_callbacks() {\n",
       "    try {\n",
       "      root._bokeh_onload_callbacks.forEach(function(callback) { callback() });\n",
       "    }\n",
       "    finally {\n",
       "      delete root._bokeh_onload_callbacks\n",
       "    }\n",
       "    console.info(\"Bokeh: all callbacks have finished\");\n",
       "  }\n",
       "\n",
       "  function load_libs(js_urls, callback) {\n",
       "    root._bokeh_onload_callbacks.push(callback);\n",
       "    if (root._bokeh_is_loading > 0) {\n",
       "      console.log(\"Bokeh: BokehJS is being loaded, scheduling callback at\", now());\n",
       "      return null;\n",
       "    }\n",
       "    if (js_urls == null || js_urls.length === 0) {\n",
       "      run_callbacks();\n",
       "      return null;\n",
       "    }\n",
       "    console.log(\"Bokeh: BokehJS not loaded, scheduling load and callback at\", now());\n",
       "    root._bokeh_is_loading = js_urls.length;\n",
       "    for (var i = 0; i < js_urls.length; i++) {\n",
       "      var url = js_urls[i];\n",
       "      var s = document.createElement('script');\n",
       "      s.src = url;\n",
       "      s.async = false;\n",
       "      s.onreadystatechange = s.onload = function() {\n",
       "        root._bokeh_is_loading--;\n",
       "        if (root._bokeh_is_loading === 0) {\n",
       "          console.log(\"Bokeh: all BokehJS libraries loaded\");\n",
       "          run_callbacks()\n",
       "        }\n",
       "      };\n",
       "      s.onerror = function() {\n",
       "        console.warn(\"failed to load library \" + url);\n",
       "      };\n",
       "      console.log(\"Bokeh: injecting script tag for BokehJS library: \", url);\n",
       "      document.getElementsByTagName(\"head\")[0].appendChild(s);\n",
       "    }\n",
       "  };var element = document.getElementById(\"4772408a-d52c-4d6d-8f51-ec64155cedcd\");\n",
       "  if (element == null) {\n",
       "    console.log(\"Bokeh: ERROR: autoload.js configured with elementid '4772408a-d52c-4d6d-8f51-ec64155cedcd' but no matching script tag was found. \")\n",
       "    return false;\n",
       "  }\n",
       "\n",
       "  var js_urls = [\"https://cdn.pydata.org/bokeh/release/bokeh-0.12.13.min.js\", \"https://cdn.pydata.org/bokeh/release/bokeh-widgets-0.12.13.min.js\", \"https://cdn.pydata.org/bokeh/release/bokeh-tables-0.12.13.min.js\", \"https://cdn.pydata.org/bokeh/release/bokeh-gl-0.12.13.min.js\"];\n",
       "\n",
       "  var inline_js = [\n",
       "    function(Bokeh) {\n",
       "      Bokeh.set_log_level(\"info\");\n",
       "    },\n",
       "    \n",
       "    function(Bokeh) {\n",
       "      \n",
       "    },\n",
       "    function(Bokeh) {\n",
       "      console.log(\"Bokeh: injecting CSS: https://cdn.pydata.org/bokeh/release/bokeh-0.12.13.min.css\");\n",
       "      Bokeh.embed.inject_css(\"https://cdn.pydata.org/bokeh/release/bokeh-0.12.13.min.css\");\n",
       "      console.log(\"Bokeh: injecting CSS: https://cdn.pydata.org/bokeh/release/bokeh-widgets-0.12.13.min.css\");\n",
       "      Bokeh.embed.inject_css(\"https://cdn.pydata.org/bokeh/release/bokeh-widgets-0.12.13.min.css\");\n",
       "      console.log(\"Bokeh: injecting CSS: https://cdn.pydata.org/bokeh/release/bokeh-tables-0.12.13.min.css\");\n",
       "      Bokeh.embed.inject_css(\"https://cdn.pydata.org/bokeh/release/bokeh-tables-0.12.13.min.css\");\n",
       "    }\n",
       "  ];\n",
       "\n",
       "  function run_inline_js() {\n",
       "    \n",
       "    if ((root.Bokeh !== undefined) || (force === true)) {\n",
       "      for (var i = 0; i < inline_js.length; i++) {\n",
       "        inline_js[i].call(root, root.Bokeh);\n",
       "      }if (force === true) {\n",
       "        display_loaded();\n",
       "      }} else if (Date.now() < root._bokeh_timeout) {\n",
       "      setTimeout(run_inline_js, 100);\n",
       "    } else if (!root._bokeh_failed_load) {\n",
       "      console.log(\"Bokeh: BokehJS failed to load within specified timeout.\");\n",
       "      root._bokeh_failed_load = true;\n",
       "    } else if (force !== true) {\n",
       "      var cell = $(document.getElementById(\"4772408a-d52c-4d6d-8f51-ec64155cedcd\")).parents('.cell').data().cell;\n",
       "      cell.output_area.append_execute_result(NB_LOAD_WARNING)\n",
       "    }\n",
       "\n",
       "  }\n",
       "\n",
       "  if (root._bokeh_is_loading === 0) {\n",
       "    console.log(\"Bokeh: BokehJS loaded, going straight to plotting\");\n",
       "    run_inline_js();\n",
       "  } else {\n",
       "    load_libs(js_urls, function() {\n",
       "      console.log(\"Bokeh: BokehJS plotting callback run at\", now());\n",
       "      run_inline_js();\n",
       "    });\n",
       "  }\n",
       "}(window));"
      ],
      "application/vnd.bokehjs_load.v0+json": "\n(function(root) {\n  function now() {\n    return new Date();\n  }\n\n  var force = true;\n\n  if (typeof (root._bokeh_onload_callbacks) === \"undefined\" || force === true) {\n    root._bokeh_onload_callbacks = [];\n    root._bokeh_is_loading = undefined;\n  }\n\n  \n\n  \n  if (typeof (root._bokeh_timeout) === \"undefined\" || force === true) {\n    root._bokeh_timeout = Date.now() + 5000;\n    root._bokeh_failed_load = false;\n  }\n\n  var NB_LOAD_WARNING = {'data': {'text/html':\n     \"<div style='background-color: #fdd'>\\n\"+\n     \"<p>\\n\"+\n     \"BokehJS does not appear to have successfully loaded. If loading BokehJS from CDN, this \\n\"+\n     \"may be due to a slow or bad network connection. Possible fixes:\\n\"+\n     \"</p>\\n\"+\n     \"<ul>\\n\"+\n     \"<li>re-rerun `output_notebook()` to attempt to load from CDN again, or</li>\\n\"+\n     \"<li>use INLINE resources instead, as so:</li>\\n\"+\n     \"</ul>\\n\"+\n     \"<code>\\n\"+\n     \"from bokeh.resources import INLINE\\n\"+\n     \"output_notebook(resources=INLINE)\\n\"+\n     \"</code>\\n\"+\n     \"</div>\"}};\n\n  function display_loaded() {\n    var el = document.getElementById(\"4772408a-d52c-4d6d-8f51-ec64155cedcd\");\n    if (el != null) {\n      el.textContent = \"BokehJS is loading...\";\n    }\n    if (root.Bokeh !== undefined) {\n      if (el != null) {\n        el.textContent = \"BokehJS \" + root.Bokeh.version + \" successfully loaded.\";\n      }\n    } else if (Date.now() < root._bokeh_timeout) {\n      setTimeout(display_loaded, 100)\n    }\n  }\n\n\n  function run_callbacks() {\n    try {\n      root._bokeh_onload_callbacks.forEach(function(callback) { callback() });\n    }\n    finally {\n      delete root._bokeh_onload_callbacks\n    }\n    console.info(\"Bokeh: all callbacks have finished\");\n  }\n\n  function load_libs(js_urls, callback) {\n    root._bokeh_onload_callbacks.push(callback);\n    if (root._bokeh_is_loading > 0) {\n      console.log(\"Bokeh: BokehJS is being loaded, scheduling callback at\", now());\n      return null;\n    }\n    if (js_urls == null || js_urls.length === 0) {\n      run_callbacks();\n      return null;\n    }\n    console.log(\"Bokeh: BokehJS not loaded, scheduling load and callback at\", now());\n    root._bokeh_is_loading = js_urls.length;\n    for (var i = 0; i < js_urls.length; i++) {\n      var url = js_urls[i];\n      var s = document.createElement('script');\n      s.src = url;\n      s.async = false;\n      s.onreadystatechange = s.onload = function() {\n        root._bokeh_is_loading--;\n        if (root._bokeh_is_loading === 0) {\n          console.log(\"Bokeh: all BokehJS libraries loaded\");\n          run_callbacks()\n        }\n      };\n      s.onerror = function() {\n        console.warn(\"failed to load library \" + url);\n      };\n      console.log(\"Bokeh: injecting script tag for BokehJS library: \", url);\n      document.getElementsByTagName(\"head\")[0].appendChild(s);\n    }\n  };var element = document.getElementById(\"4772408a-d52c-4d6d-8f51-ec64155cedcd\");\n  if (element == null) {\n    console.log(\"Bokeh: ERROR: autoload.js configured with elementid '4772408a-d52c-4d6d-8f51-ec64155cedcd' but no matching script tag was found. \")\n    return false;\n  }\n\n  var js_urls = [\"https://cdn.pydata.org/bokeh/release/bokeh-0.12.13.min.js\", \"https://cdn.pydata.org/bokeh/release/bokeh-widgets-0.12.13.min.js\", \"https://cdn.pydata.org/bokeh/release/bokeh-tables-0.12.13.min.js\", \"https://cdn.pydata.org/bokeh/release/bokeh-gl-0.12.13.min.js\"];\n\n  var inline_js = [\n    function(Bokeh) {\n      Bokeh.set_log_level(\"info\");\n    },\n    \n    function(Bokeh) {\n      \n    },\n    function(Bokeh) {\n      console.log(\"Bokeh: injecting CSS: https://cdn.pydata.org/bokeh/release/bokeh-0.12.13.min.css\");\n      Bokeh.embed.inject_css(\"https://cdn.pydata.org/bokeh/release/bokeh-0.12.13.min.css\");\n      console.log(\"Bokeh: injecting CSS: https://cdn.pydata.org/bokeh/release/bokeh-widgets-0.12.13.min.css\");\n      Bokeh.embed.inject_css(\"https://cdn.pydata.org/bokeh/release/bokeh-widgets-0.12.13.min.css\");\n      console.log(\"Bokeh: injecting CSS: https://cdn.pydata.org/bokeh/release/bokeh-tables-0.12.13.min.css\");\n      Bokeh.embed.inject_css(\"https://cdn.pydata.org/bokeh/release/bokeh-tables-0.12.13.min.css\");\n    }\n  ];\n\n  function run_inline_js() {\n    \n    if ((root.Bokeh !== undefined) || (force === true)) {\n      for (var i = 0; i < inline_js.length; i++) {\n        inline_js[i].call(root, root.Bokeh);\n      }if (force === true) {\n        display_loaded();\n      }} else if (Date.now() < root._bokeh_timeout) {\n      setTimeout(run_inline_js, 100);\n    } else if (!root._bokeh_failed_load) {\n      console.log(\"Bokeh: BokehJS failed to load within specified timeout.\");\n      root._bokeh_failed_load = true;\n    } else if (force !== true) {\n      var cell = $(document.getElementById(\"4772408a-d52c-4d6d-8f51-ec64155cedcd\")).parents('.cell').data().cell;\n      cell.output_area.append_execute_result(NB_LOAD_WARNING)\n    }\n\n  }\n\n  if (root._bokeh_is_loading === 0) {\n    console.log(\"Bokeh: BokehJS loaded, going straight to plotting\");\n    run_inline_js();\n  } else {\n    load_libs(js_urls, function() {\n      console.log(\"Bokeh: BokehJS plotting callback run at\", now());\n      run_inline_js();\n    });\n  }\n}(window));"
     },
     "metadata": {},
     "output_type": "display_data"
    },
    {
     "name": "stdout",
     "output_type": "stream",
     "text": [
      "[t-SNE] Computing 91 nearest neighbors...\n",
      "[t-SNE] Indexed 3934 samples in 0.047s...\n",
      "[t-SNE] Computed neighbors for 3934 samples in 14.114s...\n",
      "[t-SNE] Computed conditional probabilities for sample 1000 / 3934\n",
      "[t-SNE] Computed conditional probabilities for sample 2000 / 3934\n",
      "[t-SNE] Computed conditional probabilities for sample 3000 / 3934\n",
      "[t-SNE] Computed conditional probabilities for sample 3934 / 3934\n",
      "[t-SNE] Mean sigma: 0.300807\n",
      "[t-SNE] KL divergence after 250 iterations with early exaggeration: 81.462791\n",
      "[t-SNE] Error after 1000 iterations: 2.364924\n"
     ]
    },
    {
     "data": {
      "text/html": [
       "\n",
       "<div class=\"bk-root\">\n",
       "    <div class=\"bk-plotdiv\" id=\"ff63e841-2390-4258-aae2-5edcae53907b\"></div>\n",
       "</div>"
      ]
     },
     "metadata": {},
     "output_type": "display_data"
    },
    {
     "data": {
      "application/javascript": [
       "(function(root) {\n",
       "  function embed_document(root) {\n",
       "    \n",
       "  var docs_json = {\"1cc39f5a-eb35-420b-b456-d720e1b83462\":{\"roots\":{\"references\":[{\"attributes\":{},\"id\":\"f4e78bde-a78e-4df1-95f3-c2ed6e1cc4df\",\"type\":\"ResetTool\"},{\"attributes\":{\"callback\":null,\"tooltips\":[[\"word\",\"@words\"]]},\"id\":\"699bf5dc-543a-4bc0-8f04-1501ddfbf1a1\",\"type\":\"HoverTool\"},{\"attributes\":{\"min_border\":1,\"plot_width\":700,\"renderers\":[{\"id\":\"5eedadf0-85f9-433c-9b98-9106e5b24820\",\"type\":\"BoxAnnotation\"},{\"id\":\"cc01da31-9c93-46b5-b614-2d36e6b97d93\",\"type\":\"GlyphRenderer\"}],\"title\":{\"id\":\"cbcd9175-0eb7-4fb1-8aeb-165bbc555d76\",\"type\":\"Title\"},\"toolbar\":{\"id\":\"541af047-3383-409d-9ae1-1c4366295265\",\"type\":\"Toolbar\"},\"x_range\":{\"id\":\"86cb1e24-bcdb-4b23-8a3e-67402031072b\",\"type\":\"DataRange1d\"},\"x_scale\":{\"id\":\"45c809e4-d577-4435-b5a7-09e26281668f\",\"type\":\"LinearScale\"},\"y_range\":{\"id\":\"f82abea4-85c9-42ea-9155-7d813b594f3a\",\"type\":\"DataRange1d\"},\"y_scale\":{\"id\":\"2eff4b34-8aa4-4974-9fe2-6883d872882b\",\"type\":\"LinearScale\"}},\"id\":\"b4e13713-687c-4324-a26f-c47c74b2dc05\",\"subtype\":\"Figure\",\"type\":\"Plot\"},{\"attributes\":{},\"id\":\"0b1f68d6-ece4-4f15-872c-74ff6732b0d6\",\"type\":\"SaveTool\"},{\"attributes\":{\"callback\":null},\"id\":\"86cb1e24-bcdb-4b23-8a3e-67402031072b\",\"type\":\"DataRange1d\"},{\"attributes\":{\"fill_alpha\":{\"value\":0.1},\"fill_color\":{\"value\":\"#1f77b4\"},\"line_alpha\":{\"value\":0.1},\"line_color\":{\"value\":\"#1f77b4\"},\"x\":{\"field\":\"x\"},\"y\":{\"field\":\"y\"}},\"id\":\"c2180802-a271-4be2-8ce8-4e33a1ea7f7f\",\"type\":\"Circle\"},{\"attributes\":{\"plot\":null,\"text\":\"A map of 10000 word vectors\"},\"id\":\"cbcd9175-0eb7-4fb1-8aeb-165bbc555d76\",\"type\":\"Title\"},{\"attributes\":{\"active_drag\":\"auto\",\"active_inspect\":\"auto\",\"active_scroll\":\"auto\",\"active_tap\":\"auto\",\"tools\":[{\"id\":\"211f6d80-f80c-4d68-9d42-d905dc2481e7\",\"type\":\"PanTool\"},{\"id\":\"c60ae8f9-3339-423b-af08-54b4da577a2d\",\"type\":\"WheelZoomTool\"},{\"id\":\"05a19951-c723-423f-80e8-4fb1104711ce\",\"type\":\"BoxZoomTool\"},{\"id\":\"f4e78bde-a78e-4df1-95f3-c2ed6e1cc4df\",\"type\":\"ResetTool\"},{\"id\":\"699bf5dc-543a-4bc0-8f04-1501ddfbf1a1\",\"type\":\"HoverTool\"},{\"id\":\"0b1f68d6-ece4-4f15-872c-74ff6732b0d6\",\"type\":\"SaveTool\"}]},\"id\":\"541af047-3383-409d-9ae1-1c4366295265\",\"type\":\"Toolbar\"},{\"attributes\":{\"callback\":null,\"column_names\":[\"x\",\"y\",\"words\",\"index\"],\"data\":{\"index\":[0,1,2,3,4,5,6,7,8,9,10,11,12,13,14,15,16,17,18,19,20,21,22,23,24,25,26,27,28,29,30,31,32,33,34,35,36,37,38,39,40,41,42,43,44,45,46,47,48,49,50,51,52,53,54,55,56,57,58,59,60,61,62,63,64,65,66,67,68,69,70,71,72,73,74,75,76,77,78,79,80,81,82,83,84,85,86,87,88,89,90,91,92,93,94,95,96,97,98,99,100,101,102,103,104,105,106,107,108,109,110,111,112,113,114,115,116,117,118,119,120,121,122,123,124,125,126,127,128,129,130,131,132,133,134,135,136,137,138,139,140,141,142,143,144,145,146,147,148,149,150,151,152,153,154,155,156,157,158,159,160,161,162,163,164,165,166,167,168,169,170,171,172,173,174,175,176,177,178,179,180,181,182,183,184,185,186,187,188,189,190,191,192,193,194,195,196,197,198,199,200,201,202,203,204,205,206,207,208,209,210,211,212,213,214,215,216,217,218,219,220,221,222,223,224,225,226,227,228,229,230,231,232,233,234,235,236,237,238,239,240,241,242,243,244,245,246,247,248,249,250,251,252,253,254,255,256,257,258,259,260,261,262,263,264,265,266,267,268,269,270,271,272,273,274,275,276,277,278,279,280,281,282,283,284,285,286,287,288,289,290,291,292,293,294,295,296,297,298,299,300,301,302,303,304,305,306,307,308,309,310,311,312,313,314,315,316,317,318,319,320,321,322,323,324,325,326,327,328,329,330,331,332,333,334,335,336,337,338,339,340,341,342,343,344,345,346,347,348,349,350,351,352,353,354,355,356,357,358,359,360,361,362,363,364,365,366,367,368,369,370,371,372,373,374,375,376,377,378,379,380,381,382,383,384,385,386,387,388,389,390,391,392,393,394,395,396,397,398,399,400,401,402,403,404,405,406,407,408,409,410,411,412,413,414,415,416,417,418,419,420,421,422,423,424,425,426,427,428,429,430,431,432,433,434,435,436,437,438,439,440,441,442,443,444,445,446,447,448,449,450,451,452,453,454,455,456,457,458,459,460,461,462,463,464,465,466,467,468,469,470,471,472,473,474,475,476,477,478,479,480,481,482,483,484,485,486,487,488,489,490,491,492,493,494,495,496,497,498,499,500,501,502,503,504,505,506,507,508,509,510,511,512,513,514,515,516,517,518,519,520,521,522,523,524,525,526,527,528,529,530,531,532,533,534,535,536,537,538,539,540,541,542,543,544,545,546,547,548,549,550,551,552,553,554,555,556,557,558,559,560,561,562,563,564,565,566,567,568,569,570,571,572,573,574,575,576,577,578,579,580,581,582,583,584,585,586,587,588,589,590,591,592,593,594,595,596,597,598,599,600,601,602,603,604,605,606,607,608,609,610,611,612,613,614,615,616,617,618,619,620,621,622,623,624,625,626,627,628,629,630,631,632,633,634,635,636,637,638,639,640,641,642,643,644,645,646,647,648,649,650,651,652,653,654,655,656,657,658,659,660,661,662,663,664,665,666,667,668,669,670,671,672,673,674,675,676,677,678,679,680,681,682,683,684,685,686,687,688,689,690,691,692,693,694,695,696,697,698,699,700,701,702,703,704,705,706,707,708,709,710,711,712,713,714,715,716,717,718,719,720,721,722,723,724,725,726,727,728,729,730,731,732,733,734,735,736,737,738,739,740,741,742,743,744,745,746,747,748,749,750,751,752,753,754,755,756,757,758,759,760,761,762,763,764,765,766,767,768,769,770,771,772,773,774,775,776,777,778,779,780,781,782,783,784,785,786,787,788,789,790,791,792,793,794,795,796,797,798,799,800,801,802,803,804,805,806,807,808,809,810,811,812,813,814,815,816,817,818,819,820,821,822,823,824,825,826,827,828,829,830,831,832,833,834,835,836,837,838,839,840,841,842,843,844,845,846,847,848,849,850,851,852,853,854,855,856,857,858,859,860,861,862,863,864,865,866,867,868,869,870,871,872,873,874,875,876,877,878,879,880,881,882,883,884,885,886,887,888,889,890,891,892,893,894,895,896,897,898,899,900,901,902,903,904,905,906,907,908,909,910,911,912,913,914,915,916,917,918,919,920,921,922,923,924,925,926,927,928,929,930,931,932,933,934,935,936,937,938,939,940,941,942,943,944,945,946,947,948,949,950,951,952,953,954,955,956,957,958,959,960,961,962,963,964,965,966,967,968,969,970,971,972,973,974,975,976,977,978,979,980,981,982,983,984,985,986,987,988,989,990,991,992,993,994,995,996,997,998,999,1000,1001,1002,1003,1004,1005,1006,1007,1008,1009,1010,1011,1012,1013,1014,1015,1016,1017,1018,1019,1020,1021,1022,1023,1024,1025,1026,1027,1028,1029,1030,1031,1032,1033,1034,1035,1036,1037,1038,1039,1040,1041,1042,1043,1044,1045,1046,1047,1048,1049,1050,1051,1052,1053,1054,1055,1056,1057,1058,1059,1060,1061,1062,1063,1064,1065,1066,1067,1068,1069,1070,1071,1072,1073,1074,1075,1076,1077,1078,1079,1080,1081,1082,1083,1084,1085,1086,1087,1088,1089,1090,1091,1092,1093,1094,1095,1096,1097,1098,1099,1100,1101,1102,1103,1104,1105,1106,1107,1108,1109,1110,1111,1112,1113,1114,1115,1116,1117,1118,1119,1120,1121,1122,1123,1124,1125,1126,1127,1128,1129,1130,1131,1132,1133,1134,1135,1136,1137,1138,1139,1140,1141,1142,1143,1144,1145,1146,1147,1148,1149,1150,1151,1152,1153,1154,1155,1156,1157,1158,1159,1160,1161,1162,1163,1164,1165,1166,1167,1168,1169,1170,1171,1172,1173,1174,1175,1176,1177,1178,1179,1180,1181,1182,1183,1184,1185,1186,1187,1188,1189,1190,1191,1192,1193,1194,1195,1196,1197,1198,1199,1200,1201,1202,1203,1204,1205,1206,1207,1208,1209,1210,1211,1212,1213,1214,1215,1216,1217,1218,1219,1220,1221,1222,1223,1224,1225,1226,1227,1228,1229,1230,1231,1232,1233,1234,1235,1236,1237,1238,1239,1240,1241,1242,1243,1244,1245,1246,1247,1248,1249,1250,1251,1252,1253,1254,1255,1256,1257,1258,1259,1260,1261,1262,1263,1264,1265,1266,1267,1268,1269,1270,1271,1272,1273,1274,1275,1276,1277,1278,1279,1280,1281,1282,1283,1284,1285,1286,1287,1288,1289,1290,1291,1292,1293,1294,1295,1296,1297,1298,1299,1300,1301,1302,1303,1304,1305,1306,1307,1308,1309,1310,1311,1312,1313,1314,1315,1316,1317,1318,1319,1320,1321,1322,1323,1324,1325,1326,1327,1328,1329,1330,1331,1332,1333,1334,1335,1336,1337,1338,1339,1340,1341,1342,1343,1344,1345,1346,1347,1348,1349,1350,1351,1352,1353,1354,1355,1356,1357,1358,1359,1360,1361,1362,1363,1364,1365,1366,1367,1368,1369,1370,1371,1372,1373,1374,1375,1376,1377,1378,1379,1380,1381,1382,1383,1384,1385,1386,1387,1388,1389,1390,1391,1392,1393,1394,1395,1396,1397,1398,1399,1400,1401,1402,1403,1404,1405,1406,1407,1408,1409,1410,1411,1412,1413,1414,1415,1416,1417,1418,1419,1420,1421,1422,1423,1424,1425,1426,1427,1428,1429,1430,1431,1432,1433,1434,1435,1436,1437,1438,1439,1440,1441,1442,1443,1444,1445,1446,1447,1448,1449,1450,1451,1452,1453,1454,1455,1456,1457,1458,1459,1460,1461,1462,1463,1464,1465,1466,1467,1468,1469,1470,1471,1472,1473,1474,1475,1476,1477,1478,1479,1480,1481,1482,1483,1484,1485,1486,1487,1488,1489,1490,1491,1492,1493,1494,1495,1496,1497,1498,1499,1500,1501,1502,1503,1504,1505,1506,1507,1508,1509,1510,1511,1512,1513,1514,1515,1516,1517,1518,1519,1520,1521,1522,1523,1524,1525,1526,1527,1528,1529,1530,1531,1532,1533,1534,1535,1536,1537,1538,1539,1540,1541,1542,1543,1544,1545,1546,1547,1548,1549,1550,1551,1552,1553,1554,1555,1556,1557,1558,1559,1560,1561,1562,1563,1564,1565,1566,1567,1568,1569,1570,1571,1572,1573,1574,1575,1576,1577,1578,1579,1580,1581,1582,1583,1584,1585,1586,1587,1588,1589,1590,1591,1592,1593,1594,1595,1596,1597,1598,1599,1600,1601,1602,1603,1604,1605,1606,1607,1608,1609,1610,1611,1612,1613,1614,1615,1616,1617,1618,1619,1620,1621,1622,1623,1624,1625,1626,1627,1628,1629,1630,1631,1632,1633,1634,1635,1636,1637,1638,1639,1640,1641,1642,1643,1644,1645,1646,1647,1648,1649,1650,1651,1652,1653,1654,1655,1656,1657,1658,1659,1660,1661,1662,1663,1664,1665,1666,1667,1668,1669,1670,1671,1672,1673,1674,1675,1676,1677,1678,1679,1680,1681,1682,1683,1684,1685,1686,1687,1688,1689,1690,1691,1692,1693,1694,1695,1696,1697,1698,1699,1700,1701,1702,1703,1704,1705,1706,1707,1708,1709,1710,1711,1712,1713,1714,1715,1716,1717,1718,1719,1720,1721,1722,1723,1724,1725,1726,1727,1728,1729,1730,1731,1732,1733,1734,1735,1736,1737,1738,1739,1740,1741,1742,1743,1744,1745,1746,1747,1748,1749,1750,1751,1752,1753,1754,1755,1756,1757,1758,1759,1760,1761,1762,1763,1764,1765,1766,1767,1768,1769,1770,1771,1772,1773,1774,1775,1776,1777,1778,1779,1780,1781,1782,1783,1784,1785,1786,1787,1788,1789,1790,1791,1792,1793,1794,1795,1796,1797,1798,1799,1800,1801,1802,1803,1804,1805,1806,1807,1808,1809,1810,1811,1812,1813,1814,1815,1816,1817,1818,1819,1820,1821,1822,1823,1824,1825,1826,1827,1828,1829,1830,1831,1832,1833,1834,1835,1836,1837,1838,1839,1840,1841,1842,1843,1844,1845,1846,1847,1848,1849,1850,1851,1852,1853,1854,1855,1856,1857,1858,1859,1860,1861,1862,1863,1864,1865,1866,1867,1868,1869,1870,1871,1872,1873,1874,1875,1876,1877,1878,1879,1880,1881,1882,1883,1884,1885,1886,1887,1888,1889,1890,1891,1892,1893,1894,1895,1896,1897,1898,1899,1900,1901,1902,1903,1904,1905,1906,1907,1908,1909,1910,1911,1912,1913,1914,1915,1916,1917,1918,1919,1920,1921,1922,1923,1924,1925,1926,1927,1928,1929,1930,1931,1932,1933,1934,1935,1936,1937,1938,1939,1940,1941,1942,1943,1944,1945,1946,1947,1948,1949,1950,1951,1952,1953,1954,1955,1956,1957,1958,1959,1960,1961,1962,1963,1964,1965,1966,1967,1968,1969,1970,1971,1972,1973,1974,1975,1976,1977,1978,1979,1980,1981,1982,1983,1984,1985,1986,1987,1988,1989,1990,1991,1992,1993,1994,1995,1996,1997,1998,1999,2000,2001,2002,2003,2004,2005,2006,2007,2008,2009,2010,2011,2012,2013,2014,2015,2016,2017,2018,2019,2020,2021,2022,2023,2024,2025,2026,2027,2028,2029,2030,2031,2032,2033,2034,2035,2036,2037,2038,2039,2040,2041,2042,2043,2044,2045,2046,2047,2048,2049,2050,2051,2052,2053,2054,2055,2056,2057,2058,2059,2060,2061,2062,2063,2064,2065,2066,2067,2068,2069,2070,2071,2072,2073,2074,2075,2076,2077,2078,2079,2080,2081,2082,2083,2084,2085,2086,2087,2088,2089,2090,2091,2092,2093,2094,2095,2096,2097,2098,2099,2100,2101,2102,2103,2104,2105,2106,2107,2108,2109,2110,2111,2112,2113,2114,2115,2116,2117,2118,2119,2120,2121,2122,2123,2124,2125,2126,2127,2128,2129,2130,2131,2132,2133,2134,2135,2136,2137,2138,2139,2140,2141,2142,2143,2144,2145,2146,2147,2148,2149,2150,2151,2152,2153,2154,2155,2156,2157,2158,2159,2160,2161,2162,2163,2164,2165,2166,2167,2168,2169,2170,2171,2172,2173,2174,2175,2176,2177,2178,2179,2180,2181,2182,2183,2184,2185,2186,2187,2188,2189,2190,2191,2192,2193,2194,2195,2196,2197,2198,2199,2200,2201,2202,2203,2204,2205,2206,2207,2208,2209,2210,2211,2212,2213,2214,2215,2216,2217,2218,2219,2220,2221,2222,2223,2224,2225,2226,2227,2228,2229,2230,2231,2232,2233,2234,2235,2236,2237,2238,2239,2240,2241,2242,2243,2244,2245,2246,2247,2248,2249,2250,2251,2252,2253,2254,2255,2256,2257,2258,2259,2260,2261,2262,2263,2264,2265,2266,2267,2268,2269,2270,2271,2272,2273,2274,2275,2276,2277,2278,2279,2280,2281,2282,2283,2284,2285,2286,2287,2288,2289,2290,2291,2292,2293,2294,2295,2296,2297,2298,2299,2300,2301,2302,2303,2304,2305,2306,2307,2308,2309,2310,2311,2312,2313,2314,2315,2316,2317,2318,2319,2320,2321,2322,2323,2324,2325,2326,2327,2328,2329,2330,2331,2332,2333,2334,2335,2336,2337,2338,2339,2340,2341,2342,2343,2344,2345,2346,2347,2348,2349,2350,2351,2352,2353,2354,2355,2356,2357,2358,2359,2360,2361,2362,2363,2364,2365,2366,2367,2368,2369,2370,2371,2372,2373,2374,2375,2376,2377,2378,2379,2380,2381,2382,2383,2384,2385,2386,2387,2388,2389,2390,2391,2392,2393,2394,2395,2396,2397,2398,2399,2400,2401,2402,2403,2404,2405,2406,2407,2408,2409,2410,2411,2412,2413,2414,2415,2416,2417,2418,2419,2420,2421,2422,2423,2424,2425,2426,2427,2428,2429,2430,2431,2432,2433,2434,2435,2436,2437,2438,2439,2440,2441,2442,2443,2444,2445,2446,2447,2448,2449,2450,2451,2452,2453,2454,2455,2456,2457,2458,2459,2460,2461,2462,2463,2464,2465,2466,2467,2468,2469,2470,2471,2472,2473,2474,2475,2476,2477,2478,2479,2480,2481,2482,2483,2484,2485,2486,2487,2488,2489,2490,2491,2492,2493,2494,2495,2496,2497,2498,2499,2500,2501,2502,2503,2504,2505,2506,2507,2508,2509,2510,2511,2512,2513,2514,2515,2516,2517,2518,2519,2520,2521,2522,2523,2524,2525,2526,2527,2528,2529,2530,2531,2532,2533,2534,2535,2536,2537,2538,2539,2540,2541,2542,2543,2544,2545,2546,2547,2548,2549,2550,2551,2552,2553,2554,2555,2556,2557,2558,2559,2560,2561,2562,2563,2564,2565,2566,2567,2568,2569,2570,2571,2572,2573,2574,2575,2576,2577,2578,2579,2580,2581,2582,2583,2584,2585,2586,2587,2588,2589,2590,2591,2592,2593,2594,2595,2596,2597,2598,2599,2600,2601,2602,2603,2604,2605,2606,2607,2608,2609,2610,2611,2612,2613,2614,2615,2616,2617,2618,2619,2620,2621,2622,2623,2624,2625,2626,2627,2628,2629,2630,2631,2632,2633,2634,2635,2636,2637,2638,2639,2640,2641,2642,2643,2644,2645,2646,2647,2648,2649,2650,2651,2652,2653,2654,2655,2656,2657,2658,2659,2660,2661,2662,2663,2664,2665,2666,2667,2668,2669,2670,2671,2672,2673,2674,2675,2676,2677,2678,2679,2680,2681,2682,2683,2684,2685,2686,2687,2688,2689,2690,2691,2692,2693,2694,2695,2696,2697,2698,2699,2700,2701,2702,2703,2704,2705,2706,2707,2708,2709,2710,2711,2712,2713,2714,2715,2716,2717,2718,2719,2720,2721,2722,2723,2724,2725,2726,2727,2728,2729,2730,2731,2732,2733,2734,2735,2736,2737,2738,2739,2740,2741,2742,2743,2744,2745,2746,2747,2748,2749,2750,2751,2752,2753,2754,2755,2756,2757,2758,2759,2760,2761,2762,2763,2764,2765,2766,2767,2768,2769,2770,2771,2772,2773,2774,2775,2776,2777,2778,2779,2780,2781,2782,2783,2784,2785,2786,2787,2788,2789,2790,2791,2792,2793,2794,2795,2796,2797,2798,2799,2800,2801,2802,2803,2804,2805,2806,2807,2808,2809,2810,2811,2812,2813,2814,2815,2816,2817,2818,2819,2820,2821,2822,2823,2824,2825,2826,2827,2828,2829,2830,2831,2832,2833,2834,2835,2836,2837,2838,2839,2840,2841,2842,2843,2844,2845,2846,2847,2848,2849,2850,2851,2852,2853,2854,2855,2856,2857,2858,2859,2860,2861,2862,2863,2864,2865,2866,2867,2868,2869,2870,2871,2872,2873,2874,2875,2876,2877,2878,2879,2880,2881,2882,2883,2884,2885,2886,2887,2888,2889,2890,2891,2892,2893,2894,2895,2896,2897,2898,2899,2900,2901,2902,2903,2904,2905,2906,2907,2908,2909,2910,2911,2912,2913,2914,2915,2916,2917,2918,2919,2920,2921,2922,2923,2924,2925,2926,2927,2928,2929,2930,2931,2932,2933,2934,2935,2936,2937,2938,2939,2940,2941,2942,2943,2944,2945,2946,2947,2948,2949,2950,2951,2952,2953,2954,2955,2956,2957,2958,2959,2960,2961,2962,2963,2964,2965,2966,2967,2968,2969,2970,2971,2972,2973,2974,2975,2976,2977,2978,2979,2980,2981,2982,2983,2984,2985,2986,2987,2988,2989,2990,2991,2992,2993,2994,2995,2996,2997,2998,2999,3000,3001,3002,3003,3004,3005,3006,3007,3008,3009,3010,3011,3012,3013,3014,3015,3016,3017,3018,3019,3020,3021,3022,3023,3024,3025,3026,3027,3028,3029,3030,3031,3032,3033,3034,3035,3036,3037,3038,3039,3040,3041,3042,3043,3044,3045,3046,3047,3048,3049,3050,3051,3052,3053,3054,3055,3056,3057,3058,3059,3060,3061,3062,3063,3064,3065,3066,3067,3068,3069,3070,3071,3072,3073,3074,3075,3076,3077,3078,3079,3080,3081,3082,3083,3084,3085,3086,3087,3088,3089,3090,3091,3092,3093,3094,3095,3096,3097,3098,3099,3100,3101,3102,3103,3104,3105,3106,3107,3108,3109,3110,3111,3112,3113,3114,3115,3116,3117,3118,3119,3120,3121,3122,3123,3124,3125,3126,3127,3128,3129,3130,3131,3132,3133,3134,3135,3136,3137,3138,3139,3140,3141,3142,3143,3144,3145,3146,3147,3148,3149,3150,3151,3152,3153,3154,3155,3156,3157,3158,3159,3160,3161,3162,3163,3164,3165,3166,3167,3168,3169,3170,3171,3172,3173,3174,3175,3176,3177,3178,3179,3180,3181,3182,3183,3184,3185,3186,3187,3188,3189,3190,3191,3192,3193,3194,3195,3196,3197,3198,3199,3200,3201,3202,3203,3204,3205,3206,3207,3208,3209,3210,3211,3212,3213,3214,3215,3216,3217,3218,3219,3220,3221,3222,3223,3224,3225,3226,3227,3228,3229,3230,3231,3232,3233,3234,3235,3236,3237,3238,3239,3240,3241,3242,3243,3244,3245,3246,3247,3248,3249,3250,3251,3252,3253,3254,3255,3256,3257,3258,3259,3260,3261,3262,3263,3264,3265,3266,3267,3268,3269,3270,3271,3272,3273,3274,3275,3276,3277,3278,3279,3280,3281,3282,3283,3284,3285,3286,3287,3288,3289,3290,3291,3292,3293,3294,3295,3296,3297,3298,3299,3300,3301,3302,3303,3304,3305,3306,3307,3308,3309,3310,3311,3312,3313,3314,3315,3316,3317,3318,3319,3320,3321,3322,3323,3324,3325,3326,3327,3328,3329,3330,3331,3332,3333,3334,3335,3336,3337,3338,3339,3340,3341,3342,3343,3344,3345,3346,3347,3348,3349,3350,3351,3352,3353,3354,3355,3356,3357,3358,3359,3360,3361,3362,3363,3364,3365,3366,3367,3368,3369,3370,3371,3372,3373,3374,3375,3376,3377,3378,3379,3380,3381,3382,3383,3384,3385,3386,3387,3388,3389,3390,3391,3392,3393,3394,3395,3396,3397,3398,3399,3400,3401,3402,3403,3404,3405,3406,3407,3408,3409,3410,3411,3412,3413,3414,3415,3416,3417,3418,3419,3420,3421,3422,3423,3424,3425,3426,3427,3428,3429,3430,3431,3432,3433,3434,3435,3436,3437,3438,3439,3440,3441,3442,3443,3444,3445,3446,3447,3448,3449,3450,3451,3452,3453,3454,3455,3456,3457,3458,3459,3460,3461,3462,3463,3464,3465,3466,3467,3468,3469,3470,3471,3472,3473,3474,3475,3476,3477,3478,3479,3480,3481,3482,3483,3484,3485,3486,3487,3488,3489,3490,3491,3492,3493,3494,3495,3496,3497,3498,3499,3500,3501,3502,3503,3504,3505,3506,3507,3508,3509,3510,3511,3512,3513,3514,3515,3516,3517,3518,3519,3520,3521,3522,3523,3524,3525,3526,3527,3528,3529,3530,3531,3532,3533,3534,3535,3536,3537,3538,3539,3540,3541,3542,3543,3544,3545,3546,3547,3548,3549,3550,3551,3552,3553,3554,3555,3556,3557,3558,3559,3560,3561,3562,3563,3564,3565,3566,3567,3568,3569,3570,3571,3572,3573,3574,3575,3576,3577,3578,3579,3580,3581,3582,3583,3584,3585,3586,3587,3588,3589,3590,3591,3592,3593,3594,3595,3596,3597,3598,3599,3600,3601,3602,3603,3604,3605,3606,3607,3608,3609,3610,3611,3612,3613,3614,3615,3616,3617,3618,3619,3620,3621,3622,3623,3624,3625,3626,3627,3628,3629,3630,3631,3632,3633,3634,3635,3636,3637,3638,3639,3640,3641,3642,3643,3644,3645,3646,3647,3648,3649,3650,3651,3652,3653,3654,3655,3656,3657,3658,3659,3660,3661,3662,3663,3664,3665,3666,3667,3668,3669,3670,3671,3672,3673,3674,3675,3676,3677,3678,3679,3680,3681,3682,3683,3684,3685,3686,3687,3688,3689,3690,3691,3692,3693,3694,3695,3696,3697,3698,3699,3700,3701,3702,3703,3704,3705,3706,3707,3708,3709,3710,3711,3712,3713,3714,3715,3716,3717,3718,3719,3720,3721,3722,3723,3724,3725,3726,3727,3728,3729,3730,3731,3732,3733,3734,3735,3736,3737,3738,3739,3740,3741,3742,3743,3744,3745,3746,3747,3748,3749,3750,3751,3752,3753,3754,3755,3756,3757,3758,3759,3760,3761,3762,3763,3764,3765,3766,3767,3768,3769,3770,3771,3772,3773,3774,3775,3776,3777,3778,3779,3780,3781,3782,3783,3784,3785,3786,3787,3788,3789,3790,3791,3792,3793,3794,3795,3796,3797,3798,3799,3800,3801,3802,3803,3804,3805,3806,3807,3808,3809,3810,3811,3812,3813,3814,3815,3816,3817,3818,3819,3820,3821,3822,3823,3824,3825,3826,3827,3828,3829,3830,3831,3832,3833,3834,3835,3836,3837,3838,3839,3840,3841,3842,3843,3844,3845,3846,3847,3848,3849,3850,3851,3852,3853,3854,3855,3856,3857,3858,3859,3860,3861,3862,3863,3864,3865,3866,3867,3868,3869,3870,3871,3872,3873,3874,3875,3876,3877,3878,3879,3880,3881,3882,3883,3884,3885,3886,3887,3888,3889,3890,3891,3892,3893,3894,3895,3896,3897,3898,3899,3900,3901,3902,3903,3904,3905,3906,3907,3908,3909,3910,3911,3912,3913,3914,3915,3916,3917,3918,3919,3920,3921,3922,3923,3924,3925,3926,3927,3928,3929,3930,3931,3932,3933],\"words\":[\"current\",\"stock\",\"capacity\",\"at\",\"the\",\"moment\",\"of\",\"2009\",\"on\",\"line\",\"is\",\"more\",\"than\",\"s\",\"which\",\"a\",\"little\",\"dubious\",\"numbers\",\"in\",\"that\",\"column\",\"were\",\"taken\",\"from\",\"old\",\"web\",\"pages\",\"ive\",\"just\",\"linked\",\"to\",\"archives\",\"for\",\"each\",\"one\",\"this\",\"why\",\"it\",\"says\",\"bottom\",\"table\",\"based\",\"four\",\"square\",\"however\",\"we\",\"can\",\"get\",\"information\",\"data\",\"referenced\",\"article\",\"and\",\"listed\",\"below\",\"observed\",\"standing\",\"5\",\"per\",\"full\",\"6\",\"7\",\"design\",\"as\",\"purpose\",\"compare\",\"only\",\"have\",\"figures\",\"need\",\"go\",\"with\",\"those\",\"i\",\"suggest\",\"figure\",\"word\",\"friendly\",\"advice\",\"hi\",\"there\",\"fellow\",\"dont\",\"too\",\"heavily\",\"site\",\"youre\",\"military\",\"watch\",\"who\",\"you\",\"talk\",\"some\",\"people\",\"here\",\"are\",\"not\",\"american\",\"citizens\",\"their\",\"own\",\"ideas\",\"about\",\"things\",\"believe\",\"or\",\"what\",\"do\",\"wikipedia\",\"turn\",\"up\",\"background\",\"check\",\"security\",\"had\",\"two\",\"guys\",\"denied\",\"secret\",\"because\",\"they\",\"associated\",\"china\",\"probably\",\"ready\",\"out\",\"bet\",\"so\",\"might\",\"apply\",\"by\",\"way\",\"awesome\",\"user\",\"page\",\"t\",\"would\",\"argue\",\"names\",\"different\",\"languages\",\"encyclopedic\",\"such\",\"belongs\",\"whether\",\"language\",\"box\",\"best\",\"present\",\"but\",\"removing\",\"altogether\",\"will\",\"improve\",\"any\",\"actually\",\"make\",\"slightly\",\"worse\",\"how\",\"moving\",\"further\",\"down\",\"really\",\"no\",\"display\",\"separate\",\"section\",\"yo\",\"august\",\"9\",\"2010\",\"utc\",\"obviously\",\"be\",\"interest\",\"come\",\"etc\",\"difficult\",\"task\",\"continually\",\"warrant\",\"new\",\"articles\",\"huge\",\"apparently\",\"small\",\"group\",\"know\",\"subject\",\"hand\",\"reasonable\",\"level\",\"an\",\"aside\",\"issue\",\"isnt\",\"validity\",\"studies\",\"should\",\"worked\",\"into\",\"part\",\"discussion\",\"often\",\"added\",\"amount\",\"genetic\",\"history\",\"europe\",\"if\",\"its\",\"still\",\"does\",\"love\",\"unclear\",\"referring\",\"used\",\"instead\",\"precise\",\"english\",\"encyclopedia\",\"press\",\"release\",\"supposed\",\"house\",\"government\",\"uses\",\"term\",\"usa\",\"describe\",\"country\",\"other\",\"political\",\"spin\",\"words\",\"them\",\"proper\",\"simple\",\"rule\",\"job\",\"person\",\"being\",\"paid\",\"working\",\"african\",\"end\",\"racism\",\"speak\",\"plain\",\"okay\",\"my\",\"apologies\",\"ur\",\"also\",\"song\",\"her\",\"hits\",\"notes\",\"may\",\"explicit\",\"points\",\"2\",\"3\",\"all\",\"4\",\"india\",\"almost\",\"except\",\"has\",\"been\",\"against\",\"association\",\"hindu\",\"faith\",\"version\",\"free\",\"contribute\",\"long\",\"provide\",\"helpful\",\"accurate\",\"sourced\",\"provided\",\"was\",\"unsourced\",\"want\",\"could\",\"help\",\"formatting\",\"explain\",\"nonnotable\",\"waste\",\"space\",\"thank\",\"wow\",\"1\",\"step\",\"time\",\"trying\",\"agree\",\"lol\",\"please\",\"edit\",\"he\",\"called\",\"me\",\"fucking\",\"moron\",\"today\",\"well\",\"first\",\"accept\",\"blocked\",\"condition\",\"june\",\"stop\",\"adding\",\"unreferenced\",\"controversial\",\"biographical\",\"content\",\"did\",\"nature\",\"regarded\",\"violation\",\"policy\",\"continue\",\"editing\",\"vandalize\",\"am\",\"town\",\"nor\",\"ever\",\"even\",\"sections\",\"inappropriate\",\"members\",\"when\",\"media\",\"education\",\"off\",\"going\",\"add\",\"back\",\"since\",\"said\",\"manager\",\"info\",\"thanks\",\"criticisms\",\"right\",\"lot\",\"fixed\",\"uploading\",\"notice\",\"image\",\"specifies\",\"under\",\"fair\",\"use\",\"fails\",\"our\",\"criterion\",\"freely\",\"licensed\",\"reasonably\",\"found\",\"created\",\"provides\",\"substantially\",\"same\",\"replaceable\",\"description\",\"disputed\",\"without\",\"deleting\",\"original\",\"template\",\"write\",\"reason\",\"alternatively\",\"choose\",\"replace\",\"finding\",\"requesting\",\"copyright\",\"holder\",\"similar\",\"license\",\"taking\",\"picture\",\"yourself\",\"uploaded\",\"consider\",\"checking\",\"specified\",\"these\",\"images\",\"fully\",\"satisfy\",\"criteria\",\"find\",\"list\",\"edited\",\"clicking\",\"[\",\"link\",\"]\",\"note\",\"alternatives\",\"deleted\",\"week\",\"after\",\"described\",\"speedy\",\"deletion\",\"questions\",\"ask\",\"hey\",\"fat\",\"sock\",\"puppet\",\"few\",\"times\",\"year\",\"sure\",\"your\",\"retarded\",\"ass\",\"put\",\"sad\",\"beat\",\"like\",\"dog\",\"never\",\"forget\",\"reverted\",\"change\",\"run\",\"around\",\"rest\",\"life\",\"anime\",\"made\",\"better\",\"either\",\"number\",\"both\",\"ok\",\"certain\",\"least\",\"logic\",\"wont\",\"accepted\",\"common\",\"readers\",\"totally\",\"biased\",\"abusing\",\"children\",\"kind\",\"sentence\",\"real\",\"hell\",\"protected\",\"putting\",\"top\",\"work\",\"featured\",\"log\",\"statistics\",\"far\",\"archive\",\"written\",\"ips\",\"trace\",\"place\",\"city\",\"relevant\",\"subjects\",\"park\",\"area\",\"planned\",\"significant\",\"aspects\",\"itself\",\"dates\",\"early\",\"community\",\"historic\",\"home\",\"college\",\"towards\",\"areas\",\"among\",\"built\",\"architecture\",\"significance\",\"recognized\",\"anyone\",\"assume\",\"attacked\",\"im\",\"means\",\"wikiproject\",\"films\",\"january\",\"newsletter\",\"published\",\"read\",\"format\",\"future\",\"issues\",\"delivered\",\"notification\",\"following\",\"happy\",\"went\",\"ahead\",\"changed\",\"versions\",\"before\",\"looking\",\"simply\",\"upon\",\"reading\",\"didnt\",\"seem\",\"appropriate\",\"see\",\"video\",\"games\",\"typically\",\"refers\",\"something\",\"later\",\"takes\",\"element\",\"product\",\"characters\",\"general\",\"several\",\"la\",\"largely\",\"unrelated\",\"plot\",\"considered\",\"game\",\"talkcontribs\",\"seems\",\"reference\",\"state\",\"largest\",\"speculation\",\"baseball\",\"bugs\",\"guy\",\"jerk\",\"name\",\"nothing\",\"say\",\"minority\",\"give\",\"resource\",\"cant\",\"italian\",\"claim\",\"invented\",\"over\",\"tradition\",\"greeks\",\"wrong\",\"chinese\",\"thing\",\"form\",\"believed\",\"groups\",\"region\",\"produced\",\"came\",\"relatively\",\"late\",\"asia\",\"west\",\"maybe\",\"art\",\"making\",\"sucks\",\"anyway\",\"fairly\",\"typical\",\"managed\",\"side\",\"rationale\",\"removal\",\"sides\",\"thus\",\"else\",\"proposed\",\"keeping\",\"good\",\"wiki\",\"practice\",\"consideration\",\"developed\",\"lead\",\"church\",\"within\",\"united\",\"including\",\"example\",\"intact\",\"norman\",\"single\",\"cell\",\"approved\",\"shows\",\"feel\",\"close\",\"control\",\"jackson\",\"album\",\"bit\",\"busy\",\"days\",\"northern\",\"cyprus\",\"google\",\"search\",\"results\",\"definition\",\"wp\",\"independent\",\"occupied\",\"another\",\"division\",\"sets\",\"previously\",\"differently\",\"peoples\",\"distinct\",\"hence\",\"un\",\"membership\",\"sources\",\"cite\",\"world\",\"report\",\"2015\",\"nations\",\"development\",\"network\",\"countries\",\"directly\",\"above\",\"republic\",\"international\",\"2014\",\"election\",\"guide\",\"profile\",\"arms\",\"8\",\"university\",\"specific\",\"requirements\",\"travel\",\"10\",\"11\",\"worldwide\",\"north\",\"great\",\"12\",\"13\",\"turkish\",\"14\",\"visit\",\"15\",\"official\",\"16\",\"set\",\"law\",\"17\",\"18\",\"19\",\"20\",\"21\",\"road\",\"22\",\"books\",\"g\",\"23\",\"perfect\",\"february\",\"whoever\",\"took\",\"central\",\"beginning\",\"afghanistan\",\"south\",\"now\",\"vandalism\",\"possibly\",\"mostly\",\"asian\",\"again\",\"licensing\",\"tag\",\"situation\",\"comic\",\"recommend\",\"oh\",\"whats\",\"itll\",\"quick\",\"tell\",\"obvious\",\"december\",\"2007\",\"last\",\"indeed\",\"accuracy\",\"inaccurate\",\"wish\",\"kept\",\"vote\",\"30\",\"yes\",\"sorry\",\"most\",\"powerful\",\"less\",\"whatever\",\"intended\",\"destroy\",\"call\",\"confusing\",\"equal\",\"certainly\",\"feature\",\"think\",\"start\",\"german\",\"meaning\",\"speakers\",\"thats\",\"point\",\"perhaps\",\"heavy\",\"thought\",\"forward\",\"views\",\"lastly\",\"object\",\"serious\",\"expert\",\"comments\",\"debate\",\"debates\",\"carried\",\"elsewhere\",\"ignored\",\"definitely\",\"edits\",\"fringe\",\"authors\",\"peter\",\"mike\",\"frank\",\"none\",\"reliable\",\"much\",\"nonsense\",\"problem\",\"details\",\"big\",\"bad\",\"admin\",\"bitch\",\"having\",\"anybody\",\"leave\",\"hello\",\"create\",\"living\",\"persons\",\"source\",\"statements\",\"biographies\",\"ten\",\"creating\",\"large\",\"stubs\",\"statement\",\"x\",\"team\",\"y\",\"usually\",\"redirected\",\"quote\",\"using\",\"wizard\",\"width\",\"placed\",\"speedily\",\"done\",\"advertising\",\"promotes\",\"company\",\"service\",\"rewritten\",\"order\",\"become\",\"particularly\",\"item\",\"guidelines\",\"spam\",\"indicate\",\"blatant\",\"contest\",\"tagging\",\"explaining\",\"position\",\"remove\",\"hesitate\",\"citations\",\"ensure\",\"verifiable\",\"removed\",\"dispute\",\"cannot\",\"whole\",\"then\",\"webpage\",\"otherwise\",\"mess\",\"true\",\"ruled\",\"parts\",\"modern\",\"armenia\",\"turkey\",\"died\",\"matter\",\"try\",\"dance\",\"brand\",\"ga\",\"quality\",\"email\",\"dumb\",\"cunt\",\"pop\",\"punk\",\"where\",\"next\",\"doesnt\",\"titled\",\"wrote\",\"damn\",\"many\",\"cover\",\"look\",\"laws\",\"tlk\",\"understood\",\"australia\",\"every\",\"australian\",\"rules\",\"football\",\"body\",\"merge\",\"enough\",\"stand\",\"alone\",\"fuck\",\"incorrect\",\"consensus\",\"exactly\",\"period\",\"action\",\"blocking\",\"copied\",\"comment\",\"3rd\",\"elements\",\"power\",\"advantage\",\"scheme\",\"inserted\",\"front\",\"middle\",\"nearly\",\"c\",\"fashion\",\"implemented\",\"requirement\",\"references\",\"remain\",\"valid\",\"fail\",\"needs\",\"pie\",\"kids\",\"expect\",\"civil\",\"decide\",\"troll\",\"his\",\"jimbo\",\"maintain\",\"regular\",\"contact\",\"tony\",\"message\",\"clearly\",\"suggestion\",\"ill\",\"move\",\"clear\",\"case\",\"itd\",\"currently\",\"looks\",\"piece\",\"code\",\"talking\",\"wasnt\",\"reply\",\"button\",\"bearing\",\"scott\",\"comparison\",\"completely\",\"irrelevant\",\"bill\",\"concerning\",\"remotely\",\"noteworthy\",\"addressed\",\"editors\",\"fame\",\"editor\",\"suggested\",\"involved\",\"sort\",\"legal\",\"analysis\",\"parties\",\"seemed\",\"left\",\"amounts\",\"worst\",\"cases\",\"along\",\"due\",\"respect\",\"assertion\",\"sound\",\"reasoning\",\"included\",\"others\",\"fine\",\"realize\",\"open\",\"virtually\",\"opinion\",\"famous\",\"regardless\",\"pov\",\"getting\",\"touch\",\"population\",\"youve\",\"informative\",\"basically\",\"2005\",\"somebody\",\"census\",\"office\",\"energy\",\"planning\",\"places\",\"wanting\",\"stick\",\"recent\",\"caused\",\"concerned\",\"growing\",\"watching\",\"seeing\",\"loser\",\"feb\",\"quit\",\"meeting\",\"women\",\"driven\",\"men\",\"sex\",\"drive\",\"reduced\",\"significantly\",\"reasons\",\"becoming\",\"yet\",\"very\",\"unlike\",\"strong\",\"man\",\"altered\",\"woman\",\"low\",\"equally\",\"stopped\",\"female\",\"effect\",\"adult\",\"male\",\"genuine\",\"wonder\",\"requires\",\"levels\",\"compared\",\"achieve\",\"beliefs\",\"industry\",\"differences\",\"favor\",\"type\",\"errors\",\"aka\",\"overview\",\"intro\",\"translated\",\"basque\",\"homeland\",\"freedom\",\"surely\",\"sense\",\"happens\",\"theres\",\"equivalent\",\"spanish\",\"sounds\",\"strange\",\"aims\",\"insist\",\"claiming\",\"aim\",\"discussed\",\"documented\",\"status\",\"secondary\",\"drug\",\"citation\",\"needed\",\"mark\",\"though\",\"complex\",\"struggle\",\"nuclear\",\"plant\",\"fight\",\"construction\",\"justify\",\"particular\",\"solution\",\"context\",\"entry\",\"unless\",\"someone\",\"idea\",\"minor\",\"former\",\"defined\",\"stated\",\"explanation\",\"social\",\"support\",\"confuse\",\"emphasis\",\"justified\",\"vs\",\"fascists\",\"fell\",\"three\",\"cities\",\"spain\",\"st\",\"plus\",\"partially\",\"got\",\"luck\",\"sentences\",\"republican\",\"war\",\"public\",\"culture\",\"attempted\",\"between\",\"tactics\",\"paragraph\",\"suffered\",\"reader\",\"years\",\"southern\",\"nationalist\",\"count\",\"elections\",\"ban\",\"anything\",\"claims\",\"rather\",\"false\",\"voted\",\"latest\",\"greater\",\"presence\",\"administration\",\"economic\",\"politicians\",\"rejected\",\"paris\",\"reviewed\",\"victims\",\"approach\",\"response\",\"treatment\",\"focused\",\"ignoring\",\"once\",\"important\",\"id\",\"material\",\"effects\",\"friends\",\"mention\",\"dead\",\"car\",\"while\",\"steps\",\"practical\",\"terms\",\"replacement\",\"police\",\"corps\",\"influence\",\"procedure\",\"ones\",\"themselves\",\"closed\",\"newspapers\",\"magazines\",\"journalists\",\"2004\",\"hes\",\"quite\",\"fact\",\"admit\",\"break\",\"wpnpov\",\"structure\",\"expand\",\"organization\",\"literally\",\"r\",\"redirect\",\"interested\",\"honest\",\"supports\",\"reliability\",\"academic\",\"journal\",\"avoid\",\"represent\",\"view\",\"topic\",\"everyone\",\"whos\",\"backed\",\"youtube\",\"believes\",\"saying\",\"journals\",\"wed\",\"determine\",\"sufficiently\",\"notable\",\"fields\",\"bay\",\"york\",\"age\",\"william\",\"computer\",\"bible\",\"christian\",\"mythology\",\"named\",\"known\",\"contribution\",\"assembly\",\"elected\",\"member\",\"effort\",\"counter\",\"trade\",\"bodies\",\"formed\",\"miles\",\"record\",\"major\",\"jewish\",\"religious\",\"text\",\"recorded\",\"principles\",\"french\",\"favorite\",\"discovered\",\"through\",\"jacob\",\"russian\",\"descent\",\"russia\",\"century\",\"indian\",\"murder\",\"child\",\"brought\",\"changes\",\"us\",\"native\",\"americans\",\"parliament\",\"told\",\"oppose\",\"islamic\",\"match\",\"played\",\"players\",\"van\",\"land\",\"ground\",\"1st\",\"whose\",\"request\",\"investment\",\"capital\",\"build\",\"oil\",\"led\",\"john\",\"d\",\"standard\",\"companies\",\"francisco\",\"de\",\"seven\",\"according\",\"repeating\",\"tour\",\"length\",\"revert\",\"second\",\"facts\",\"straight\",\"question\",\"username\",\"refrain\",\"experiment\",\"sandbox\",\"keep\",\"ongoing\",\"respond\",\"judgement\",\"stylebackgroundcolorf\",\"5fffa\",\"0\",\"cellpadding\",\"1px\",\"solid\",\"backgroundcolorf\",\"verticalaligntop\",\"color\",\"welcome\",\"contributions\",\"remember\",\"sign\",\"tildes\",\"automatically\",\"produce\",\"date\",\"finally\",\"always\",\"fill\",\"summary\",\"field\",\"useful\",\"links\",\"facilitate\",\"involvement\",\"100\",\"stylewidth\",\"55\",\"border\",\"ffffff\",\"started\",\"tutorial\",\"five\",\"pillars\",\"upload\",\"frequently\",\"asked\",\"tips\",\"administrator\",\"attention\",\"policies\",\"neutral\",\"research\",\"verifiability\",\"citing\",\"manual\",\"style\",\"threerevert\",\"puppetry\",\"copyrights\",\"nonfree\",\"external\",\"conflict\",\"notability\",\"classmainpagebg\",\"cellspacing\",\"styleverticalaligntop\",\"stylecolor\",\"000\",\"resolve\",\"disputes\",\"civility\",\"etiquette\",\"personal\",\"attacks\",\"threats\",\"recently\",\"poor\",\"arguments\",\"yesterday\",\"requested\",\"hope\",\"tc\",\"conversation\",\"limited\",\"scientology\",\"wear\",\"l\",\"nice\",\"choice\",\"terrorist\",\"tried\",\"blow\",\"character\",\"film\",\"voice\",\"post\",\"alternative\",\"stay\",\"gay\",\"misleading\",\"anonymous\",\"b\",\"safe\",\"proxy\",\"option\",\"ip\",\"chicago\",\"library\",\"block\",\"process\",\"saw\",\"couple\",\"funny\",\"2012\",\"meant\",\"title\",\"mentions\",\"mentioned\",\"protection\",\"total\",\"garbage\",\"chose\",\"seriously\",\"starting\",\"million\",\"tiny\",\"focus\",\"jun\",\"exposed\",\"apart\",\"mean\",\"revealed\",\"unknown\",\"reported\",\"j\",\"accordingly\",\"everything\",\"learning\",\"treaty\",\"peace\",\"italy\",\"contacted\",\"author\",\"founder\",\"theyre\",\"wait\",\"until\",\"gets\",\"rs\",\"youll\",\"truly\",\"blog\",\"suppose\",\"take\",\"noticeboard\",\"european\",\"cup\",\"club\",\"season\",\"compromise\",\"templates\",\"perfectly\",\"acceptable\",\"opening\",\"unacceptable\",\"merely\",\"followed\",\"reverting\",\"wanted\",\"providing\",\"business\",\"act\",\"ad\",\"cookies\",\"unblock\",\"porn\",\"wondering\",\"sent\",\"via\",\"behavior\",\"offensive\",\"send\",\"offended\",\"accusation\",\"checked\",\"address\",\"suspicious\",\"discussions\",\"proof\",\"account\",\"confirm\",\"live\",\"internet\",\"ended\",\"curious\",\"decided\",\"sockpuppet\",\"evidence\",\"favour\",\"constant\",\"previous\",\"discuss\",\"excessive\",\"music\",\"career\",\"reviews\",\"ago\",\"wouldnt\",\"argument\",\"summaries\",\"harassment\",\"administrators\",\"indefinitely\",\"users\",\"forever\",\"dyk\",\"nomination\",\"submission\",\"nominations\",\"review\",\"soon\",\"possible\",\"contributing\",\"openly\",\"hard\",\"cited\",\"trolling\",\"45\",\"test\",\"wikipedias\",\"features\",\"addition\",\"existing\",\"mind\",\"makes\",\"enjoy\",\"wikipedian\",\"problems\",\"newcomers\",\"experienced\",\"wikipedians\",\"answer\",\"helpme\",\"show\",\"shortly\",\"already\",\"adopted\",\"improving\",\"click\",\"directory\",\"happened\",\"railway\",\"station\",\"blanking\",\"attract\",\"marked\",\"finds\",\"delete\",\"hear\",\"greek\",\"include\",\"commons\",\"potential\",\"bands\",\"permission\",\"course\",\"doubt\",\"legally\",\"instructions\",\"helps\",\"quoted\",\"talks\",\"popular\",\"creator\",\"candidates\",\"blue\",\"alternate\",\"candidate\",\"feedback\",\"re\",\"bc\",\"likely\",\"aware\",\"laid\",\"youd\",\"tend\",\"alot\",\"suit\",\"device\",\"during\",\"hours\",\"spent\",\"bring\",\"accusations\",\"assure\",\"attempt\",\"concise\",\"horrible\",\"story\",\"politics\",\"democratic\",\"h\",\"e\",\"science\",\"1989\",\"abide\",\"confusion\",\"thomas\",\"martin\",\"oxford\",\"1990\",\"british\",\"black\",\"september\",\"2006\",\"virtual\",\"acts\",\"zero\",\"sometimes\",\"eat\",\"fun\",\"anyways\",\"worry\",\"listen\",\"myself\",\"direct\",\"sexual\",\"connected\",\"additional\",\"express\",\"mate\",\"douche\",\"keeps\",\"polish\",\"blp\",\"expressed\",\"wales\",\"she\",\"wants\",\"mere\",\"twice\",\"together\",\"strongly\",\"sick\",\"suddenly\",\"related\",\"bloody\",\"band\",\"signed\",\"atlantic\",\"records\",\"canadian\",\"released\",\"websites\",\"feels\",\"seconds\",\"notices\",\"situations\",\"merged\",\"decision\",\"dictionary\",\"moreover\",\"appear\",\"broken\",\"direction\",\"duplicate\",\"stab\",\"verify\",\"merger\",\"result\",\"doing\",\"draw\",\"posted\",\"seperate\",\"turns\",\"1000\",\"sites\",\"stub\",\"pointed\",\"havent\",\"explained\",\"contains\",\"usage\",\"refer\",\"expanded\",\"easy\",\"redirects\",\"light\",\"bogus\",\"asking\",\"opinions\",\"tool\",\"circumstances\",\"works\",\"given\",\"third\",\"potentially\",\"restored\",\"progress\",\"replied\",\"incident\",\"mid\",\"1980s\",\"worth\",\"unfortunately\",\"excuse\",\"crime\",\"detail\",\"available\",\"ireland\",\"insulting\",\"island\",\"arent\",\"proposal\",\"main\",\"solely\",\"sometime\",\"universe\",\"actions\",\"regards\",\"active\",\"musician\",\"decades\",\"50\",\"albums\",\"him\",\"robert\",\"rich\",\"userpage\",\"weeks\",\"states\",\"primary\",\"discouraged\",\"looked\",\"richard\",\"radio\",\"entirely\",\"beyond\",\"confused\",\"belief\",\"party\",\"tests\",\"dialects\",\"chance\",\"ship\",\"indicated\",\"exists\",\"31\",\"key\",\"lists\",\"presumably\",\"canada\",\"overall\",\"2nd\",\"happen\",\"pointing\",\"associate\",\"poll\",\"fans\",\"meet\",\"label\",\"existed\",\"offer\",\"dick\",\"suck\",\"extended\",\"manner\",\"anthony\",\"trial\",\"restore\",\"afraid\",\"rewrite\",\"grammar\",\"random\",\"activities\",\"attacking\",\"sourcing\",\"endless\",\"resolution\",\"net\",\"resources\",\"play\",\"throughout\",\"preceding\",\"regarding\",\"responses\",\"attempting\",\"constructive\",\"appears\",\"commentary\",\"coming\",\"verbal\",\"invited\",\"insults\",\"racial\",\"lies\",\"implies\",\"dialect\",\"germanic\",\"family\",\"understand\",\"project\",\"begin\",\"repeat\",\"symbol\",\"ii\",\"flag\",\"repeated\",\"attempts\",\"passed\",\"nation\",\"claimed\",\"moon\",\"star\",\"flying\",\"turks\",\"symbols\",\"national\",\"theory\",\"carefully\",\"ancient\",\"roots\",\"highly\",\"borrowed\",\"istanbul\",\"bizarre\",\"board\",\"mediation\",\"book\",\"photos\",\"various\",\"christmas\",\"nasty\",\"fit\",\"reflect\",\"stupid\",\"don\",\"`\",\"accuse\",\"son\",\"whom\",\"asshole\",\"flags\",\"non\",\"vision\",\"wing\",\"cultural\",\"genocide\",\"tries\",\"represents\",\"conclusion\",\"shouldnt\",\"offend\",\"lack\",\"reality\",\"churches\",\"writing\",\"dutch\",\"renaming\",\"activists\",\"drugs\",\"authorities\",\"broke\",\"36\",\"platform\",\"despite\",\"water\",\"whilst\",\"unable\",\"gender\",\"reads\",\"officers\",\"armed\",\"unusual\",\"performing\",\"uniform\",\"sought\",\"dedicated\",\"implied\",\"noted\",\"alleged\",\"crew\",\"forced\",\"necessary\",\"force\",\"andor\",\"viewpoint\",\"organizations\",\"becomes\",\"entire\",\"requests\",\"worthy\",\"facebook\",\"gps\",\"balance\",\"silly\",\"listing\",\"relevance\",\"additionally\",\"earlier\",\"crisis\",\"changing\",\"hezbollah\",\"archived\",\"opposed\",\"supported\",\"therefore\",\"engaged\",\"suggests\",\"lebanon\",\"command\",\"2000\",\"army\",\"casualties\",\"acting\",\"technically\",\"israel\",\"established\",\"thoughts\",\"examples\",\"concern\",\"fighting\",\"renamed\",\"behind\",\"legitimate\",\"calling\",\"event\",\"massacre\",\"agreeing\",\"besides\",\"contested\",\"east\",\"contain\",\"morning\",\"referred\",\"outlets\",\"noticed\",\"mistake\",\"missed\",\"strictly\",\"speaking\",\"nowhere\",\"establish\",\"wikipediawikiproject\",\"importance\",\"28\",\"march\",\"catholic\",\"kings\",\"bans\",\"proves\",\"werent\",\"shit\",\"propaganda\",\"everybody\",\"christians\",\"muslims\",\"dr\",\"munthe\",\"held\",\"saturday\",\"royal\",\"london\",\"professor\",\"relationship\",\"writers\",\"san\",\"giving\",\"connections\",\"thinking\",\"swedish\",\"smith\",\"department\",\"texas\",\"received\",\"medical\",\"degree\",\"doctor\",\"medicine\",\"deeply\",\"stage\",\"opened\",\"colony\",\"artists\",\"lived\",\"helped\",\"settled\",\"foreign\",\"resident\",\"patients\",\"care\",\"crown\",\"death\",\"served\",\"red\",\"cross\",\"france\",\"became\",\"gave\",\"outside\",\"extremely\",\"preferred\",\"forms\",\"therapy\",\"publications\",\"although\",\"includes\",\"covered\",\"appeared\",\"newspaper\",\"england\",\"papers\",\"short\",\"stories\",\"von\",\"designed\",\"heart\",\"19th\",\"museum\",\"summer\",\"months\",\"wife\",\"surrounding\",\"wild\",\"natural\",\"environment\",\"blood\",\"irish\",\"muslim\",\"dirty\",\"animals\",\"roman\",\"los\",\"angeles\",\"rfc\",\"complete\",\"plan\",\"unreasonable\",\"hitler\",\"entries\",\"vandalise\",\"japanese\",\"academy\",\"awards\",\"behaviour\",\"suitable\",\"constitutes\",\"located\",\"logged\",\"selecting\",\"dropdown\",\"lacking\",\"windows\",\"commented\",\"linux\",\"metal\",\"lord\",\"fag\",\"faggot\",\"harassing\",\"discussing\",\"treated\",\"badly\",\"trolls\",\"series\",\"drawn\",\"fix\",\"opposition\",\"return\",\"appreciated\",\"actual\",\"thousand\",\"vague\",\"useless\",\"experience\",\"shown\",\"leaving\",\"remind\",\"showing\",\"share\",\"mainstream\",\"differ\",\"regard\",\"private\",\"property\",\"rights\",\"application\",\"harm\",\"principle\",\"positive\",\"negative\",\"liberty\",\"er\",\"speaks\",\"guess\",\"fixing\",\"contribs\",\"forces\",\"especially\",\"units\",\"larger\",\"impossible\",\"special\",\"improvements\",\"unreliable\",\"pure\",\"armenian\",\"disruption\",\"ref\",\"desk\",\"warn\",\"committed\",\"disrupt\",\"applies\",\"severe\",\"instance\",\"disruptive\",\"neither\",\"follow\",\"furthermore\",\"cause\",\"excellent\",\"userbox\",\"userboxes\",\"creation\",\"orders\",\"able\",\"ability\",\"function\",\"insult\",\"string\",\"targeted\",\"finish\",\"admins\",\"happening\",\"shut\",\"half\",\"challenge\",\"censorship\",\"technical\",\"lie\",\"27\",\"july\",\"mistaken\",\"refs\",\"afd\",\"aids\",\"day\",\"white\",\"health\",\"ya\",\"idiot\",\"april\",\"obama\",\"declared\",\"knowing\",\"god\",\"lives\",\"president\",\"stating\",\"human\",\"trivial\",\"burn\",\"spirit\",\"risk\",\"liked\",\"wikipediaarticles\",\"contributor\",\"hoping\",\"participants\",\"eyes\",\"somewhere\",\"cites\",\"access\",\"nationality\",\"pictures\",\"sarcasm\",\"category\",\"talkpage\",\"definitions\",\"categories\",\"pointless\",\"logging\",\"eventually\",\"away\",\"ps\",\"extend\",\"fa\",\"greetings\",\"suggestions\",\"assistance\",\"dealing\",\"ego\",\"acknowledge\",\"replies\",\"avoiding\",\"reports\",\"wasting\",\"paste\",\"encourage\",\"posts\",\"surprised\",\"realise\",\"filed\",\"checkuser\",\"inform\",\"intent\",\"mr\",\"agreed\",\"extent\",\"intervention\",\"convinced\",\"absolutely\",\"justification\",\"inclusion\",\"connection\",\"program\",\"allowed\",\"nose\",\"scientific\",\"90\",\"searching\",\"define\",\"purely\",\"commonly\",\"multiple\",\"accounts\",\"latter\",\"biggest\",\"controversy\",\"raise\",\"realized\",\"messed\",\"clean\",\"posting\",\"introduction\",\"basic\",\"understanding\",\"reverts\",\"tagged\",\"persian\",\"holy\",\"origin\",\"neutrality\",\"province\",\"originally\",\"born\",\"remains\",\"bite\",\"global\",\"products\",\"founded\",\"trash\",\"wine\",\"food\",\"dream\",\"plenty\",\"options\",\"pretty\",\"past\",\"recommended\",\"tab\",\"expected\",\"vandal\",\"novaseminary\",\"easily\",\"persistent\",\"failed\",\"violates\",\"wars\",\"daily\",\"basis\",\"suspect\",\"dated\",\"tags\",\"quotes\",\"objections\",\"defend\",\"continuing\",\"longterm\",\"pattern\",\"ani\",\"benefit\",\"enforce\",\"refused\",\"willing\",\"3rr\",\"violations\",\"similarly\",\"banned\",\"violated\",\"guideline\",\"presented\",\"across\",\"watchlist\",\"nominated\",\"successful\",\"nom\",\"comply\",\"october\",\"uncivil\",\"self\",\"entitled\",\"btw\",\"local\",\"battle\",\"editwarring\",\"sockpuppetry\",\"gone\",\"hundreds\",\"render\",\"sorts\",\"namely\",\"mixed\",\"limit\",\"lee\",\"save\",\"organisation\",\"worries\",\"prohibited\",\"pushing\",\"careful\",\"essential\",\"promotion\",\"factual\",\"website\",\"eg\",\"must\",\"gfdl\",\"commercial\",\"tells\",\"mission\",\"leads\",\"warning\",\"difference\",\"profit\",\"submit\",\"heard\",\"village\",\"arbcom\",\"urge\",\"repeatedly\",\"pain\",\"cheers\",\"conventions\",\"easier\",\"somewhat\",\"systems\",\"appearance\",\"helping\",\"closing\",\"rape\",\"25\",\"unnecessary\",\"split\",\"concepts\",\"resistance\",\"topics\",\"apr\",\"answered\",\"abusive\",\"arab\",\"apparent\",\"theyve\",\"gotten\",\"seek\",\"clarification\",\"clarity\",\"2001\",\"clarify\",\"trip\",\"river\",\"brother\",\"david\",\"killed\",\"identifying\",\"knowledge\",\"school\",\"appreciate\",\"efforts\",\"tools\",\"benefits\",\"identify\",\"wikipediaquestions\",\"constantly\",\"pussy\",\"joke\",\"racist\",\"brown\",\"violating\",\"values\",\"hate\",\"someones\",\"jan\",\"2003\",\"lets\",\"variety\",\"obtained\",\"whale\",\"everywhere\",\"boys\",\"blank\",\"unsigned\",\"holds\",\"rock\",\"gold\",\"money\",\"lost\",\"credits\",\"conspiracy\",\"al\",\"gang\",\"credibility\",\"yeah\",\"hour\",\"couldnt\",\"role\",\"considering\",\"playing\",\"alright\",\"2011\",\"publisher\",\"locked\",\"properly\",\"recall\",\"super\",\"pathetic\",\"spend\",\"vandalizing\",\"gene\",\"friend\",\"confirmation\",\"pump\",\"effectively\",\"correct\",\"attribution\",\"2008\",\"misunderstanding\",\"verified\",\"permitted\",\"everyones\",\"prefer\",\"victim\",\"baby\",\"bother\",\"protocol\",\"finished\",\"penis\",\"heres\",\"morgellons\",\"gonna\",\"heck\",\"disease\",\"confirmed\",\"fibers\",\"complain\",\"skin\",\"unique\",\"objective\",\"goal\",\"symptoms\",\"develop\",\"methods\",\"physical\",\"complaints\",\"high\",\"california\",\"substance\",\"abuse\",\"29\",\"objects\",\"balls\",\"colors\",\"inside\",\"conclusions\",\"study\",\"poorly\",\"foundation\",\"families\",\"affected\",\"causing\",\"signs\",\"literature\",\"recognize\",\"lower\",\"photo\",\"courtesy\",\"charles\",\"occur\",\"reached\",\"patient\",\"observation\",\"60\",\"seen\",\"size\",\"ball\",\"czech\",\"raising\",\"germany\",\"korea\",\"path\",\"kill\",\"wprs\",\"violate\",\"girl\",\"cool\",\"participate\",\"mentioning\",\"running\",\"liberal\",\"ignorant\",\"joe\",\"boss\",\"shall\",\"^\",\"_\",\"computers\",\"bitcoin\",\"software\",\"file\",\"files\",\"allowing\",\"receive\",\"financial\",\"institution\",\"required\",\"mainly\",\"system\",\"technology\",\"exist\",\"giant\",\"sending\",\"kingdom\",\"exception\",\"mountains\",\"council\",\"let\",\"vandalized\",\"absence\",\"cat\",\"pick\",\"pic\",\"goes\",\"mad\",\"value\",\"brief\",\"revision\",\"outdated\",\"japan\",\"uk\",\"isbn\",\"inline\",\"draft\",\"species\",\"update\",\"documentation\",\"won\",\"highest\",\"card\",\"determined\",\"thoroughly\",\"expires\",\"adam\",\"institute\",\"bio\",\"birth\",\"calm\",\"ridiculous\",\"father\",\"mother\",\"master\",\"cares\",\"upset\",\"naming\",\"blame\",\"npov\",\"unlikely\",\"wikipediarequests\",\"crap\",\"confidence\",\"promote\",\"abuses\",\"consent\",\"lose\",\"administrative\",\"higher\",\"powers\",\"promoting\",\"push\",\"conventional\",\"congratulations\",\"leader\",\"mature\",\"anywhere\",\"beings\",\"blogs\",\"initial\",\"sales\",\"management\",\"cars\",\"ie\",\"tons\",\"fictional\",\"anon\",\"32\",\"beauty\",\"unit\",\"demonstrate\",\"correctly\",\"incorrectly\",\"titles\",\"sports\",\"ignorance\",\"phrases\",\"cease\",\"recognise\",\"generally\",\"comes\",\"somehow\",\"sincerely\",\"hates\",\"ought\",\"formal\",\"campaign\",\"advertisement\",\"encyclopaedia\",\"buddy\",\"sake\",\"input\",\"url\",\"copyrighted\",\"materials\",\"copy\",\"contained\",\"zionist\",\"jew\",\"bias\",\"israeli\",\"palestine\",\"mass\",\"innocent\",\"iraq\",\"invasion\",\"hmmm\",\"ashamed\",\"imagine\",\"hold\",\"deal\",\"conform\",\"additions\",\"wikis\",\"contributors\",\"young\",\"imdb\",\"shes\",\"herself\",\"stance\",\"performed\",\"actors\",\"toward\",\"holding\",\"prove\",\"identity\",\"verification\",\"credit\",\"kid\",\"scene\",\"ending\",\"wilson\",\"night\",\"updated\",\"offered\",\"hadnt\",\"explanations\",\"learn\",\"undoing\",\"intend\",\"society\",\"terrible\",\"hero\",\"pass\",\"2013\",\"attack\",\"league\",\"gain\",\"colour\",\"cost\",\"increase\",\"types\",\"hmm\",\"chess\",\"whenever\",\"golden\",\"king\",\"consistency\",\"complicated\",\"contents\",\"items\",\"incredibly\",\"arrogant\",\"islands\",\"map\",\"concerns\",\"average\",\"broad\",\"filled\",\"violence\",\"stuff\",\"buy\",\"sell\",\"waiting\",\"document\",\"describes\",\"licenses\",\"remarks\",\"cleanup\",\"likes\",\"hopefully\",\"historical\",\"evolution\",\"core\",\"charge\",\"receiving\",\"speech\",\"america\",\"assumed\",\"spelling\",\"reform\",\"tired\",\"rude\",\"building\",\"objection\",\"unblocked\",\"writings\",\"ethnic\",\"warring\",\"apologise\",\"satisfied\",\"apology\",\"issued\",\"error\",\"wishes\",\"missing\",\"fly\",\"bastard\",\"disambiguation\",\"sooner\",\"belonging\",\"majority\",\"rightly\",\"informed\",\"le\",\"affair\",\"root\",\"passing\",\"texts\",\"dan\",\"pink\",\"pro\",\"screen\",\"kindly\",\"icons\",\"ways\",\"era\",\"sport\",\"muhammad\",\"james\",\"icon\",\"news\",\"november\",\"base\",\"television\",\"channel\",\"panel\",\"experts\",\"jones\",\"memory\",\"opposite\",\"surprising\",\"target\",\"market\",\"selected\",\"chart\",\"arthur\",\"hit\",\"concept\",\"air\",\"kinda\",\"anymore\",\"attitude\",\"month\",\"apologize\",\"stalking\",\"theories\",\"misinformation\",\"credible\",\"threatened\",\"ultimately\",\"complaining\",\"vast\",\"meaningful\",\"abc\",\"portal\",\"boxes\",\"merit\",\"lying\",\"logical\",\"jews\",\"judaism\",\"western\",\"portion\",\"matters\",\"antisemitic\",\"face\",\"eastern\",\"demonstrated\",\"familiar\",\"contentious\",\"extreme\",\"defense\",\"cabal\",\"upper\",\"blocks\",\"jesus\",\"christ\",\"class\",\"completed\",\"infobox\",\"track\",\"songs\",\"personnel\",\"musicians\",\"artist\",\"assuming\",\"proved\",\"99\",\"himself\",\"participating\",\"eye\",\"wanna\",\"copyvio\",\"meanings\",\"origins\",\"yep\",\"u\",\"achieved\",\"stuck\",\"meets\",\"specifically\",\"applicable\",\"recreate\",\"improvement\",\"flight\",\"center\",\"facilities\",\"buildings\",\"spacecraft\",\"operation\",\"brick\",\"detailed\",\"exchange\",\"services\",\"performance\",\"operations\",\"capable\",\"allow\",\"orientation\",\"wide\",\"range\",\"projects\",\"tracking\",\"satellite\",\"lines\",\"stations\",\"82\",\"vacuum\",\"conditions\",\"controlled\",\"online\",\"physics\",\"earth\",\"experiments\",\"m\",\"flow\",\"ancestors\",\"musical\",\"bs\",\"db\",\"sun\",\"kevin\",\"remaining\",\"singer\",\"b52s\",\"weird\",\"sold\",\"integrity\",\"pay\",\"continued\",\"solved\",\"merits\",\"trust\",\"rank\",\"independently\",\"diff\",\"assert\",\"coupled\",\"delay\",\"existence\",\"harry\",\"latin\",\"scholarly\",\"hypothetical\",\"questionable\",\"bold\",\"clearer\",\"honor\",\"speed\",\"measure\",\"degrees\",\"applied\",\"propose\",\"criticism\",\"klan\",\"duke\",\"interviews\",\"ideology\",\"guests\",\"moved\",\"bunch\",\"phil\",\"grow\",\"rfa\",\"revisions\",\"interpretation\",\"submitted\",\"arbitration\",\"audio\",\"bigger\",\"longer\",\"conduct\",\"reach\",\"glad\",\"improved\",\"26\",\"eh\",\"da\",\"creative\",\"licence\",\"massive\",\"fan\",\"thirdparty\",\"caution\",\"reporting\",\"wellknown\",\"professional\",\"writer\",\"noone\",\"nobody\",\"paper\",\"hasnt\",\"publish\",\"utterly\",\"absurd\",\"head\",\"lifted\",\"quickly\",\"sight\",\"shame\",\"theme\",\"schools\",\"huh\",\"gas\",\"fear\",\"consistently\",\"agenda\",\"denying\",\"shared\",\"regions\",\"necessarily\",\"britain\",\"rely\",\"dna\",\"extra\",\"dude\",\"childish\",\"vandalising\",\"grant\",\"fired\",\"marketing\",\"incidentally\",\"widely\",\"acknowledged\",\"bbc\",\"win\",\"die\",\"minimum\",\"standards\",\"contextual\",\"intention\",\"feeling\",\"deserve\",\"invitation\",\"yours\",\"react\",\"substantial\",\"coi\",\"knew\",\"heritage\",\"unfair\",\"hurt\",\"fac\",\"chris\",\"dec\",\"warned\",\"ruling\",\"skills\",\"felt\",\"updating\",\"simplified\",\"empire\",\"laugh\",\"jokes\",\"disagree\",\"tv\",\"episode\",\"revolution\",\"tomorrow\",\"conformance\",\"governments\",\"coverage\",\"ed\",\"lots\",\"trouble\",\"magazine\",\"nazi\",\"appeal\",\"mood\",\"normally\",\"holocaust\",\"thinks\",\"nazis\",\"communist\",\"cut\",\"alive\",\"killing\",\"room\",\"forgot\",\"hardly\",\"accordance\",\"promotional\",\"purposes\",\"unblocking\",\"reviewing\",\"participation\",\"signature\",\"alter\",\"postings\",\"wishing\",\"encouraged\",\"classification\",\"assessment\",\"six\",\"activity\",\"turned\",\"database\",\"amazing\",\"proud\",\"scope\",\"fall\",\"allows\",\"quoting\",\"terminology\",\"valuable\",\"decent\",\"bullying\",\"route\",\"comfortable\",\"religion\",\"exercise\",\"congress\",\"tree\",\"causes\",\"bullshit\",\"buffalo\",\"cia\",\"terrorism\",\"unprotected\",\"cleared\",\"threatening\",\"thousands\",\"instances\",\"machine\",\"convince\",\"specify\",\"createdtook\",\"wikipediafair\",\"wikipediaimage\",\"untagged\",\"hang\",\"warnings\",\"corrections\",\"fish\",\"formula\",\"method\",\"brain\",\"42\",\"telling\",\"racing\",\"minds\",\"ride\",\"weight\",\"ethnicity\",\"moves\",\"critics\",\"aimed\",\"wording\",\"letting\",\"truth\",\"round\",\"passage\",\"mine\",\"frankly\",\"owner\",\"hide\",\"ignore\",\"bothered\",\"union\",\"officially\",\"complaint\",\"movement\",\"messages\",\"bot\",\"final\",\"\\\\\",\"agreement\",\"describing\",\"interpretations\",\"continues\",\"explicitly\",\"near\",\"daughter\",\"knows\",\"contrast\",\"minutes\",\"irc\",\"hearing\",\"fox\",\"strategy\",\"ran\",\"lede\",\"journalist\",\"street\",\"chat\",\"atheist\",\"perspective\",\"atheists\",\"interests\",\"engage\",\"circles\",\"citizen\",\"publication\",\"24\",\"insert\",\"silver\",\"relating\",\"desire\",\"branch\",\"minister\",\"failure\",\"interesting\",\"evil\",\"episodes\",\"ma\",\"reversion\",\"registered\",\"prior\",\"172\",\"nominate\",\"pakistan\",\"possibility\",\"airport\",\"pics\",\"fuckin\",\"belong\",\"bear\",\"mom\",\"model\",\"immediately\",\"explains\",\"gods\",\"serves\",\"sir\",\"parent\",\"dollars\",\"returned\",\"occurred\",\"territory\",\"judge\",\"authority\",\"stands\",\"reflects\",\"convicted\",\"escape\",\"accusing\",\"deemed\",\"join\",\"green\",\"breed\",\"horse\",\"reputable\",\"meat\",\"4th\",\"location\",\"moderator\",\"40\",\"africa\",\"com\",\"bye\",\"maps\",\"subsection\",\"spelled\",\"mos\",\"layout\",\"factually\",\"representation\",\"stable\",\"heading\",\"placing\",\"spoken\",\"approval\",\"advise\",\"effective\",\"advised\",\"george\",\"broadcast\",\"corresponding\",\"unconstructive\",\"processes\",\"washington\",\"constitute\",\"print\",\"hebrew\",\"prince\",\"disney\",\"qualify\",\"forth\",\"consistent\",\"automated\",\"fool\",\"dear\",\"personally\",\"deserves\",\"depends\",\"responding\",\"es\",\"disgusting\",\"depending\",\"intelligence\",\"corrected\",\"translations\",\"navy\",\"polite\",\"questioned\",\"dating\",\"socalled\",\"fourth\",\"smells\",\"indians\",\"lick\",\"monkey\",\"personality\",\"imo\",\"cast\",\"coast\",\"addresses\",\"default\",\"judging\",\"folks\",\"homeopathy\",\"dozen\",\"2002\",\"prepared\",\"promise\",\"testing\",\"volunteers\",\"k\",\"p\",\"f\",\"ends\",\"numerous\",\"individuals\",\"48\",\"spread\",\"dare\",\"collection\",\"kolkata\",\"updates\",\"dig\",\"normal\",\"indication\",\"caught\",\"assist\",\"dealt\",\"scotland\",\"spell\",\"elses\",\"barnstar\",\"switch\",\"tonight\",\"translation\",\"evening\",\"experimenting\",\"asks\",\"protect\",\"o\",\"extensively\",\"letter\",\"advance\",\"heads\",\"discrimination\",\"visible\",\"deletions\",\"sufficient\",\"hot\",\"handle\",\"closer\",\"wise\",\"clue\",\"grade\",\"gives\",\"double\",\"derived\",\"events\",\"123\",\"identical\",\"radial\",\"equation\",\"sphere\",\"a7\",\"sorted\",\"convention\",\"chosen\",\"responsible\",\"priority\",\"prevent\",\"whereas\",\"generic\",\"supposedly\",\"censor\",\"subjective\",\"disregarding\",\"introduce\",\"scholar\",\"undo\",\"notified\",\"sounding\",\"students\",\"inconsistent\",\"antisemitism\",\"radical\",\"weve\",\"worlds\",\"classic\",\"terror\",\"attributed\",\"deny\",\"accused\",\"supporters\",\"allegations\",\"relation\",\"disagreements\",\"slim\",\"engaging\",\"bytes\",\"resolved\",\"refuse\",\"charges\",\"wpblp\",\"vehicle\",\"thread\",\"zealand\",\"tea\",\"iran\",\"admitted\",\"interview\",\"suppressing\",\"sees\",\"ah\",\"shoot\",\"millions\",\"adds\",\"hidden\",\"starts\",\"announced\",\"teacher\",\"islam\",\"attended\",\"starr\",\"balanced\",\"phrase\",\"aspect\",\"crazy\",\"county\",\"enter\",\"orlady\",\"dozens\",\"reversions\",\"fault\",\"distinction\",\"guidance\",\"offense\",\"martial\",\"viewed\",\"soldiers\",\"disregard\",\"matches\",\"haha\",\"falsely\",\"leading\",\"forum\",\"rollback\",\"alex\",\"paying\",\"investigation\",\"failing\",\"trivia\",\"independence\",\"macedonia\",\"occupation\",\"staff\",\"exact\",\"player\",\"intelligent\",\"rid\",\"bully\",\"ha\",\"everyday\",\"mistakes\",\"runs\",\"require\",\"responded\",\"et\",\"server\",\"wikimedia\",\"servers\",\"75\",\"reveal\",\"reduce\",\"regional\",\"csd\",\"allah\",\"smart\",\"tax\",\"fraud\",\"committee\",\"practices\",\"victory\",\"beautiful\",\"brings\",\"supporting\",\"secondly\",\"turkic\",\"expansion\",\"replaced\",\"movies\",\"shot\",\"comparing\",\"hypothesis\",\"extensive\",\"meantime\",\"calls\",\"communication\",\"threat\",\"dangerous\",\"persecution\",\"deep\",\"arrest\",\"award\",\"paragraphs\",\"mental\",\"host\",\"wrt\",\"linking\",\"dynasty\",\"indicates\",\"biography\",\"universal\",\"turning\",\"hisher\",\"imply\",\"armenians\",\"historian\",\"problematic\",\"centuries\",\"precisely\",\"director\",\"persians\",\"fools\",\"respected\",\"bin\",\"responsibility\",\"dogs\",\"impression\",\"inserting\",\"assumption\",\"footnotes\",\"mar\",\"philosophy\",\"grounds\",\"v\",\"nut\",\"distance\",\"bar\",\"individual\",\"breaking\",\"jerusalem\",\"tone\",\"contradiction\",\"represented\",\"race\",\"ethnically\",\"fantasy\",\"rate\",\"deliberately\",\"damage\",\"invite\",\"signpost\",\"volume\",\"productive\",\"modified\",\"carbon\",\"constitution\",\"nevertheless\",\"printed\",\"fake\",\"korean\",\"1998\",\"ownership\",\"internal\",\"w\",\"votes\",\"ukip\",\"weasel\",\"challenged\",\"strike\",\"chief\",\"contrary\",\"covers\",\"73\",\"cats\",\"visited\",\"met\",\"iranian\",\"hands\",\"pr\",\"gallery\",\"drop\",\"cancer\",\"diffs\",\"idiots\",\"figured\",\"teams\",\"proven\",\"guilty\",\"register\",\"defending\",\"minute\",\"carry\",\"argued\",\"jump\",\"scholars\",\"hill\",\"eating\",\"voting\",\"importantly\",\"cookie\",\"spot\",\"implying\",\"impact\",\"prominent\",\"computeri\",\"mesan\",\"diego\",\"chula\",\"vista\",\"shitheadi\",\"moderators\",\"warming\",\"climate\",\"500\",\"scientists\",\"camp\",\"humans\",\"memorial\",\"festival\",\"angry\",\"continental\",\"counties\",\"cf\",\"taxes\",\"editorial\",\"twitter\",\"traditional\",\"holiday\",\"jeff\",\"unbiased\",\"1992\",\"revised\",\"odd\",\"merry\",\"wikilove\",\"denial\",\"rumors\",\"blanked\",\"300\",\"bob\",\"puppets\",\"fire\",\"imho\",\"sea\",\"wtf\",\"gauge\",\"narrow\",\"annoying\",\"n\",\"programs\",\"peer\",\"forums\",\"andy\",\"symphony\",\"concert\",\"exclusive\",\"conducted\",\"mario\",\"legend\",\"arts\",\"rose\",\"studied\",\"prize\",\"singh\",\"referencing\",\"showed\",\"motives\",\"actively\",\"enemies\",\"nicely\",\"serbia\",\"remark\",\"surprise\",\"parents\",\"older\",\"socks\",\"intentions\",\"combined\",\"feelings\",\"window\",\"michael\",\"homosexual\",\"prod\",\"suggesting\",\"raised\",\"pronunciation\",\"arguing\",\"economy\",\"authorship\",\"historians\",\"reputation\",\"todays\",\"semiprotected\",\"tom\",\"attend\",\"court\",\"expertise\",\"bulgarian\",\"democracy\",\"till\",\"recognition\",\"classes\",\"20th\",\"wrestling\",\"avenue\",\"soviet\",\"1979\",\"religions\",\"piss\",\"fast\",\"engine\",\"consequences\",\"mirror\",\"relations\",\"lazy\",\"burden\",\"joined\",\"letters\",\"perform\",\"pretend\",\"worried\",\"os\",\"tables\",\"catch\",\"seeking\",\"disagreement\",\"interpret\",\"viewpoints\",\"expanding\",\"talkback\",\"aint\",\"kosova\",\"onto\",\"attached\",\"duckworth\",\"redundant\",\"honestly\",\"rvv\",\"youcaltlas\",\"bush\",\"prison\",\"entity\",\"accurately\",\"partial\",\"justice\",\"proving\",\"pronounced\",\"perception\",\"probability\",\"coal\",\"outline\",\"covering\",\"refusing\",\"brothers\",\"meaningless\",\"loss\",\"dark\",\"essentially\",\"decisions\",\"interaction\",\"brains\",\"entertainment\",\"movie\",\"reconsider\",\"began\",\"ben\",\"girls\",\"smell\",\"histories\",\"orphaned\",\"aircraft\",\"cock\",\"mosque\",\"vandals\",\"success\",\"dropping\",\"documents\",\"usual\",\"genre\",\"dot\",\"patience\",\"retard\",\"spamming\",\"mary\",\"follows\",\"pleasure\",\"closely\",\"ages\",\"boy\",\"hair\",\"aggressive\",\"rebels\",\"genital\",\"serve\",\"eats\",\"assad\",\"wedge\",\"residents\",\"writes\",\"ukrainian\",\"newer\",\"introduced\",\"overly\",\"utter\",\"norm\",\"learned\",\"hall\",\"organized\",\"forest\",\"domain\",\"currency\",\"sum\",\"biology\",\"granted\",\"fyi\",\"britannica\",\"valley\",\"dc\",\"comics\",\"accessible\",\"centre\",\"wholly\",\"treat\",\"wall\",\"teachers\",\"bag\",\"scale\",\"greatest\",\"critic\",\"conservative\",\"extension\",\"kyiv\",\"crimes\",\"whatsoever\",\"absolute\",\"generation\",\"eu\",\"illegal\",\"undue\",\"youth\",\"karate\",\"planet\",\"comprehensive\",\"daniel\",\"opportunity\",\"contributed\",\"palestinian\",\"bug\",\"rare\",\"fought\",\"equations\",\"plans\",\"revenue\",\"paul\",\"rudeness\",\"1995\",\"sanctioned\",\"bald\",\"codes\",\"stamp\",\"sit\",\"enemy\",\"riders\",\"squad\",\"walmart\",\"math\",\"videos\",\"sanctions\",\"protests\",\"watched\",\"orthodox\",\"christianity\",\"notrhbysouthbanof\",\"cocks\",\"logo\",\"rational\",\"erroneous\",\"blind\",\"magical\",\"doctors\",\"maher\",\"critical\",\"medal\",\"fucked\",\"cells\",\"wells\",\"liar\",\"techniques\",\"tkd\",\"stars\",\"smaller\",\"classical\",\"cold\",\"copies\",\"anti\",\"genetics\",\"ugly\",\"strip\",\"cult\",\"ice\",\"malik\",\"ms\",\"jack\",\"collective\",\"grand\",\"serpent\",\"backgroundcolor\",\"technique\",\"spongebob\",\"trollish\",\"survey\",\"shelf\",\"uh\",\"johnson\",\"slander\",\"finnish\",\"pashtuns\",\"sarcastic\",\"correcting\",\"nigger\",\"affairs\",\"pull\",\"thankyou\",\"fartchina\",\"ukraine\",\"sagetoh\",\"examined\",\"resulted\",\"libel\",\"santa\",\"weezer\",\"drivers\",\"tomaxer\",\"haahhahahah\",\"yaaa\",\"yaaaaah\",\"4chan\",\"kaganovich\",\"roering\",\"throw\",\"av\",\"student\",\"polar\",\"coordinates\",\"wonderful\",\"fork\",\"blah\",\"reserved\",\"corrie\",\"gaza\",\"nodes\",\"7115159191\",\"tender\",\"baba\",\"booey\",\"deneidaccess\",\"generals\",\"lessheard\",\"vanu\",\"sri\",\"surname\",\"funk\",\"fggt\",\"chemistry\",\"colonies\",\"clients\",\"caduceus\",\"di\",\"edie\",\"yourselfgo\",\"wikinews\",\"feud\",\"kaff\",\"terri\",\"noobs\",\"spotty\",\"flickr\",\"clairsentience\",\"raymond\",\"ullmann\",\"ltte\",\"packages\",\"motorway\",\"dodouche\",\"dodododododouche\",\"meatspin\",\"securityfuck\",\"hematology\"],\"x\":{\"__ndarray__\":\"7Rb8QZQYbUFwypZB29sMQjND90E7lcVB6OZ2QCzgDUKa9Xc+yoMBQhRtCEKJNwnCSz0Fwp1NnkGagg9C2oLcQZ3OAsImy7HBR+YawWcJGUJQNiLC45cIQRlRIUJSZxZCsz2pQYx+zMArZNZBvZrOv8+GS8ISohPC4dn0Qbsjq0AKOphBdIo3QIT25EEdSS7C2u7bQasGIcKE/grCR8oGQgFqyEGaLrNBaN0RQhOgWcJhba9AK8P0wRbWKsJFwH9BSZ14wQlpH8KTfMhBCocJQhuGFkIER6LBqd8EQpt+CMIKt1xBkH12Qa33DUJUsDHCujG3QUzdDEITGAxCXhtPQeJ3K0KhYl7BpmwewclqJEImYEfChG6ZwMobFcEVLnrB+DjKwaicA0IeoKLB68AKwZ95RsLgkQhCA4kKQTQXc0Cy0XJA5WYYwn1nn8FNjkhByYkVwuA0xUDekAxCpDoIwvPnMEFEJ5HBRlUwwuVfn8G2vbnAkJ45wiWwNsKwqkVAFlIhQlmtGMK6bAlBb90oQe6VAULhhtTBtvMKwVJVFMLj1TfCcLyhwW15I8JkTSHCipNUwfERwL8K3WzB9i/WwQcSwkHoQMXA8ZZHQZa7R8LlqQxCu9rTwbp9tEDsYC+/uIQmwlwCK8Li8QVBj23lwKaaIMK+GI1Aw0rSwUaURMH+/xXCrLaAQT5YCcIq0IZBC/YowjMijsHATLPANGwawPG+/kFdbYJBy7sAwtME7EE7JPpBEowiQaa6CMJoYRxCtDHhv/SMLcIfhQVCdiALwggSxUBQwAjCPIAhwsAKpkGE3qZAuG1yQSp7uMD8wibCQhUcwncRZcF14JPAmfDTwXTIF8LYtkVBFF+lwA2i6MEAih3CYsgZwrjeG0Gj5MVBHZ4UQriZDEIHbQtCHZkHQgP3BUJQkQ5C8qUcwtMlAMKP5gpCe9V8wSkGIUDgSwBBQejXQGtUZEFz+sjBeIzVQUHHO8IceWjBsCLIwZaq6D3EROZARmOXweaMJkKEXO7BZICIweckBEHP7tdBPkuhwZcA68FxMQdCBSiHQddDgUAFXX9B/X/NQM0XzsHmhv9Bk1eHwFfjDMEURALCmjD0QRY430D+WwFCRdupQPG1LcL+5CHCIKsdwi7sZEFngqXBOk0bwnUfWMFWvhhCrfwBQvK9DEHFbgVCyaUMwoMQFkGqMyXClRfqwX3WF0ComP9AZDLwPyaBCUKtYjRA8kElQrrtCUHYAAVCuaG2QCAdFsF3WexBYcgywoH1GcIHAhzC1BufwVJPxMHrDzDCxbPKwdLYW8FwSG9BaXVIQdxVv0H//hFBzISQwe2xosHCrR1CKWdrQEn8CEH+CerBAgYMQjd6AsEdxStCHlQHwcx6DkDAKoZBFGq4QN951UHW/BNCia8OQv9U68Ffag1CJMUbQbBBX8Gdu8XBIltMwleoB8I/WBrCPNUNQWmHq8Am74nB+ucSQlnAKj6SDMHANN7owTckS8HLyRE/U8X5wfibDUKU7g1C7skDQsZsCsJ0dxXB7HKAQSCtxMC4l09BwiJHwQCtVUDg8qY/Pz+rQX+2VkBZAMfBtw0UQkxlob9iCr5Bgy4nwSuKocHxffTBU9voQE8Ir8A32jFCdk2CwMoO88HeSR5CkfLUwS+Iu8BtbCtCVNUCQgkJUMEeZue/Hw9XQKu0DkLc4oHAy6qaPx0YmkFxPchBqwLdQOO+IsK06EdBDuMCQmS/icBthsVBi1UwwuPvr8AijZm/CfqjwBXtDsJ9Wh9BnPUXwio2EsJNuxvCzfXjQa+dXUEKTfRB7fcswucJL8J44kVA3aPrwY6VJ8GlWkPBZrHVwVdFh8Ho1gvC8idbwKL68sEkYYBAWvQOQcyOGMKMgDzCl0wWwL/Vm0DTiA/CnGIqwqZPuUGRsifCocUowvmXKcL0m9RBXwo0wt1WIcIIuLZBYk+3QY/ug0FrWhlCV44ZwrM100HYFs5B4sEiQs6NG8JwYQ/CTbymQcK4eT+ANyC/ri4SQihoD8Lk0/PAJjwdwoPVAsHksCPBCCCCwMYr/0FKDE/Cid8rwp1BKcLek9xBXZIpwlENVkGxL8VBxGeawdbNL8I5+yLBK08ywlBaMsIgswNC6Jwxwl0Sd74fZMFBVjYiwpkhS8EIeTfClNoBwmK7VMKNsbNBrVkMwpm2s0H8OxU/NyKDQctGTMJHz7dB4psvQvhF0UDmgh/CL4Afws0FJMHGriLBXYH/wavzGkItlhlCBFNJwUuiIkKaohhCaZwwQu6xHsJ9zGtADvS7wRns8sGeGkHBpxEEwnLLpMFzj/nA6BNNwfQrEsJ30obBm6wGwto8ScGvGIbBQmy6wUsP90C6HRxC58UbwTrQ/MHXHgjCLE8kwsTKAEEtjPtBmD4UwhyZ/UE8xsVBvBrJweV8U0H36iRCeDoAQu+L8sH5R7bB8NTVwXHbrMGJmQfB01Awwvl5EUKRe/PAudTiwdpFp0GsH2pBbp4IwlFEYcEn2NNBng/AvwRWokGaYylCJCe3QfpQHEILorLBpWiuQOJcZcC1TydBIU0TQoSBHcK0S5BBVCOnQPm5lkCf/cBBaQ7FQSCR0EEVTArBtedfQf5B4b9dxyBBzQJhQV0xQEFI1mJBjCjSQSSBQEHv38tAz7iHQfrbGsKZrA1BwuoEwtgyiMG9j9LBzrIOwq6xD8IkDehBcdJJQStaEEKplehBK7PmP8uFPsEtL6dBnMmvQNfeKsKMWPo/ZFpbQVb1C8J/OEE+DHXJwTgY679R8frB/10swaFfrEEqNMFBLzjiwQ/Ip0EfcZZBrbZNQWdZRMGTyw3CVT+Cwf7UwkGi8zPBWRtiQNPNVkFuMgjC1t8pQiNz1UGzZodB7prDQHa0tkF/0+NBP+sQQkVypsDwk7xB4vbUPgEiccCkgOfB62u2P26MnUB9WXZBR1MSQniKBkF9rUVBDGYhwUGGBL+sfj7BKXXmwawKysHgZhNC+twGwr9sncFo20HBuINvwdtbUkBuEFFBw8V/QM/kHsJ68TzBG+ArQlwz/MAl0vdAb+4dwnL0MsEMDyjCaWAAQolkg8GRZOVB/2HKQIFC60BsBsrBpRPjwEK5iUH35i/B/14QQcocIcL/iT9BLNSZvm4R4EEmU9LBLI3CwU9oSz+69U7B133twVTxJsLEqPFBrvkdwe/w7kH6SirC0MYWwn/JHEGuCgjCt+mmwM55iUEytNZADQgNQFTYAcLomPxAKYU6QTbzH0E7DkFBcrQLQmn6yL9CfKI9CPrjQRe2LL/iKQ9BgdCXQQ6gGsE8YofB2H/cQcqE1kDSrhNCeUgDwhKZucHYYShCUr9AQWxgQUEIBOZBcH0XwsU3YUHG0ARCjX3ywYD+CECQPKNB7DXaQdEgYEHteWXAj40YQk9P08HqpibBavQxQQX+l0HKlujArBZBQdvwEkLb6gzCiIfJQGs1e8AytuxB7QI5QXdwuEFxv51BJfVEQAMfskEp+6NB5bFMQbKcMUGv0QJCvWeHQTd4/0EeTwDB/FNswTh/AkLHXElBnvjeQdh4v0HFxwZBEdEKQjGmCUKtjyFBcqwmQdgwFMLojwhCDjsBQnSZQ8C1dgVCLRzswLupBkJXM85A3uMGQgkuu0BPZMlAoo37Qaka/EFQuPlBhAsEQird9UG5pD5B7zYDQs699EEB+JpBOfr9QfD1NcFNAAxCFjlHQWGI2MF4/ZjBxFWXwe5RqUC2MCVBRvcWwsKAAcCCG67BKpc3wP/m3cDrKgPBXOkZwhKsG8L5qiDC2qc1Qc9W+cCFbgDCimUFwjqrEEAw7OtAq6ZzwbWNHcL9egxCPrcOQjkILkLB8hnCprosQWicyUBGjw3Bl0JkwRvAHUF3VP5B5uETwjUoEsIpSP9B5geIwRz0B8LKy5jBTrbjwZVVj8Hdp4vBMMmAwbKUAsH4vx3CJPAcQaATpMEnb0nBE7DzQc4yBkItCJ1BYjYJwkbtKsI9lwHCdXybQECaDsJvBJa92EvSwWSv0sArXz/BQ8ipwWkK58Er9ai/EwTewSMgfUCmithAua0EQmoecsGbGMHB7uajv5/A6cCmeLtBaheWQSW7JsC3x9g/giT3QQV1EkIGoQLCVoQowL9+HcIF8NpB/aPrwaMVBsIOiwTBHnnzwfNzRsIgAv7BqjQewQVZc0Duj/LAK6DUQa1b1EG16BJC7xzPQawCLcIqDAhBGSKpQUKp6EA/A8BBI2cmwl1AtUEZgBVBAS0kwWI/90HcuDZBjioHQuyqN7+Z2KhBWSX1QSO6T8J0hk7C29YIwokCQkGM8SpB43oHQST7X0EwXIlBgH7/QcO4BkIy9T5BtOK2QcT2L8KnFMVBM7UWwjezSkEEqRjCNksVwrquxD/Pjsw/jq86wSellsGxAeRBaq0JwjUxDUI8eAbCArZrQUoocEHam5zBkl8ywVXODUESWDHCgqRVwfrxIcIIlRfA3ATTQSOJnkCiQFlB8oq5wEzTucBC0SHCozpVwVA4RUG6pT5Be8CqQUNv5EGC5+LAPmziwT/1GkJ4Eqo/LwsxweRULcJXITa/CZFiQZuCykH+LQZCkuntwaucDUJXiPNBZLTHQYCryMAnKU1ATvBewW7230BYWCFCd0I9QaJJ4sFZyjZBijACQumVzUHvECHCfSJ5wXI898CetArCujjCwbMKGMLO0BLCnd0hQn+RtcFqs2jAzm4XQnGrpMCFG65Aa/adQbncaj/P+QjBVn3eQDC030CC2arAuQExQar3FcDf3wFCijuQP7TSAkEY0bVBUeQ2wkIQAMJyB1tBHFXywRBidEEv86jBtKkIwYEpg8G1EcnBP99+wAuQ58EqgStC25SJwKfc2EGtVR1AaZsfwfUZ50Drm8TAI4IkQhDxFUEIXyhBxVg2wUbVHMKQnyPCdfpGQaTLu0GgE9fBxpsbwdcGUUGuFRvC0NgEQuaZBcG5oYZB2jTVwUigPUFQtc5BKON5wbWmVUE6cetBoErPQRJkeMG8kYHBAncawOZyPsIPQFlBJY0GweHs+MErI1DBl5IvwudvAcHpMuVBR6+QwQBYc8EAs/vBxVZ8QHkSHz/zntVBBvCowPuIokHs23XB2120wSp3OsGuezrAyvQUQsjBM8JGxxXCOe2EwZXLdEGuzrO/mkoowlJ6RMDuSjfB4KjbwbHghUAzC3/BScDUQNZ9ScK5wCXBZMVYwd2XDkJk5PXAVpAyQcTsYEHYMfxAZtG+QCwg6kGG6JBAt9yBwR6LwUHWkHzBd1TAwRxGST9n2LbByUflwXZG1MGys/RBF7CHwRa+4cC15xTBinfCwPVSm8ERo5rBFJO+wcSju0D3oYhA2zbNwT94uMFuR+vBfBsQwhKey79WP6LB+lj0wRmAvUFbYVTBqDw0wb6qQUCFxGdBR5MSwL/Y0sFRsmjAYWlRwLlZksECfJnBW0vUQc69i8CmAKQ/6Rt4wSI8ycEAV/VAADDHQfIQJMEILwJCnRyewbGUP0ESKeZB09KbP8Rpe8AG+TdBuK3jQbGpbD5Ux6fBBBIqwhZFD8LAiBfCK0VvPy4/M8Bz6tbBX0uYwWhknT8dUzHBP/9SwS0478CiFKtBQq/8QM0yKMIAnwpCuPXAQKJwG8LlUS3AsdZuQf/3H8J9A4rB58+jPpKqdsDkCIRA/GKHwUukcEFwcK7A4wcTwkORtsH0iP9BtKwMwj2NMMLbOATCMrAhwg4w+ECWjMfACNrBQWjU+MFTka9BUQUyQfUqAsLGSJbBVJPVQOFrh8Hd/IRBWMcNwnzxAsGcLA5CV+PzQCVXo8ByFRpBNioqQUemCsGs7OnBGvWIwWCArUHiDsNAchiUQfr/sEAyuMlA/IMWQbc24UDrlxdAdFMRQiJw5b9GSNbBpnoqQhTQKkGzSna/5RL6wb62VcGZyeXA85UGwmGD0kFz2gjC4AtSwUI1IcF+73xBvRYWQesBNT9w281AjuElQY4JOMHvglbB/YPjQEHwa0A8c1fBBrkxwfsx2UCC+MNBErbDQG6HQUFKy9DBlaMVQrVUF0ESOiDCqim+QewS4MFnWAzCQl4Mwc1fH8FAaI3BYC4KQPd0L0E4zNZB8nCdQXj8ikBPdDVBuUfqQY/ea0BXDehBgmgkwvhqfME/DLzAxMPAwLbJQsDMDQpCpQvVwWLmEMLJcyDCTLFzwWpeKMCs+CxBojq4QZj5tMCCB+FANGgjwcPHzkF4ecdB/YI3QVkm8sEQlwnA6t4EQVPiFT6xq8xB0RuhwPS2pcHB5irCxeLxwdP9+sGhX87BlLIAwf4DfUAhEsbBvyMcwtDRkUFSmhVA5eIWwh3UKEEmPCZCa9hyQJuri0GT9UtBVzWAQcBM4kFanr3BCJqpv5d+v0CM5ctAQSeKwI4JKUIE4SJBevymQGCaEEEtGzpA3t6twZZ3EEF+vt5AVqdTvxAYgUB+caxAX/V/QGuIAEHQJ4tAdzj8QVGrDsJ/6Z1AS+LPQR52mUBigezA1QkrwZMizcFC8uNAECIoQdaHqEC5UNlAFzQwQcwSEUGpYGJAajpwwVA+GMF+AFi/cQcSwepGJEHqd63AxLwLQJia2cF8rQbBzUOYQIbrFcExx4BA2gPgQORcNUA54Q1BZoj6QFPZUkGjlf5A/I3LwBqGg0EoxGpBPqwlQVP3SEEuOgJBoZWVQZl1/UG3L+ZBoSTPQQuHkEGzQl5BfJCmQRZroUF6FpjAN6QlQYpOLUHfQcrARHgBQrjb38G+alPAp1eEwNckOcAIwDjAZOQlwgNOKcLeWlLBajfCQRb0QMFp/xpB5ofoQc/q9EEVZP9BYKzxQZUG90EOSflBtE71QbJk9EEdcfJBhIHuPz1nuT/rw37BfkwqwHRkWsK0yVvCAaBcwu52XsL6hwXAZmEjweLO9cAEBppBHwz5QT1kND9Y0jrCSpoLQTv6C0GFzvtB9xf6QTPM8kHZqvlBUmfkQb8QOEGvDd1ATbnbQM3w3ED08zDA753BQKfavsHo98FA7p0BwUuLcj9mNDHCQGwqwgP9EUJqxdVBz43ZQRhUAUFqcQFB73MWQsEeGELa3xZCFVcrwv2eLcKXMgxCS0ojwoKk4UFY8vJBXZbkQbvX4UEFMuJBu1K6QEMdj8Eq/qDBjnWTwYo5HcKiAh3Cv1SlwTRYqEHw4OnBMR7VwZLg8b9rp3JBYhOUPn8LTkDpG3tBYC2LQWUChsGFRhfBszHiQetbA0FeyNbBXUYYwAigxMEga3fBDm/xQXeSE0LN3AK+PO0RwU+X60GYwH3Ano/jwbTw1ME1CZPBfKq4QXhrfMGGlLpAjJG5wGFV5cAL0jc/sSoUQTzO58A5kLRBwxz0wZZBI0LLIwTCUOUEQo9Z3MEPvhXCmzaZQe87HEKaKqZB07mAP9XnasH3tp3B3qkAwgFeYkGpRE7AIE10QKwX6MGvmfJB5oJxweeDHUCvVJ3BE49ewbggD8CM1hBCWjywQZ2+hUFijvrBXKikwajoxb8Hcr5ATr6wQNnNr7/qJPBBJyRUQHwPA8IdeX/B6fxNwUdWusF7ie1AV/orQZPolcHaj7PBcvFNwcVMZMFEbr1AzpQRQULtOUEU5Q5BkkadQfNRsMDXwtJBCefMwa6DWEFCQLbBOrfmQcpABcH6C57ANytWwPaCvsEs1LtBNg52weFuJkDSbx5AdisJQdExDsHd8YPBE7ewwVpt3cAKLjFBPD6aQMiamMHDlxHBIgmGwd0TrcEXWNbBAQVvQfhhtj2BgUxBA/oUwutH6sC8pQfCi1OCwaDLvkAZYss/PuRowbD7jsDUR6LBtz8YwuEJTMEmsahAlByhQS2ePcF9Sny/S6FRQfL7ekAZFdJACc0qQhObVEFceybCXq2TQScGu8HbOTfCTBJTQZhRPsKV3VBBG1X8QGFmtEHA9KJBI8GmQS9xsD+55qG/JiOWv1uNoMA7pj3AvSwFwhqrCULtAC5BAEyYQYwCyEDfvjDC6GCQQVtA9EEY4gjCUkeKwYDYDMLbN0A+UGUawLulKsKzjHpBXZH+P4ChNsKitBHBEA7ZQAbra8Fn+s++IiwIwlfm70AmW75Br0d8QRGX30FdPAnCz4eBQUmpl0HEyZpBnm7gQDPmc0F5U6zBuEQ7wWrhhMECvr1AtooNwl6PMMJPvzxA+tTOQSWKIMJkNTLCamUZwqWfbkCyRp5BPXQMQHxhqMA4UPnAUgCEQHRZ6EHUFmxBzD+BQWMsG0Gl4pq+tHKmQLDiDEH/UOhAvwv8wT1b4sGVDCHBcAoWQY//EsGdbZNAkoYlQeA4iUEV74hBbtsnQmPoJUB1V3/BIoD6wWNQJMHGmitBorcYQB8xicD8DfVB/zU9QUoyDUFbtKJBgpW2QRSFqL9ymFBAZ9p/QJsZoMEnuKNBNaYxQZdMrkHvN99A9+oAQcutW8DwkQVCtisPQhiVI8B7E+zAa5fMvtSRY8EC/v7Bz9W9wXvGZcEkV4nB6B6HwVE7yMHU1pNBOVuMPsS8GsHfC8FBI78OwfGJJkDiDxFCfduqwYeRNcBBqmBBlJ+jP1s9QsCzsjFCpYvLwViy4UF70KxBEsS4wKSQVMHS/MXBTQpgv5zt3kE3tcHBUGT3QGwzGcELQLzALzRZQR9QvEACddJAsW3GQTDFXMH4FHZBz/WSQdFomcBig4ZBGkHowUbGvEFTsYHB6olDwdxf18BrU+ZBMorJP7o0ckD+2QzCaHW0QWOIAEKfwPjBoDsJwVPb/MGI2ehAfVhFwtcCxEAXhdFBNIZzQeXQRsLcAUjCMOP4wZGemUHv1txBT3UKwqE1zkHeAeRAncWeQQ8x/UF4+hjB7dfYwaOj2cHTR5TB5/NCQG1if8F7mxlCDozjQZNPhEG93WxAkOq9wENzPkG52OTBSvNyQVmOpEC6tBjCUotowZHaiMHcvjjByN3aQQBu8EF94StBoJafv5ouHkH1CbLBzwqUQTy4tkGYH2RANV0UQK2LdD+XbdHByXnVQBk5psEdVYLB63EbQjbOhUG2oLtAko72wXK85UGWfqLAGj7mQI5FJUJnuRlBc6EKQj8uab+7r8VBCntIwBnKe0FK4QnCKvJuwcz5h8He/pO/2YVqQNEVKsKJr1VBuSpBwLjBgr92kai+aaN9wX0g80FEq3VBu5C0QVuUPUG/AGZBwjm9QRptZ0EwQYfBoM1EwlmwqkAweihBkIFTwZqxFcEGz4u/Qf24wFkNZsF8JuZBkezxwQ9sWUFDrsnBXBCjwIrN70HqE9nAGObgwQuZJsFCZpLBdJqWwPmtn0EDt8PBf9EWQbN8IkExz6RBW24+wN7XlkGx/43B551GQcdpBEJpoMJBPTYkQeegVcFg5B1ArQ9zQQarqsGvBLXB0iNAPvX1dUEtc6nBT8aqQEUTYsF39JhB3kSaQHadPkHXs8bBYdybwQCKjkATCRHB4gDmwO2GiUBcgqVAyZwlQZfEn0DyKwfBzCV2QBlNnr9dx7vAVyx/QDVRN0HenArBS+oTwDjsrkGLmjxB10MGQm31Z7+rDhZBDMASQcXk0kG057BBLFDJPiE6jMA3UlhBT51bQRQrCUKLCpDB2bvoQQ3iTsH7mqfB2FqKwX5QCML9o/jBAMz5Pa1yhz7I41XB0X8VwYj4V8GgdJ3BrdWBwDHTqUHUltLAiyMfwUeCHkEUebrATKupwQwXGMBY4J3B1eZhQdV1WcHaPgVCqwd5wZOSTEENHD5BoWMNwX2poUGkG/PAdsXiwPHJ8T/CiiLBcrBwQTt/D8E22CPAKKKoQDQTeUEooYzBieNvwKoG9r/18UJAFavEQOMHoT5zqslANCYzQZ+P1kCJ2J5Bp92DwdIZkkG530TABHSTwIYXVMFqu/DBEVlaQaJpkr7EBK2/SQCfwE5wgL8PI+tBw7eTQeKRrsAiI+JAdriAQQzEg0AfiIXBdyRsQWHyjcH+aQtBQ5/6QQKNfEHDBpfAaWKHQd7QgkGal3DATN0NQXeu60GohINBpYmcQUpGEkHZrXlAi11EQRHy2UBfP5a/EQiawYR+o8H6tCBAxJPYQTaSCEFAEOdBDFjSwRejosD+xTNBmrSqwRe6UkHvmefBd4n/QZZzm8EnkuPAPpixwZvknEGj2SVBBeMIwqxjqMBnjKfA4XySQVQ1/cGYVhJBg79lwTGFlMGad3o/ckruwHPDpkH7pJhBk7cawv7980HeDQxCzWqEQVUK2D/uww7ByxarwRGCs8G5VfjBntq7wRZhfMFucV3B8HJpwQqjo0FdYANBjlqJQcXB60G95iRBG5dzQUyzVEAu3q5AxpkBQUDEp0G1y+DB+WgxwCg45MEGeQlBjtLYQSFtQ0Hhcq5BoDYKwTv0FEHrqYzBOrEFwe1S9j7yx1PBY5I2QdwNBEBBBXK+DvOYQR4WlMBNwUbBepRkwf9cNUG8+S/BRQtpQUOajsEIE1y/MrlzQXs+iUHhRzJBURA9QeSei0BZmjVALMnVwfT03D7JccTBodn4P5HXckHbHiQ/LxGgQZUAHcL0EJlBPTvMQYZ4u0BqQ0pBRqqrQADvA8HYLsNBzLElwYYLvkHK6XY/cMmwuxzkUEHSMFFBEVhOQd+sKEL7f/rAyilKQelFRUGwO+PAOtx3QRH9/D8qBy1Bt7+Pvk3/lsEpk+tBECW1QFfHdEHGomZBkcDuwfioHMFvycrAdpULQYwEZcFEngZBOi+YwF674MDRL/lBe3NyQXsFG0F3ai5BJpOUQXVhs0Fw7wLCQlUEwmZJCcJZz7JBVY1AQfVsmD6N8p4//csQQXYXEMFm787BFQoEwtahuMEBts1AU4h6wTM5usD8P1PB/q4MQU6u4kCXqUHBVQjmvmJoKMGd7kBAubX6QYjiI8BZQpzB1pcOwhJRL8Dr6Q9CN6i4wc3WNsHR7W1BI5WMwW2GA0KizJLB92sywZCSnUGMD5pAgbVHQN6FMEHra2HBjw+cQJ9dW8GUydZAAGX6wIu/2T/9JI5ArSoPwuMTlEGRKgZCiKNvQRn/wUHg7SzBbBjUwXpSusBDxJlBssSxQNatl8G+2HrBU1/1QONgBsHu0OVB3ybCQKMiecHSIBPB1ApLwYlgPsHrcGdAnzyWQbcwX0E5BhbC8WZ2wRhKWcEiXJXBIHFxQcBFGb8nhWjATsPTQaIYlEDoYhvB9Y9gQMIAiEEWaZfBkBm0QJOIU0H4nG5BveY1wjWpU8HTbuDBRSaYv6+cNT9JBWzA0pKUwMywnsFdSORBq+QMQgee48GxywVBKogOwndr4kAoVjNCTqWuwABYjMAl9/PBmjbdwYz4CkKcn4vAt0IBQQPnlsH5++bAI46VwKVIikCJcL3B4iFDQK2rEr/w8BnBXKVdwVLHRMEROV/BwxGkQdODLUFgWn7A2FrDQMT5tMHwwZHBJug8QVAz8MBzf7nBkDiRwZAKScF/CyBCSnTkQNrs0sCXadJBr4FpwLKci0GZbTfBqPTRwSimwsH00wjBT0M2QO5g3ED3RqZAFXnUQM5BjcDjPJ/Bg3ibwQvM6b8P3JxA1j3owGbkkz/O0VvAwRQmwQzTHEGh/9bBa/BLweTkgEFLltvAj+wtwTpGo8FYXDTBfgEGws5VtMGHkixBswOvwc19FMKFtl9A8nMrwqLM6UFbakBBpkTnwdpsicG6zLNA/7/hv3yiTEEXzJjBmVY/QP9CikFAXRFCvn04wc4JFr7hCifB/kjvQUluBcEkrWPByX9ZwEOtib80vwJBv4j/QUdh1kFewQhCdeuNQfhuFsJLbk6+SZ76v3AaDsA1Ka9BSMObQHbo18Ddw3dBk5f+QH1kM8GoSYpBi2eTQZbxtcAXDKu+AGDlP6YwjEEhqvRACEvFQXS8LEGZBA/CYugXQtDUnkCQsZ1BbF0ZwcQ1q8EA+qC/e2PewRfDvECgp2zA24grQVOakUEwI05BwQ8IQmISBr9sbV1BnUwzwkM/KcEatxhBc2mBwaz30T//n0JAW9xLQco0nkCrGU8/EqbDwK1NYkHalAzBP0dNQXaIzUHgd0jBBVehQQtTI8D8CSzChgicwUWqy8H5Al9ACWkVwpvLQsH3/AtBrYsxwf9bEUK6k5XB4u2cwea/AcGy1YDB7oogQVB8M0GM6LDB2gbYv1pTBMKuE4RBNsOwQZzYNMHlaoI/mArXwEdlAUH+pbtBYDmePxzRAUKhPELBFzsZQRbKI0FF3jtBfJOeP/s7KUEiPX1BtRANQo/wp0Ged3NBxlYiwpC2gEHD3b7BxwsuwOHZ8MAvs5jAlznev32WpD8kK3zAdEYGwhqtHkGqyBRBJ1quwBl/o0H5YG7ANoXUQEB4z0GcNvxA9dezwSWhO0HdvotBvbbpQHGPJ8AkVRXAtqgKQnKDm0Fm+vxBKs2WQRSF00Dwmb1BPDvvQbHrMb+LAJzB2MvCwBJhxMH3ikPCUK0jwDisU8CBl0ZB2JsgQQfS/EEKa+TA6rQ2QaS4LUF/0xrBBKOJQVAvzsDSzhVBhesEQvaXY0EA3QnB9KZ0QPM0eEG0sTpBAKQrwQ/0z0A2R0XBMePLwQ0zwsFBSK/B+lAOQMeGD0HCOcLAIZnYwTNQ2EDLWutBMTf/QQ3dK0ETeZhBg5CoQQPI1EDOcLnB1VUFQauEw8DwmwRC0uWAwEHgMEGT0Y9ARCskP4BnOMEs1ZBBKq+yPih3JUF3mVDB8wq6wdyY+8Fk8HtBzIVWQYwHoEBh2ozBQ0OTwfNzB8BszQdCf17CQRCMFUG5M/5Brtw5wVnbzEEZmcvBxr2XP12WRkF5BQW/qIYKQSd3TUGB4MdAa5I1wCwz88Fz65xB8tIRQn1l/cACc3xBJDxOQZZ0JD4I3jrB009OwaRTsMFoxn/B0dSXQMiPbsGrB4PAP3CjwVQgrUGhfd7BCMuWwSZ4W0HempdA6SJ5QZUt5sGOf35BkauKQcCq88FSCrDBnekCQMghCMFK5rtBRHu+PxeeVUEkKGZBeW4VQokhxcFrkN++Bzn3QQ4lekGsNYlAITIOQLQHhkEsUdrAuNeDQGiKmkAxq9FBbbBcQB2tb8A539DA22aHQcCBz0FLzrPBvSVwQIm6DMFXGw5BQ8KMQcJz+8EBX/nBWUeVQEzwx8HUEIbBgHQGwpMVg0G54g3AYUYgQQa/TUFmAN9AdV8CQZzZCsFsQ9zACmc1QV4wGsG28rrBzaXawfBYisDyRcTBGUkxwTGPN8HFK8zBOnDmwMq0CsF4uEtBpq4AQqe86kH7zMe/uPQcQFjInUEGvRrCNTcywoXuVcF2HBzBeHSEQfa0ID9jg1BB4S2wwD3BpUBmgzBBsfQHwtlg8b812KzBAuHMQJVtJMGXN2hBZFYjQdkhK8GkjfRADKPeQEsiK8HqRV/BM4IWQRhFsMG5nFHBQgcGQjaXq0Hsk4hBn/h4P6RWzUAietBAiZWtQfBmjkDZqIFAedidQfWFxMAHJplBfm/cQLJ6H0CCXCRAJZEdwehvDcCJcEZB6zfTwA0XWUGVOyxBeYaFwMbZoD/WGKnBNy8YwSGnGUKt+si/402/wcB1hcHp0M9BKA5KwQsCpcErvk5A0AajQcnKysFTdBBBq/KWQQWRDkFaKLlBY8mWwTcSJUG/UjNBqgSBwRmXaMDYmFDBblPIQOlK1kBVW63AXu8Xwey/kMHBWIDBlqqoQSxULkCL8zFBlw9IQQcqA8HPg3VAOvkXQMR/fUGXLl1Bj/dEQbkGTD/ZoDRBQD7AwW6uQsF1S53AULBsQTcDfMDZkKfByrukQRVDbcBDIY3ADewkQgDXsMGzxpVAgajLQMrOvsENPKXBO9CrQc+i5j8IH6o/U327QV4soMFFMpFBVXu2QN6DmUE04yrCCQfPQbJMN8AdHs9B8IPcwAboxcHuRMHBg+aRQOMUOT8gvQJBoPjGwbJKacAuWN9BR0cowQtJDsESUWLBETVywdPyl8HwSw7Bgs4gQPio4kD3nTbCXDi9wGIE7L/FJYPBf4TswKOxVz6gst1A0XaYvhKpd8BSgJvApp5ewXaduME3R7hBRLmAQI9mqMGt3SdBoJW5v5RHQUE1FShCGF5WQRUPfsB309e/RxSEQbZgosBWAa3BA5Q5wQkutUC7IlXBWIEswU8oIsHadwRChVkawpA1uUG93wfBYMn+QLJ1SEBPyuVApvrSQYQPeb7nTO3AWIYewCy5MEEkn0lA6CL8wBvIjMGQkrJBXQl0QVyQVcAF1bLB1tv4QEqaBEJ6j0tBdrrMPxcAgEAG4wfB0EokwGVEQEDcz0fBeXFHwZ8tnUBkG99ByyC3v6pMmUFalh1BLCmfQPDmxcGxCHpBmyCGQIFulz8Cr6VBrotxwB1nn0Byj5E+/2bfQGJXbMF97GNA9F/vP780esEUEcvB1GOEQQjxuMGS+9PB089FwTL+zEAiBZdBnh+0wVP7REByF+A/oaluvzBkv0EYZzZAEzHpQd6YYcHGMBhCmK+zQfYwB8CT4PhAPdj0QVK06MB0Nv3A4KSaQTuqMMFvkkPB5+jlwPEGxMAyd6ZAbAhVQWKJMcGcNpK/P8m9vzYFykCkTJ7B1vXpwJB+S8DvrkNBPeufQTRdA76ea2BAEjYIQsiA00DjuXpB+CkJwblnXEFK4JLB+M7UQAibqsHDYvVBM2cbwQQ2dUDuWUNAGXxEP+6Gb0F9+RpB9ZNEwebk9kGd8VxBYEO+wexKaMEstLzBRQ8oQmpqs8Fu9bDBSpwdwS4BOcCCNthBZbEAQUH37r4tJAbBhVUUQdZJwUBtqahBepycQVDwPMG38sjB0CGZwEQmisHdLxzB21OnwCfeqEC9lD9Ahp3nwSlZkMHIdIPBDeYhQWVs5L8FePdAMdL1QEoRi0FTSFi/eONLP/XRuEDUsItBZFh7v0cOGsFkQvg/quMdQDDF6UG5NqbAAWGrQUVwUsBSAJVBdJjjP0mFh77x0gNATGGNQWIzssAyPY5BrrKPwdFF1MFdRk5BRzOqwGrWvkENOiS/zHEKwrkTeMGHziTBI50hwtYk0EETqblBH9XDwN4SV0Fusz1BdBFdQT0NiEEyqvhBJ3CPQULrb0EowZhBY9XKQcgBkUB3NpxBUjg5QSqii0HOb/nARaYgwTZnF0C81IdBMWMyQfesp0Ek/UZBcWwvQbJTfEG2QItBulpVQQ26fD9FGCPAXdenQFaWpUGTsLa/6C6uQPDFJ8LJ8e9BsacxQcnHJMG8FI1BwRnawAIX40HCMQtA9fdcQcBPGUH2DTRBMRfRv9w6ZcDEJYTBrkZAQa94msF2copB2OjGQEvLqEHWoHXBzSzyP7KEOkEuHJJBr5wYwjkT40GKBAfARnr1wNkRREEVsENAA/fDQZ7losFxAsxB/jOAQSdGBkAOsp3AW1PpQWL/pz2VrLVA7NW0wXLSP0FUH9JBoeDwQCeCh0F+iw1As0CoQLNLJcHLbqRBGbnXwXMqoMDsT9/BlDnQQGodvD/SDsfBBA6iQUqmhkHp4L9Bn73TwQg8GMK0ZL/BKUxewUfz3MGbpYNBHWruQbetVsHgZXlB0fswwmF+qEEH2mTAFC4fwe0GAkLKtWZBq7ztwFw4kUBTaWc/9BRxwX3bmL7duv7BSVUMQMDyRcLwRJ/BTnaBP7FXiMCGDSFC6ZMGQWjq48H+25PAphmtwdwvBUCMBixB8I1SwSfGD0FyUYPBeuKZwPaDssFH20jAqgNwQerPL8GWRATBVKg0QeNF50BSnfzAwIQLQIWZx8EC12TBlzuKwJHvq8Bmg3I/Y81vQDUACUHUZaNBk4IAQnJ6R0FaSZXBRGzlQSDyqkGZP9ZBKW+bQXBN28GBGF/BKw9LwbO6Z0CTbxVBria5wLoxhUFOMkXBk6bXwa6YoD+EO5zBe+VtwZQvmEFsbGNB00/yQcsCokFsMRFB1AxlQBtJZ8HFn45BO9nlQaY9m0BITrDBJmjMwJZfocHTtulALNT+QeO7KEEoMJTACHOwQZTHlkGrOMhBXhhWwZZjj8FpSb/B/0JsQeWcQMEG9sbAzC2FwEU8s77YgxPBFuvMwRD/XsFhol7A3XErwJrsWMEC5M3AG2+ewGV9t8GqxarBBQs8QVq6TUGh4ZVBYpDhPy+TiUHEGVtBpDHlQFl0g0BwsC3A4atXwbxXS0DBXvNAH0S8Qc3hVUGhrnZB7jmWwRqmBkF0HGPBzcazwUrZukEK1+W/J5nWQQ64RUCSTw1BkiCeQBDTkMGF3qXBxRoeQYA4LcGM3gJCLj3TwHDfuL+HrYFBrLEQwQ5izsGEyMxBYa9qQWbKDEFsOZZBIMMDQbqXuMGA0YdBcYowwe/wBkHL7lTB7iUWwrisv0HBnzHCu6wzwqLqCcLKrp/B6K+PQUtgFEHD1v0/u2NiQPz0tkGb/2bBl5deQWNY6MFRCZRBHSYtwQStBEFKfoXB0Gbqvo5KBkGAG0fBo+ZbQYc2l8Gs0JbBHuIhwhlKxcCkmPtAptaLwUPeXMEQ66dBcG9XwTPmPMGaxZbA4owHQQmpAMALY+fBGBY9QOzS3r+P0Q7CS8LTQJps8UGM7A1Cw347P4fUmEHtMcxBTjhqwFqjksCRlL3BH+vPwTJETEEwciJCIPrxQFWkEEElLJjA2eSiwP67RkG++vZBKvzQwDO6qkFziqBAgkOlwWQ5DEFoH4LBL+j0QcNw58CanPrADu1FP6rz5UE8cBNCXb2Xv55LuEDbwKRBDDgzwauLksH1HTbBHyW/wA/bFsKhMYrBsHUtwI6FsEBVESXApkJJwacam0HZ1VRBYJW9wImA5cAp2VDBUQpeQauImUDZPPHB870IwjVp4sCEIW29rxapwQaUP8APCWbAzW7CwHbEMMBs6rDBh3+9wHBr7j3zfPfAuRpXwW/FxEBfqQfBSCiHwaHkr73zSty/hktmwcEWLsGcksTBJsY6wBLsvr3aoCnBd+s0weAqi8EpMQNCpc6EwX44jkABheFB412ywRsOkcFy9pbAnK6fQFS/0EDgnXRBHQZuQY3IncFqwRBBiTKIQB1AlsEdKK5AHA5nQBC7lUGTOzRBUW8AQQnt8cAIMDTByqYcQL3bvkCihSrBgYWVQIrAnUEm8ItBIQltQETbmEFQ3+DAn0gZQSN3LEFdkw2/S6WYQekJ+MEI8WfAwHygQdEKA0F2XqvB1CrfwCX5dsFqIbzBdOc5wTl6n8ChIU9BuURowTPqoEF5hydBoQkTQOlIEUFM6exALhqMQNf7lz6b1XJAaCGxQFrNNUE+4sNB87sFwZVgv8FqEJfBOkCQwOX0bEHMrSjAF1r1P8bWfUFpugVB7D8JwE6+gMHqjqJAx2QWQYn1/EEJARrBwminwL9ujUFdIVNB/2rkQdC820E/i6zBPDcbwMomE0Jz1rlBu0a2QSALocFsPoDBfALhQc5Wn0C5SBxBfUbuwMiQP8G8zW/BNUdMwYkt28CmV+0+936svuU9dMFyi7jBCJuMQHEPVsG/MbrAwX+FQcMmusD4zMNAyghQwL4n5UF+OmZAletfQTf7A0ExUO5A+tHkwAjXAsHxf/Y9fARRQWiI90Ekqa/BRk81wQjifMH6zhbBjEwPwqLwrsCpArjB0L2YwE4AnEAi4cpBFR02QNJZIMHfFrI+x83IQGD1a0CoKbBBMmfnwDq990EvuhpBPENbwXJ5M0G5KzbA+Nelvy91sUG6t4PBAuxSwW7Ei8HjNtI/wAP4wOXjfb6RyejA/JeFv3xF6MAux/dAR7AzQS4c3UBBfgLBfbtBwp5g4EDW5F8+T9COQIdUBkEQmbPB7e5HwRBfkMDokN3AY5eHQSE6NMAM0YnBSjSOQXmrE0I0SQq+5vKXwLPVJUElQspBDZwuQdaGgkGDBaNBQtq6QSQgs8CTeKLAA5L1QNG9DcJrA4fBH1+UvTXnjcG+As7AOIeqweWiWkCMvHTB/uI7wUAcGMEbTZ9AMQKgwOGOWEFZssdBCtMjQtNM8kGUi6bB9OYgQSQDesC4yYrAnm6CQYmUUEG688nBAXqVwTI6VUARi0PBFLcZQbE1u8DUqS7BuzCTP1XeS8HSJMrB4vOowIYZSEHT0NLBCikeQYSVEMCElV3BP8eCwXldgUE73JRAvuOXP4e/H0HhlDBBdFlbwbTr9kFHSTbBMJ6Gwf918cCHAkTBw1LvwXcP2cC/77TAK6lzwNyAFsH6VEFBF3eUQYCGgEH15M9Bs469QTJig8GOmTPB/mrjwMrohEEeBaxBUUPPQOWncsHlKVtBrFgnQXSbk0EaggVBuRu8QNOQicH/5iTA2SmLQZqU9sAkCPnAxwexQQmiF0KgVns/ToILwcqBacH19pbBlmjdv1sMGD8jgKVB9MLzvx/n2MAIdUhAsUa6QNzcqEBgUBRCdnJtQa5jBkEeX7jAvFHOwAKXPkGzXApA+c/xwAIeAMCXwOhBR7uuQHL2TcC6Ch9AxiMxwbXrYsEnoyxAHRqwQCqqb0F3B4HBtBGIQfuDwMCA/+/AIoSjQIxSdsCOL8O/aUEIwWyAh8HMnCpBV0RbwDGd+kAu+PFBY5hZv9i5H0FrPuVB1yKnwf4nVUFb4wVBcooSQU5urcBg4tNAFXW7QcVCn0EpgspAgXSdP2cxzMDDBk7A2RFhQdOk7cDU4xbBxGN1QN3t8UEl86pB/ZtqQF8QO78Ci4lBd9EOQdWaUcGnQKJB1bgtwSeuGUH9+y/AMEMzQTyqqkH7madBN1ZcwAbWhsGlLaNA6BQ2QDq+HD+f6/i+1Y+xwQCZSkGR91LA4jgtwV6XncDAdxHBJT8lvy323cE9tobAxqOOQXQ2/D7/zDlBrikXvjdKusG4O17BNebIQM2fasEQEmzBUOe4QNzOrcERiZI9mqvCQPamAEA0oajANMLBwL0TjUES9wZBRuqWQeyekMEh6A5B+VCjvg73FsGiSZZAK/FOP42EAsIuuBRCldoUQlZcFUKIhhVCtOQDwhsZWsH7U5M/ZZJDQdcBhkEVC1fBk88kQA5PdcA4kmxBa3IHQGOoPMDNYVVB/SWRQR7sekCVOrtBQ9y6QU3mesC874tB1wo+QUM6RsD9PzrBkMOVQWCbjEEG1nvBJf9Qwdo0c0EblzbAlqh6QWvllkGbE4PBqVTAQTB6eEDO8lhBfiGdQKvgk0EDfWDBFSgnQbTxy8DcPLLBhdLkQSo6e0GQFcBBn6c7QQprpkFJJKhBdVKEQTgCB8AIMOtAH1N9QdQKx7+xuxxBOpp6QfJko8BcUsM/j4pDQR+j7EFjj7TBjiNJwU2RWMHu1iPBvzBUP5jzh0A0aSRAibnEwFUi/cFxgfC/G2sqQQ+Sr8EAjJxBq/KrwWRCXkEXaatBLrcrwSjfrUG1IaNBRFpNQaVJq0HpCblAm49qQCxfsEEXyjbByTPBwUcuEbzmo45BF7jfQT5Slz/asHVBu4vbwFRGWkHiiMjAHz9SQTBAqMATR2NB35ZcQdj108BbsGdBxpdQwKjgnkEy+unAPmS+wez5jMFMg3RBCh7TP6pB/sANVhFBWNOmwalAQEHScM/AV3PMQNFQtED+MSfBsdUkwYPD4L5ewJxBruVJwAYWFkEFefw/y2qQwRgYtT/sJpRAJWnUQIzTT8E3L9nAYO4tQScMWUDK4hJBKmclwHZubsHDl87AoYzVwC01TMFMo5fBS8xnwDjPez8jLMg/ai41wZ0XBsB4E2xAcLn1Pw+ojsDMJzg+AlvmQRcrCEHvSQbAjYpxQZG9FkBSZfvAD+7LQIWppMEdMGzBJXBMQSJar8HEwq8/iULMvxRbRUCDvTdAKdJtQTNbvMHIoi3BjzwpQQOKM0HiwBdAy5USQsoMk8GL51DBxRURwRjF+z8hXv9AH/bNwCO5MEFK3p1BmNq6PzHfscHRWA5B0iqEwf5u/D+ZjaTAHy0FQUFPFcE5cVLBQMuDwW7RlcGnCZjB+RAWQvauoMEEThNCnfK9wbFI+sHqviBBXlHHwekOQ0G8TS3B/R0fQfrEmMAxdtLAiW3jvqGXOsEDPF1B5a3rQIFlbkFsG75B0fNjQIayvMATp3fBi6yFQSFlgkGTWLlB6XRZQVicmkFE7Jo/GvD5QL5mAcBh+YfByBNrwXuzokGQrMHAPMwYQlzqO0EbXJA/JU2nQVK/mj4em/1AnVyNQSti6cAkKhHCNYFUwJgyBMDEhS9AwrWwQNqLfEAfKqHAIY9EQD7W/z9SJstBejnmQSzpp8Cx9nnAizJfv01WcEFezvbAjifOvrT010DkHh1BPBesQauhlkGrtghAQvQjQYOPcMEXn8tBYkIuQEW+U0Fl2YLB1HwEwaK5kcGAVuU+GrtdQdiJKMHL/RFBOioVQWSbVEGqsZfAGnoLwQ8pZ0DfquVB5LrlQRcLp0HBy4vBATjAQJ/168BPojtBn9htwQd260HfpK/BxN8FQdHaBsGV19vAitjzQCa4nMFmLB3Bac5CQRjAo0Cmb2NAWVOvP5gTnb/UAFXBhRklwWKbp0DkohRC3DwdQc3J60BiyZy+fl9ewQZxaEGkRtXAhqfmwOiDLUHi/3NBFVHnQZ0lNEDGpYJB1uWxwQYLcEEErWNBdSYowcZXH0HqDM7A24v6PouXQsE2S5a+Drj0PvMCzEHz72TABAuhPyKUA8D9cMRBlDxbQb2Ry0HrMvU/x0HFQMrCucDJWLE/hZ0dQjclFsEVjO1BiEHLQd87y0GLPstBysxsQQcpr7/PJnxBAEWfwCjDnEGRUvfARGOzQeK6s0GgCUHB5wgZQGHKGcGwcIRBDrevQSJ5H0HGpC+/LjzxQSE/lMBc6u9BFzTwQSNQzkEC8l3AHzvKQWclykFUGe6/UyCXQJXB0kA1ZBDCH6TPvg33/EAo4ZzAKKxeQdgds0G5E7NBsovMQURb1kG8QuJASwXLwWf1fcEtU9pBnjZwwUB/nkHARp5B8tmQQccS4UE9eA3BNc+UwPP13UGmog5ClowNQj5IwcFERONBHBIvwQ==\",\"dtype\":\"float32\",\"shape\":[3934]},\"y\":{\"__ndarray__\":\"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\",\"dtype\":\"float32\",\"shape\":[3934]}}},\"id\":\"f47b9e85-b4b1-4ba8-af3d-f9ecc6698b0c\",\"type\":\"ColumnDataSource\"},{\"attributes\":{\"data_source\":{\"id\":\"f47b9e85-b4b1-4ba8-af3d-f9ecc6698b0c\",\"type\":\"ColumnDataSource\"},\"glyph\":{\"id\":\"e8119f4d-9f57-42bf-a076-02e2040812bd\",\"type\":\"Circle\"},\"hover_glyph\":null,\"muted_glyph\":null,\"nonselection_glyph\":{\"id\":\"c2180802-a271-4be2-8ce8-4e33a1ea7f7f\",\"type\":\"Circle\"},\"selection_glyph\":null,\"view\":{\"id\":\"a37dc804-de2e-4cfb-9537-bc9e18f993d3\",\"type\":\"CDSView\"}},\"id\":\"cc01da31-9c93-46b5-b614-2d36e6b97d93\",\"type\":\"GlyphRenderer\"},{\"attributes\":{\"fill_color\":{\"value\":\"#1f77b4\"},\"line_color\":{\"value\":\"#1f77b4\"},\"x\":{\"field\":\"x\"},\"y\":{\"field\":\"y\"}},\"id\":\"e8119f4d-9f57-42bf-a076-02e2040812bd\",\"type\":\"Circle\"},{\"attributes\":{},\"id\":\"45c809e4-d577-4435-b5a7-09e26281668f\",\"type\":\"LinearScale\"},{\"attributes\":{\"callback\":null},\"id\":\"f82abea4-85c9-42ea-9155-7d813b594f3a\",\"type\":\"DataRange1d\"},{\"attributes\":{\"source\":{\"id\":\"f47b9e85-b4b1-4ba8-af3d-f9ecc6698b0c\",\"type\":\"ColumnDataSource\"}},\"id\":\"a37dc804-de2e-4cfb-9537-bc9e18f993d3\",\"type\":\"CDSView\"},{\"attributes\":{},\"id\":\"2eff4b34-8aa4-4974-9fe2-6883d872882b\",\"type\":\"LinearScale\"},{\"attributes\":{\"bottom_units\":\"screen\",\"fill_alpha\":{\"value\":0.5},\"fill_color\":{\"value\":\"lightgrey\"},\"left_units\":\"screen\",\"level\":\"overlay\",\"line_alpha\":{\"value\":1.0},\"line_color\":{\"value\":\"black\"},\"line_dash\":[4,4],\"line_width\":{\"value\":2},\"plot\":null,\"render_mode\":\"css\",\"right_units\":\"screen\",\"top_units\":\"screen\"},\"id\":\"5eedadf0-85f9-433c-9b98-9106e5b24820\",\"type\":\"BoxAnnotation\"},{\"attributes\":{},\"id\":\"211f6d80-f80c-4d68-9d42-d905dc2481e7\",\"type\":\"PanTool\"},{\"attributes\":{},\"id\":\"c60ae8f9-3339-423b-af08-54b4da577a2d\",\"type\":\"WheelZoomTool\"},{\"attributes\":{\"overlay\":{\"id\":\"5eedadf0-85f9-433c-9b98-9106e5b24820\",\"type\":\"BoxAnnotation\"}},\"id\":\"05a19951-c723-423f-80e8-4fb1104711ce\",\"type\":\"BoxZoomTool\"}],\"root_ids\":[\"b4e13713-687c-4324-a26f-c47c74b2dc05\"]},\"title\":\"Bokeh Application\",\"version\":\"0.12.13\"}};\n",
       "  var render_items = [{\"docid\":\"1cc39f5a-eb35-420b-b456-d720e1b83462\",\"elementid\":\"ff63e841-2390-4258-aae2-5edcae53907b\",\"modelid\":\"b4e13713-687c-4324-a26f-c47c74b2dc05\"}];\n",
       "  root.Bokeh.embed.embed_items_notebook(docs_json, render_items);\n",
       "\n",
       "  }\n",
       "  if (root.Bokeh !== undefined) {\n",
       "    embed_document(root);\n",
       "  } else {\n",
       "    var attempts = 0;\n",
       "    var timer = setInterval(function(root) {\n",
       "      if (root.Bokeh !== undefined) {\n",
       "        embed_document(root);\n",
       "        clearInterval(timer);\n",
       "      }\n",
       "      attempts++;\n",
       "      if (attempts > 100) {\n",
       "        console.log(\"Bokeh: ERROR: Unable to run BokehJS code because BokehJS library is missing\")\n",
       "        clearInterval(timer);\n",
       "      }\n",
       "    }, 10, root)\n",
       "  }\n",
       "})(window);"
      ],
      "application/vnd.bokehjs_exec.v0+json": ""
     },
     "metadata": {
      "application/vnd.bokehjs_exec.v0+json": {
       "id": "b4e13713-687c-4324-a26f-c47c74b2dc05"
      }
     },
     "output_type": "display_data"
    }
   ],
   "source": [
    "# defining the chart\n",
    "# output_notebook()\n",
    "# plot_tfidf = bp.figure(plot_width=700, plot_height=600, title=\"A map of 10000 word vectors\",\n",
    "#     tools=\"pan,wheel_zoom,box_zoom,reset,hover,previewsave\",\n",
    "#     x_axis_type=None, y_axis_type=None, min_border=1)\n",
    "\n",
    "# # getting a list of word vectors. limit to 10000. each is of 200 dimensions\n",
    "# word_vectors = [tweet_w2v[w] for w in list(tweet_w2v.wv.vocab.keys())[:5000]]\n",
    "\n",
    "# # dimensionality reduction. converting the vectors to 2d vectors\n",
    "# from sklearn.manifold import TSNE\n",
    "# tsne_model = TSNE(n_components=2, verbose=1, random_state=0)\n",
    "# tsne_w2v = tsne_model.fit_transform(word_vectors)\n",
    "\n",
    "# # putting everything in a dataframe\n",
    "# tsne_df = pd.DataFrame(tsne_w2v, columns=['x', 'y'])\n",
    "# tsne_df['words'] = list(tweet_w2v.wv.vocab.keys())[:5000]\n",
    "\n",
    "# # plotting. the corresponding word appears when you hover on the data point.\n",
    "# plot_tfidf.scatter(x='x', y='y', source=tsne_df)\n",
    "# hover = plot_tfidf.select(dict(type=HoverTool))\n",
    "# hover.tooltips={\"word\": \"@words\"}\n",
    "# show(plot_tfidf)"
   ]
  },
  {
   "cell_type": "code",
   "execution_count": 23,
   "metadata": {},
   "outputs": [
    {
     "name": "stdout",
     "output_type": "stream",
     "text": [
      "building tf-idf matrix ...\n",
      "vocab size : 3400\n"
     ]
    }
   ],
   "source": [
    "print ('building tf-idf matrix ...')\n",
    "vectorizer = TfidfVectorizer(analyzer=lambda x: x, min_df=10)\n",
    "matrix = vectorizer.fit_transform([x.words for x in x_train])\n",
    "tfidf = dict(zip(vectorizer.get_feature_names(), vectorizer.idf_))\n",
    "print ('vocab size :', len(tfidf))"
   ]
  },
  {
   "cell_type": "code",
   "execution_count": 24,
   "metadata": {
    "collapsed": true
   },
   "outputs": [],
   "source": [
    "def buildWordVector(tokens, size):\n",
    "    vec = np.zeros(size).reshape((1, size))\n",
    "    count = 0.\n",
    "    for word in tokens:\n",
    "        try:\n",
    "            vec += tweet_w2v[word].reshape((1, size)) * tfidf[word]\n",
    "            count += 1.\n",
    "        except KeyError: # handling the case where the token is not\n",
    "                         # in the corpus. useful for testing.\n",
    "            continue\n",
    "    if count != 0:\n",
    "        vec /= count\n",
    "    return vec"
   ]
  },
  {
   "cell_type": "code",
   "execution_count": 25,
   "metadata": {},
   "outputs": [
    {
     "name": "stderr",
     "output_type": "stream",
     "text": [
      "8000it [00:04, 1890.16it/s]\n",
      "2000it [00:01, 1955.05it/s]\n",
      "226998it [02:18, 1644.46it/s]\n"
     ]
    }
   ],
   "source": [
    "from sklearn.preprocessing import scale\n",
    "train_vecs_w2v = np.concatenate([buildWordVector(z, n_dim) for z in tqdm(map(lambda x: x.words, x_train))])\n",
    "train_vecs_w2v = scale(train_vecs_w2v)\n",
    "\n",
    "test_vecs_w2v = np.concatenate([buildWordVector(z, n_dim) for z in tqdm(map(lambda x: x.words, x_test))])\n",
    "test_vecs_w2v = scale(test_vecs_w2v)\n",
    "\n",
    "Finaltest_vecs_w2v = np.concatenate([buildWordVector(z, n_dim) for z in tqdm(map(lambda x: x.words, xpTest))])\n",
    "Finaltest_vecs_w2v = scale(test_vecs_w2v)"
   ]
  },
  {
   "cell_type": "code",
   "execution_count": 26,
   "metadata": {},
   "outputs": [
    {
     "name": "stderr",
     "output_type": "stream",
     "text": [
      "Using TensorFlow backend.\n"
     ]
    }
   ],
   "source": [
    "from keras.preprocessing.text import Tokenizer\n",
    "from keras.preprocessing.sequence import pad_sequences\n",
    "from keras.models import Sequential\n",
    "from keras.layers import Dense, Embedding, LSTM\n",
    "from sklearn.model_selection import train_test_split\n",
    "from keras.utils.np_utils import to_categorical"
   ]
  },
  {
   "cell_type": "code",
   "execution_count": 28,
   "metadata": {},
   "outputs": [
    {
     "name": "stdout",
     "output_type": "stream",
     "text": [
      "Epoch 1/20\n",
      " - 0s - loss: 0.3709 - acc: 0.6034\n",
      "Epoch 2/20\n",
      " - 0s - loss: 0.3198 - acc: 0.8294\n",
      "Epoch 3/20\n",
      " - 0s - loss: 0.3049 - acc: 0.8839\n",
      "Epoch 4/20\n",
      " - 0s - loss: 0.2981 - acc: 0.9139\n",
      "Epoch 5/20\n",
      " - 0s - loss: 0.2918 - acc: 0.9285\n",
      "Epoch 6/20\n",
      " - 0s - loss: 0.2894 - acc: 0.9376\n",
      "Epoch 7/20\n",
      " - 0s - loss: 0.2861 - acc: 0.9215\n",
      "Epoch 8/20\n",
      " - 0s - loss: 0.2826 - acc: 0.9191\n",
      "Epoch 9/20\n",
      " - 0s - loss: 0.2802 - acc: 0.9264\n",
      "Epoch 10/20\n",
      " - 0s - loss: 0.2810 - acc: 0.9133\n",
      "Epoch 11/20\n",
      " - 0s - loss: 0.2766 - acc: 0.9055\n",
      "Epoch 12/20\n",
      " - 0s - loss: 0.2736 - acc: 0.9163\n",
      "Epoch 13/20\n",
      " - 0s - loss: 0.2719 - acc: 0.9125\n",
      "Epoch 14/20\n",
      " - 0s - loss: 0.2707 - acc: 0.9022\n",
      "Epoch 15/20\n",
      " - 0s - loss: 0.2686 - acc: 0.8994\n",
      "Epoch 16/20\n",
      " - 0s - loss: 0.2680 - acc: 0.9014\n",
      "Epoch 17/20\n",
      " - 0s - loss: 0.2649 - acc: 0.8970\n",
      "Epoch 18/20\n",
      " - 0s - loss: 0.2633 - acc: 0.9061\n",
      "Epoch 19/20\n",
      " - 0s - loss: 0.2634 - acc: 0.8915\n",
      "Epoch 20/20\n",
      " - 0s - loss: 0.2619 - acc: 0.8868\n",
      "Saved model to disk\n"
     ]
    }
   ],
   "source": [
    "model = Sequential()\n",
    "model.add(Dense(32, activation='relu', input_dim=200))\n",
    "model.add(Dense(6, activation='softmax'))\n",
    "model.compile(optimizer='adam',\n",
    "              loss='categorical_crossentropy',\n",
    "              metrics=['accuracy'])\n",
    "\n",
    "model.fit(train_vecs_w2v, y_train, epochs=20, batch_size=32, verbose=2)\n",
    "model.save_weights(\"model.h5\")\n",
    "print(\"Saved model to disk\")"
   ]
  },
  {
   "cell_type": "code",
   "execution_count": 29,
   "metadata": {},
   "outputs": [
    {
     "name": "stdout",
     "output_type": "stream",
     "text": [
      "0.853999999523\n"
     ]
    }
   ],
   "source": [
    "score = model.evaluate(test_vecs_w2v, y_test, batch_size=128, verbose=2)\n",
    "print (score[1])"
   ]
  },
  {
   "cell_type": "code",
   "execution_count": 30,
   "metadata": {},
   "outputs": [
    {
     "data": {
      "text/plain": [
       "[0.29929958844184873, 0.85399999952316286]"
      ]
     },
     "execution_count": 30,
     "metadata": {},
     "output_type": "execute_result"
    }
   ],
   "source": [
    "score"
   ]
  },
  {
   "cell_type": "code",
   "execution_count": 31,
   "metadata": {
    "collapsed": true
   },
   "outputs": [],
   "source": [
    "predictions = model.predict(Finaltest_vecs_w2v, batch_size=128, verbose=2)"
   ]
  },
  {
   "cell_type": "code",
   "execution_count": 34,
   "metadata": {},
   "outputs": [
    {
     "data": {
      "text/plain": [
       "array([[  6.10988021e-01,   1.49965915e-03,   1.83961153e-01,\n",
       "          7.61174742e-05,   1.57127798e-01,   4.63471971e-02],\n",
       "       [  6.75970435e-01,   3.42673762e-03,   1.01023279e-01,\n",
       "          5.83181195e-02,   1.60947293e-01,   3.14097852e-04],\n",
       "       [  3.22683007e-01,   1.35678917e-01,   2.55891114e-01,\n",
       "          1.62975751e-02,   1.87702477e-01,   8.17469358e-02],\n",
       "       ..., \n",
       "       [  8.29557478e-01,   1.19529767e-02,   9.59416106e-02,\n",
       "          8.18813627e-04,   5.07119223e-02,   1.10172285e-02],\n",
       "       [  5.67272842e-01,   4.35361974e-02,   3.83898258e-01,\n",
       "          5.41866200e-07,   5.28840628e-03,   3.77369224e-06],\n",
       "       [  9.35149372e-01,   6.97456999e-03,   1.86656527e-02,\n",
       "          1.99393053e-02,   1.84064433e-02,   8.64621426e-04]], dtype=float32)"
      ]
     },
     "execution_count": 34,
     "metadata": {},
     "output_type": "execute_result"
    }
   ],
   "source": [
    "predictions"
   ]
  },
  {
   "cell_type": "code",
   "execution_count": 35,
   "metadata": {},
   "outputs": [],
   "source": [
    "predictions[: , 0]\n",
    "px = predictions"
   ]
  },
  {
   "cell_type": "code",
   "execution_count": 37,
   "metadata": {},
   "outputs": [],
   "source": [
    "df = pd.DataFrame({'toxic':px[:,0],'severe_toxic':px[:,1],'obscene':px[:,2] , 'threat':px[:,3] , 'insult':px[:,4] ,'identity_hate':px[:,5]})"
   ]
  },
  {
   "cell_type": "code",
   "execution_count": 38,
   "metadata": {},
   "outputs": [
    {
     "data": {
      "text/html": [
       "<div>\n",
       "<style>\n",
       "    .dataframe thead tr:only-child th {\n",
       "        text-align: right;\n",
       "    }\n",
       "\n",
       "    .dataframe thead th {\n",
       "        text-align: left;\n",
       "    }\n",
       "\n",
       "    .dataframe tbody tr th {\n",
       "        vertical-align: top;\n",
       "    }\n",
       "</style>\n",
       "<table border=\"1\" class=\"dataframe\">\n",
       "  <thead>\n",
       "    <tr style=\"text-align: right;\">\n",
       "      <th></th>\n",
       "      <th>identity_hate</th>\n",
       "      <th>insult</th>\n",
       "      <th>obscene</th>\n",
       "      <th>severe_toxic</th>\n",
       "      <th>threat</th>\n",
       "      <th>toxic</th>\n",
       "    </tr>\n",
       "  </thead>\n",
       "  <tbody>\n",
       "    <tr>\n",
       "      <th>0</th>\n",
       "      <td>4.634720e-02</td>\n",
       "      <td>0.157128</td>\n",
       "      <td>0.183961</td>\n",
       "      <td>0.001500</td>\n",
       "      <td>7.611747e-05</td>\n",
       "      <td>0.610988</td>\n",
       "    </tr>\n",
       "    <tr>\n",
       "      <th>1</th>\n",
       "      <td>3.140979e-04</td>\n",
       "      <td>0.160947</td>\n",
       "      <td>0.101023</td>\n",
       "      <td>0.003427</td>\n",
       "      <td>5.831812e-02</td>\n",
       "      <td>0.675970</td>\n",
       "    </tr>\n",
       "    <tr>\n",
       "      <th>2</th>\n",
       "      <td>8.174694e-02</td>\n",
       "      <td>0.187702</td>\n",
       "      <td>0.255891</td>\n",
       "      <td>0.135679</td>\n",
       "      <td>1.629758e-02</td>\n",
       "      <td>0.322683</td>\n",
       "    </tr>\n",
       "    <tr>\n",
       "      <th>3</th>\n",
       "      <td>1.565614e-04</td>\n",
       "      <td>0.023358</td>\n",
       "      <td>0.028303</td>\n",
       "      <td>0.000266</td>\n",
       "      <td>1.349430e-04</td>\n",
       "      <td>0.947782</td>\n",
       "    </tr>\n",
       "    <tr>\n",
       "      <th>4</th>\n",
       "      <td>9.419642e-04</td>\n",
       "      <td>0.210840</td>\n",
       "      <td>0.317681</td>\n",
       "      <td>0.095819</td>\n",
       "      <td>1.972175e-03</td>\n",
       "      <td>0.372746</td>\n",
       "    </tr>\n",
       "    <tr>\n",
       "      <th>5</th>\n",
       "      <td>8.592356e-03</td>\n",
       "      <td>0.190724</td>\n",
       "      <td>0.187316</td>\n",
       "      <td>0.016205</td>\n",
       "      <td>6.132806e-03</td>\n",
       "      <td>0.591030</td>\n",
       "    </tr>\n",
       "    <tr>\n",
       "      <th>6</th>\n",
       "      <td>3.821935e-03</td>\n",
       "      <td>0.362339</td>\n",
       "      <td>0.195919</td>\n",
       "      <td>0.039663</td>\n",
       "      <td>2.211658e-05</td>\n",
       "      <td>0.398236</td>\n",
       "    </tr>\n",
       "    <tr>\n",
       "      <th>7</th>\n",
       "      <td>5.755837e-02</td>\n",
       "      <td>0.108500</td>\n",
       "      <td>0.208588</td>\n",
       "      <td>0.371539</td>\n",
       "      <td>3.241536e-03</td>\n",
       "      <td>0.250573</td>\n",
       "    </tr>\n",
       "    <tr>\n",
       "      <th>8</th>\n",
       "      <td>7.541623e-03</td>\n",
       "      <td>0.191918</td>\n",
       "      <td>0.102821</td>\n",
       "      <td>0.012249</td>\n",
       "      <td>4.303407e-03</td>\n",
       "      <td>0.681167</td>\n",
       "    </tr>\n",
       "    <tr>\n",
       "      <th>9</th>\n",
       "      <td>2.703102e-03</td>\n",
       "      <td>0.049843</td>\n",
       "      <td>0.366269</td>\n",
       "      <td>0.080815</td>\n",
       "      <td>7.647600e-04</td>\n",
       "      <td>0.499605</td>\n",
       "    </tr>\n",
       "    <tr>\n",
       "      <th>10</th>\n",
       "      <td>5.630343e-03</td>\n",
       "      <td>0.235408</td>\n",
       "      <td>0.109791</td>\n",
       "      <td>0.001211</td>\n",
       "      <td>1.622148e-03</td>\n",
       "      <td>0.646338</td>\n",
       "    </tr>\n",
       "    <tr>\n",
       "      <th>11</th>\n",
       "      <td>4.590070e-06</td>\n",
       "      <td>0.511827</td>\n",
       "      <td>0.278745</td>\n",
       "      <td>0.159270</td>\n",
       "      <td>2.696068e-03</td>\n",
       "      <td>0.047457</td>\n",
       "    </tr>\n",
       "    <tr>\n",
       "      <th>12</th>\n",
       "      <td>1.653834e-02</td>\n",
       "      <td>0.145752</td>\n",
       "      <td>0.167705</td>\n",
       "      <td>0.002981</td>\n",
       "      <td>2.562049e-01</td>\n",
       "      <td>0.410818</td>\n",
       "    </tr>\n",
       "    <tr>\n",
       "      <th>13</th>\n",
       "      <td>3.629909e-05</td>\n",
       "      <td>0.101665</td>\n",
       "      <td>0.149188</td>\n",
       "      <td>0.001058</td>\n",
       "      <td>5.707586e-04</td>\n",
       "      <td>0.747482</td>\n",
       "    </tr>\n",
       "    <tr>\n",
       "      <th>14</th>\n",
       "      <td>4.686612e-02</td>\n",
       "      <td>0.060735</td>\n",
       "      <td>0.116428</td>\n",
       "      <td>0.017386</td>\n",
       "      <td>2.518184e-02</td>\n",
       "      <td>0.733403</td>\n",
       "    </tr>\n",
       "    <tr>\n",
       "      <th>15</th>\n",
       "      <td>1.246796e-03</td>\n",
       "      <td>0.033379</td>\n",
       "      <td>0.007451</td>\n",
       "      <td>0.000013</td>\n",
       "      <td>8.317820e-07</td>\n",
       "      <td>0.957909</td>\n",
       "    </tr>\n",
       "    <tr>\n",
       "      <th>16</th>\n",
       "      <td>1.122839e-02</td>\n",
       "      <td>0.188696</td>\n",
       "      <td>0.167573</td>\n",
       "      <td>0.007289</td>\n",
       "      <td>1.127184e-03</td>\n",
       "      <td>0.624088</td>\n",
       "    </tr>\n",
       "    <tr>\n",
       "      <th>17</th>\n",
       "      <td>2.790414e-03</td>\n",
       "      <td>0.131808</td>\n",
       "      <td>0.572206</td>\n",
       "      <td>0.004374</td>\n",
       "      <td>1.939047e-05</td>\n",
       "      <td>0.288802</td>\n",
       "    </tr>\n",
       "    <tr>\n",
       "      <th>18</th>\n",
       "      <td>1.589367e-03</td>\n",
       "      <td>0.106295</td>\n",
       "      <td>0.342283</td>\n",
       "      <td>0.000519</td>\n",
       "      <td>1.584419e-04</td>\n",
       "      <td>0.549156</td>\n",
       "    </tr>\n",
       "    <tr>\n",
       "      <th>19</th>\n",
       "      <td>1.198731e-03</td>\n",
       "      <td>0.034066</td>\n",
       "      <td>0.070975</td>\n",
       "      <td>0.007579</td>\n",
       "      <td>4.602319e-02</td>\n",
       "      <td>0.840158</td>\n",
       "    </tr>\n",
       "    <tr>\n",
       "      <th>20</th>\n",
       "      <td>4.400810e-03</td>\n",
       "      <td>0.139161</td>\n",
       "      <td>0.296922</td>\n",
       "      <td>0.004008</td>\n",
       "      <td>6.855369e-04</td>\n",
       "      <td>0.554822</td>\n",
       "    </tr>\n",
       "    <tr>\n",
       "      <th>21</th>\n",
       "      <td>5.965315e-03</td>\n",
       "      <td>0.628975</td>\n",
       "      <td>0.194892</td>\n",
       "      <td>0.006701</td>\n",
       "      <td>4.065721e-04</td>\n",
       "      <td>0.163060</td>\n",
       "    </tr>\n",
       "    <tr>\n",
       "      <th>22</th>\n",
       "      <td>4.195444e-03</td>\n",
       "      <td>0.173978</td>\n",
       "      <td>0.105174</td>\n",
       "      <td>0.075200</td>\n",
       "      <td>2.985298e-02</td>\n",
       "      <td>0.611599</td>\n",
       "    </tr>\n",
       "    <tr>\n",
       "      <th>23</th>\n",
       "      <td>5.931714e-06</td>\n",
       "      <td>0.658665</td>\n",
       "      <td>0.040410</td>\n",
       "      <td>0.000243</td>\n",
       "      <td>1.156613e-06</td>\n",
       "      <td>0.300676</td>\n",
       "    </tr>\n",
       "    <tr>\n",
       "      <th>24</th>\n",
       "      <td>4.428431e-03</td>\n",
       "      <td>0.137880</td>\n",
       "      <td>0.192704</td>\n",
       "      <td>0.003751</td>\n",
       "      <td>3.844218e-03</td>\n",
       "      <td>0.657394</td>\n",
       "    </tr>\n",
       "    <tr>\n",
       "      <th>25</th>\n",
       "      <td>3.965097e-02</td>\n",
       "      <td>0.449004</td>\n",
       "      <td>0.234181</td>\n",
       "      <td>0.007520</td>\n",
       "      <td>5.366047e-03</td>\n",
       "      <td>0.264278</td>\n",
       "    </tr>\n",
       "    <tr>\n",
       "      <th>26</th>\n",
       "      <td>2.746382e-03</td>\n",
       "      <td>0.009808</td>\n",
       "      <td>0.027364</td>\n",
       "      <td>0.000532</td>\n",
       "      <td>5.252544e-03</td>\n",
       "      <td>0.954297</td>\n",
       "    </tr>\n",
       "    <tr>\n",
       "      <th>27</th>\n",
       "      <td>4.614088e-04</td>\n",
       "      <td>0.091310</td>\n",
       "      <td>0.441275</td>\n",
       "      <td>0.114647</td>\n",
       "      <td>7.152127e-05</td>\n",
       "      <td>0.352235</td>\n",
       "    </tr>\n",
       "    <tr>\n",
       "      <th>28</th>\n",
       "      <td>4.213047e-02</td>\n",
       "      <td>0.149452</td>\n",
       "      <td>0.079082</td>\n",
       "      <td>0.001070</td>\n",
       "      <td>7.315662e-04</td>\n",
       "      <td>0.727534</td>\n",
       "    </tr>\n",
       "    <tr>\n",
       "      <th>29</th>\n",
       "      <td>4.076272e-03</td>\n",
       "      <td>0.209254</td>\n",
       "      <td>0.180873</td>\n",
       "      <td>0.015944</td>\n",
       "      <td>7.744140e-04</td>\n",
       "      <td>0.589078</td>\n",
       "    </tr>\n",
       "    <tr>\n",
       "      <th>...</th>\n",
       "      <td>...</td>\n",
       "      <td>...</td>\n",
       "      <td>...</td>\n",
       "      <td>...</td>\n",
       "      <td>...</td>\n",
       "      <td>...</td>\n",
       "    </tr>\n",
       "    <tr>\n",
       "      <th>1970</th>\n",
       "      <td>5.281759e-03</td>\n",
       "      <td>0.136520</td>\n",
       "      <td>0.146838</td>\n",
       "      <td>0.002373</td>\n",
       "      <td>1.972401e-04</td>\n",
       "      <td>0.708790</td>\n",
       "    </tr>\n",
       "    <tr>\n",
       "      <th>1971</th>\n",
       "      <td>1.086818e-07</td>\n",
       "      <td>0.017081</td>\n",
       "      <td>0.000545</td>\n",
       "      <td>0.000842</td>\n",
       "      <td>1.439294e-08</td>\n",
       "      <td>0.981533</td>\n",
       "    </tr>\n",
       "    <tr>\n",
       "      <th>1972</th>\n",
       "      <td>2.243868e-04</td>\n",
       "      <td>0.029781</td>\n",
       "      <td>0.512945</td>\n",
       "      <td>0.000850</td>\n",
       "      <td>1.827798e-02</td>\n",
       "      <td>0.437921</td>\n",
       "    </tr>\n",
       "    <tr>\n",
       "      <th>1973</th>\n",
       "      <td>3.406706e-06</td>\n",
       "      <td>0.383634</td>\n",
       "      <td>0.523128</td>\n",
       "      <td>0.000058</td>\n",
       "      <td>2.129567e-09</td>\n",
       "      <td>0.093177</td>\n",
       "    </tr>\n",
       "    <tr>\n",
       "      <th>1974</th>\n",
       "      <td>1.268359e-01</td>\n",
       "      <td>0.165562</td>\n",
       "      <td>0.354868</td>\n",
       "      <td>0.043164</td>\n",
       "      <td>1.179367e-05</td>\n",
       "      <td>0.309559</td>\n",
       "    </tr>\n",
       "    <tr>\n",
       "      <th>1975</th>\n",
       "      <td>1.234338e-03</td>\n",
       "      <td>0.191898</td>\n",
       "      <td>0.169370</td>\n",
       "      <td>0.006335</td>\n",
       "      <td>1.346888e-04</td>\n",
       "      <td>0.631028</td>\n",
       "    </tr>\n",
       "    <tr>\n",
       "      <th>1976</th>\n",
       "      <td>3.704655e-04</td>\n",
       "      <td>0.209679</td>\n",
       "      <td>0.217633</td>\n",
       "      <td>0.000121</td>\n",
       "      <td>5.535356e-02</td>\n",
       "      <td>0.516843</td>\n",
       "    </tr>\n",
       "    <tr>\n",
       "      <th>1977</th>\n",
       "      <td>9.075471e-03</td>\n",
       "      <td>0.049620</td>\n",
       "      <td>0.087485</td>\n",
       "      <td>0.031822</td>\n",
       "      <td>1.592168e-04</td>\n",
       "      <td>0.821838</td>\n",
       "    </tr>\n",
       "    <tr>\n",
       "      <th>1978</th>\n",
       "      <td>4.642094e-03</td>\n",
       "      <td>0.399157</td>\n",
       "      <td>0.137316</td>\n",
       "      <td>0.013729</td>\n",
       "      <td>4.675572e-03</td>\n",
       "      <td>0.440482</td>\n",
       "    </tr>\n",
       "    <tr>\n",
       "      <th>1979</th>\n",
       "      <td>2.178999e-04</td>\n",
       "      <td>0.189824</td>\n",
       "      <td>0.025027</td>\n",
       "      <td>0.001212</td>\n",
       "      <td>2.353352e-06</td>\n",
       "      <td>0.783717</td>\n",
       "    </tr>\n",
       "    <tr>\n",
       "      <th>1980</th>\n",
       "      <td>4.018811e-02</td>\n",
       "      <td>0.267726</td>\n",
       "      <td>0.170636</td>\n",
       "      <td>0.002817</td>\n",
       "      <td>7.844800e-04</td>\n",
       "      <td>0.517849</td>\n",
       "    </tr>\n",
       "    <tr>\n",
       "      <th>1981</th>\n",
       "      <td>1.036536e-02</td>\n",
       "      <td>0.039836</td>\n",
       "      <td>0.222568</td>\n",
       "      <td>0.022426</td>\n",
       "      <td>2.711860e-02</td>\n",
       "      <td>0.677686</td>\n",
       "    </tr>\n",
       "    <tr>\n",
       "      <th>1982</th>\n",
       "      <td>6.017512e-02</td>\n",
       "      <td>0.144122</td>\n",
       "      <td>0.216509</td>\n",
       "      <td>0.059536</td>\n",
       "      <td>2.245002e-02</td>\n",
       "      <td>0.497208</td>\n",
       "    </tr>\n",
       "    <tr>\n",
       "      <th>1983</th>\n",
       "      <td>4.983954e-02</td>\n",
       "      <td>0.323857</td>\n",
       "      <td>0.270430</td>\n",
       "      <td>0.004234</td>\n",
       "      <td>3.886056e-03</td>\n",
       "      <td>0.347754</td>\n",
       "    </tr>\n",
       "    <tr>\n",
       "      <th>1984</th>\n",
       "      <td>9.168677e-04</td>\n",
       "      <td>0.075837</td>\n",
       "      <td>0.374360</td>\n",
       "      <td>0.019298</td>\n",
       "      <td>3.765316e-04</td>\n",
       "      <td>0.529211</td>\n",
       "    </tr>\n",
       "    <tr>\n",
       "      <th>1985</th>\n",
       "      <td>2.203627e-02</td>\n",
       "      <td>0.056605</td>\n",
       "      <td>0.045220</td>\n",
       "      <td>0.012384</td>\n",
       "      <td>7.501119e-05</td>\n",
       "      <td>0.863681</td>\n",
       "    </tr>\n",
       "    <tr>\n",
       "      <th>1986</th>\n",
       "      <td>1.167693e-01</td>\n",
       "      <td>0.184680</td>\n",
       "      <td>0.166233</td>\n",
       "      <td>0.000275</td>\n",
       "      <td>6.963063e-03</td>\n",
       "      <td>0.525079</td>\n",
       "    </tr>\n",
       "    <tr>\n",
       "      <th>1987</th>\n",
       "      <td>8.516126e-03</td>\n",
       "      <td>0.165203</td>\n",
       "      <td>0.382153</td>\n",
       "      <td>0.059428</td>\n",
       "      <td>5.179409e-05</td>\n",
       "      <td>0.384648</td>\n",
       "    </tr>\n",
       "    <tr>\n",
       "      <th>1988</th>\n",
       "      <td>4.563134e-04</td>\n",
       "      <td>0.122175</td>\n",
       "      <td>0.213340</td>\n",
       "      <td>0.004249</td>\n",
       "      <td>1.425689e-03</td>\n",
       "      <td>0.658354</td>\n",
       "    </tr>\n",
       "    <tr>\n",
       "      <th>1989</th>\n",
       "      <td>7.639839e-02</td>\n",
       "      <td>0.176294</td>\n",
       "      <td>0.073648</td>\n",
       "      <td>0.000136</td>\n",
       "      <td>2.036821e-04</td>\n",
       "      <td>0.673321</td>\n",
       "    </tr>\n",
       "    <tr>\n",
       "      <th>1990</th>\n",
       "      <td>6.290631e-03</td>\n",
       "      <td>0.088655</td>\n",
       "      <td>0.084602</td>\n",
       "      <td>0.006692</td>\n",
       "      <td>2.681092e-03</td>\n",
       "      <td>0.811079</td>\n",
       "    </tr>\n",
       "    <tr>\n",
       "      <th>1991</th>\n",
       "      <td>2.193805e-02</td>\n",
       "      <td>0.308625</td>\n",
       "      <td>0.171726</td>\n",
       "      <td>0.005981</td>\n",
       "      <td>5.571190e-04</td>\n",
       "      <td>0.491173</td>\n",
       "    </tr>\n",
       "    <tr>\n",
       "      <th>1992</th>\n",
       "      <td>4.633876e-04</td>\n",
       "      <td>0.126337</td>\n",
       "      <td>0.214112</td>\n",
       "      <td>0.002401</td>\n",
       "      <td>7.908462e-03</td>\n",
       "      <td>0.648778</td>\n",
       "    </tr>\n",
       "    <tr>\n",
       "      <th>1993</th>\n",
       "      <td>1.293797e-02</td>\n",
       "      <td>0.069008</td>\n",
       "      <td>0.106182</td>\n",
       "      <td>0.002038</td>\n",
       "      <td>4.193485e-04</td>\n",
       "      <td>0.809415</td>\n",
       "    </tr>\n",
       "    <tr>\n",
       "      <th>1994</th>\n",
       "      <td>2.101610e-03</td>\n",
       "      <td>0.082367</td>\n",
       "      <td>0.242352</td>\n",
       "      <td>0.378591</td>\n",
       "      <td>2.189422e-04</td>\n",
       "      <td>0.294369</td>\n",
       "    </tr>\n",
       "    <tr>\n",
       "      <th>1995</th>\n",
       "      <td>8.771069e-05</td>\n",
       "      <td>0.307257</td>\n",
       "      <td>0.304484</td>\n",
       "      <td>0.256332</td>\n",
       "      <td>6.185165e-05</td>\n",
       "      <td>0.131777</td>\n",
       "    </tr>\n",
       "    <tr>\n",
       "      <th>1996</th>\n",
       "      <td>1.046919e-04</td>\n",
       "      <td>0.023660</td>\n",
       "      <td>0.028741</td>\n",
       "      <td>0.000163</td>\n",
       "      <td>3.782675e-06</td>\n",
       "      <td>0.947327</td>\n",
       "    </tr>\n",
       "    <tr>\n",
       "      <th>1997</th>\n",
       "      <td>1.101723e-02</td>\n",
       "      <td>0.050712</td>\n",
       "      <td>0.095942</td>\n",
       "      <td>0.011953</td>\n",
       "      <td>8.188136e-04</td>\n",
       "      <td>0.829557</td>\n",
       "    </tr>\n",
       "    <tr>\n",
       "      <th>1998</th>\n",
       "      <td>3.773692e-06</td>\n",
       "      <td>0.005288</td>\n",
       "      <td>0.383898</td>\n",
       "      <td>0.043536</td>\n",
       "      <td>5.418662e-07</td>\n",
       "      <td>0.567273</td>\n",
       "    </tr>\n",
       "    <tr>\n",
       "      <th>1999</th>\n",
       "      <td>8.646214e-04</td>\n",
       "      <td>0.018406</td>\n",
       "      <td>0.018666</td>\n",
       "      <td>0.006975</td>\n",
       "      <td>1.993931e-02</td>\n",
       "      <td>0.935149</td>\n",
       "    </tr>\n",
       "  </tbody>\n",
       "</table>\n",
       "<p>2000 rows × 6 columns</p>\n",
       "</div>"
      ],
      "text/plain": [
       "      identity_hate    insult   obscene  severe_toxic        threat     toxic\n",
       "0      4.634720e-02  0.157128  0.183961      0.001500  7.611747e-05  0.610988\n",
       "1      3.140979e-04  0.160947  0.101023      0.003427  5.831812e-02  0.675970\n",
       "2      8.174694e-02  0.187702  0.255891      0.135679  1.629758e-02  0.322683\n",
       "3      1.565614e-04  0.023358  0.028303      0.000266  1.349430e-04  0.947782\n",
       "4      9.419642e-04  0.210840  0.317681      0.095819  1.972175e-03  0.372746\n",
       "5      8.592356e-03  0.190724  0.187316      0.016205  6.132806e-03  0.591030\n",
       "6      3.821935e-03  0.362339  0.195919      0.039663  2.211658e-05  0.398236\n",
       "7      5.755837e-02  0.108500  0.208588      0.371539  3.241536e-03  0.250573\n",
       "8      7.541623e-03  0.191918  0.102821      0.012249  4.303407e-03  0.681167\n",
       "9      2.703102e-03  0.049843  0.366269      0.080815  7.647600e-04  0.499605\n",
       "10     5.630343e-03  0.235408  0.109791      0.001211  1.622148e-03  0.646338\n",
       "11     4.590070e-06  0.511827  0.278745      0.159270  2.696068e-03  0.047457\n",
       "12     1.653834e-02  0.145752  0.167705      0.002981  2.562049e-01  0.410818\n",
       "13     3.629909e-05  0.101665  0.149188      0.001058  5.707586e-04  0.747482\n",
       "14     4.686612e-02  0.060735  0.116428      0.017386  2.518184e-02  0.733403\n",
       "15     1.246796e-03  0.033379  0.007451      0.000013  8.317820e-07  0.957909\n",
       "16     1.122839e-02  0.188696  0.167573      0.007289  1.127184e-03  0.624088\n",
       "17     2.790414e-03  0.131808  0.572206      0.004374  1.939047e-05  0.288802\n",
       "18     1.589367e-03  0.106295  0.342283      0.000519  1.584419e-04  0.549156\n",
       "19     1.198731e-03  0.034066  0.070975      0.007579  4.602319e-02  0.840158\n",
       "20     4.400810e-03  0.139161  0.296922      0.004008  6.855369e-04  0.554822\n",
       "21     5.965315e-03  0.628975  0.194892      0.006701  4.065721e-04  0.163060\n",
       "22     4.195444e-03  0.173978  0.105174      0.075200  2.985298e-02  0.611599\n",
       "23     5.931714e-06  0.658665  0.040410      0.000243  1.156613e-06  0.300676\n",
       "24     4.428431e-03  0.137880  0.192704      0.003751  3.844218e-03  0.657394\n",
       "25     3.965097e-02  0.449004  0.234181      0.007520  5.366047e-03  0.264278\n",
       "26     2.746382e-03  0.009808  0.027364      0.000532  5.252544e-03  0.954297\n",
       "27     4.614088e-04  0.091310  0.441275      0.114647  7.152127e-05  0.352235\n",
       "28     4.213047e-02  0.149452  0.079082      0.001070  7.315662e-04  0.727534\n",
       "29     4.076272e-03  0.209254  0.180873      0.015944  7.744140e-04  0.589078\n",
       "...             ...       ...       ...           ...           ...       ...\n",
       "1970   5.281759e-03  0.136520  0.146838      0.002373  1.972401e-04  0.708790\n",
       "1971   1.086818e-07  0.017081  0.000545      0.000842  1.439294e-08  0.981533\n",
       "1972   2.243868e-04  0.029781  0.512945      0.000850  1.827798e-02  0.437921\n",
       "1973   3.406706e-06  0.383634  0.523128      0.000058  2.129567e-09  0.093177\n",
       "1974   1.268359e-01  0.165562  0.354868      0.043164  1.179367e-05  0.309559\n",
       "1975   1.234338e-03  0.191898  0.169370      0.006335  1.346888e-04  0.631028\n",
       "1976   3.704655e-04  0.209679  0.217633      0.000121  5.535356e-02  0.516843\n",
       "1977   9.075471e-03  0.049620  0.087485      0.031822  1.592168e-04  0.821838\n",
       "1978   4.642094e-03  0.399157  0.137316      0.013729  4.675572e-03  0.440482\n",
       "1979   2.178999e-04  0.189824  0.025027      0.001212  2.353352e-06  0.783717\n",
       "1980   4.018811e-02  0.267726  0.170636      0.002817  7.844800e-04  0.517849\n",
       "1981   1.036536e-02  0.039836  0.222568      0.022426  2.711860e-02  0.677686\n",
       "1982   6.017512e-02  0.144122  0.216509      0.059536  2.245002e-02  0.497208\n",
       "1983   4.983954e-02  0.323857  0.270430      0.004234  3.886056e-03  0.347754\n",
       "1984   9.168677e-04  0.075837  0.374360      0.019298  3.765316e-04  0.529211\n",
       "1985   2.203627e-02  0.056605  0.045220      0.012384  7.501119e-05  0.863681\n",
       "1986   1.167693e-01  0.184680  0.166233      0.000275  6.963063e-03  0.525079\n",
       "1987   8.516126e-03  0.165203  0.382153      0.059428  5.179409e-05  0.384648\n",
       "1988   4.563134e-04  0.122175  0.213340      0.004249  1.425689e-03  0.658354\n",
       "1989   7.639839e-02  0.176294  0.073648      0.000136  2.036821e-04  0.673321\n",
       "1990   6.290631e-03  0.088655  0.084602      0.006692  2.681092e-03  0.811079\n",
       "1991   2.193805e-02  0.308625  0.171726      0.005981  5.571190e-04  0.491173\n",
       "1992   4.633876e-04  0.126337  0.214112      0.002401  7.908462e-03  0.648778\n",
       "1993   1.293797e-02  0.069008  0.106182      0.002038  4.193485e-04  0.809415\n",
       "1994   2.101610e-03  0.082367  0.242352      0.378591  2.189422e-04  0.294369\n",
       "1995   8.771069e-05  0.307257  0.304484      0.256332  6.185165e-05  0.131777\n",
       "1996   1.046919e-04  0.023660  0.028741      0.000163  3.782675e-06  0.947327\n",
       "1997   1.101723e-02  0.050712  0.095942      0.011953  8.188136e-04  0.829557\n",
       "1998   3.773692e-06  0.005288  0.383898      0.043536  5.418662e-07  0.567273\n",
       "1999   8.646214e-04  0.018406  0.018666      0.006975  1.993931e-02  0.935149\n",
       "\n",
       "[2000 rows x 6 columns]"
      ]
     },
     "execution_count": 38,
     "metadata": {},
     "output_type": "execute_result"
    }
   ],
   "source": [
    "df"
   ]
  },
  {
   "cell_type": "code",
   "execution_count": 40,
   "metadata": {},
   "outputs": [],
   "source": [
    "id_csv = pd.read_csv('test.csv')"
   ]
  },
  {
   "cell_type": "code",
   "execution_count": 45,
   "metadata": {},
   "outputs": [],
   "source": [
    "df['id'] = id_csv['id']"
   ]
  },
  {
   "cell_type": "code",
   "execution_count": 47,
   "metadata": {},
   "outputs": [],
   "source": [
    "cols = list(df.columns.values)"
   ]
  },
  {
   "cell_type": "code",
   "execution_count": null,
   "metadata": {},
   "outputs": [],
   "source": []
  }
 ],
 "metadata": {
  "kernelspec": {
   "display_name": "Python 3",
   "language": "python",
   "name": "python3"
  },
  "language_info": {
   "codemirror_mode": {
    "name": "ipython",
    "version": 3
   },
   "file_extension": ".py",
   "mimetype": "text/x-python",
   "name": "python",
   "nbconvert_exporter": "python",
   "pygments_lexer": "ipython3",
   "version": "3.6.3"
  }
 },
 "nbformat": 4,
 "nbformat_minor": 2
}
