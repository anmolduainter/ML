{
 "cells": [
  {
   "cell_type": "code",
   "execution_count": 1,
   "metadata": {
    "collapsed": true
   },
   "outputs": [],
   "source": [
    "import numpy as np #linear algebra\n",
    "import pandas as pd # data processing, CSV file I/O (e.g. pd.read_csv)\n",
    "import seaborn as sns # visualization library\n",
    "import matplotlib.pyplot as plt\n",
    "import matplotlib.patches as patches"
   ]
  },
  {
   "cell_type": "code",
   "execution_count": 3,
   "metadata": {
    "collapsed": true
   },
   "outputs": [],
   "source": [
    "data = pd.read_csv('Health_AnimalBites.csv')"
   ]
  },
  {
   "cell_type": "code",
   "execution_count": 4,
   "metadata": {},
   "outputs": [
    {
     "data": {
      "text/plain": [
       "Index(['bite_date', 'SpeciesIDDesc', 'BreedIDDesc', 'GenderIDDesc', 'color',\n",
       "       'vaccination_yrs', 'vaccination_date', 'victim_zip', 'AdvIssuedYNDesc',\n",
       "       'WhereBittenIDDesc', 'quarantine_date', 'DispositionIDDesc',\n",
       "       'head_sent_date', 'release_date', 'ResultsIDDesc'],\n",
       "      dtype='object')"
      ]
     },
     "execution_count": 4,
     "metadata": {},
     "output_type": "execute_result"
    }
   ],
   "source": [
    "data.columns"
   ]
  },
  {
   "cell_type": "code",
   "execution_count": 5,
   "metadata": {},
   "outputs": [
    {
     "data": {
      "text/html": [
       "<div>\n",
       "<style>\n",
       "    .dataframe thead tr:only-child th {\n",
       "        text-align: right;\n",
       "    }\n",
       "\n",
       "    .dataframe thead th {\n",
       "        text-align: left;\n",
       "    }\n",
       "\n",
       "    .dataframe tbody tr th {\n",
       "        vertical-align: top;\n",
       "    }\n",
       "</style>\n",
       "<table border=\"1\" class=\"dataframe\">\n",
       "  <thead>\n",
       "    <tr style=\"text-align: right;\">\n",
       "      <th></th>\n",
       "      <th>bite_date</th>\n",
       "      <th>SpeciesIDDesc</th>\n",
       "      <th>BreedIDDesc</th>\n",
       "      <th>GenderIDDesc</th>\n",
       "      <th>color</th>\n",
       "      <th>vaccination_yrs</th>\n",
       "      <th>vaccination_date</th>\n",
       "      <th>victim_zip</th>\n",
       "      <th>AdvIssuedYNDesc</th>\n",
       "      <th>WhereBittenIDDesc</th>\n",
       "      <th>quarantine_date</th>\n",
       "      <th>DispositionIDDesc</th>\n",
       "      <th>head_sent_date</th>\n",
       "      <th>release_date</th>\n",
       "      <th>ResultsIDDesc</th>\n",
       "    </tr>\n",
       "  </thead>\n",
       "  <tbody>\n",
       "    <tr>\n",
       "      <th>0</th>\n",
       "      <td>1985-05-05 00:00:00</td>\n",
       "      <td>DOG</td>\n",
       "      <td>NaN</td>\n",
       "      <td>FEMALE</td>\n",
       "      <td>LIG. BROWN</td>\n",
       "      <td>1.0</td>\n",
       "      <td>1985-06-20 00:00:00</td>\n",
       "      <td>40229</td>\n",
       "      <td>NO</td>\n",
       "      <td>BODY</td>\n",
       "      <td>1985-05-05 00:00:00</td>\n",
       "      <td>UNKNOWN</td>\n",
       "      <td>NaN</td>\n",
       "      <td>NaN</td>\n",
       "      <td>UNKNOWN</td>\n",
       "    </tr>\n",
       "    <tr>\n",
       "      <th>1</th>\n",
       "      <td>1986-02-12 00:00:00</td>\n",
       "      <td>DOG</td>\n",
       "      <td>NaN</td>\n",
       "      <td>UNKNOWN</td>\n",
       "      <td>BRO &amp; BLA</td>\n",
       "      <td>NaN</td>\n",
       "      <td>NaN</td>\n",
       "      <td>40218</td>\n",
       "      <td>NO</td>\n",
       "      <td>BODY</td>\n",
       "      <td>1986-02-12 00:00:00</td>\n",
       "      <td>UNKNOWN</td>\n",
       "      <td>NaN</td>\n",
       "      <td>NaN</td>\n",
       "      <td>UNKNOWN</td>\n",
       "    </tr>\n",
       "    <tr>\n",
       "      <th>2</th>\n",
       "      <td>1987-05-07 00:00:00</td>\n",
       "      <td>DOG</td>\n",
       "      <td>NaN</td>\n",
       "      <td>UNKNOWN</td>\n",
       "      <td>NaN</td>\n",
       "      <td>NaN</td>\n",
       "      <td>NaN</td>\n",
       "      <td>40219</td>\n",
       "      <td>NO</td>\n",
       "      <td>BODY</td>\n",
       "      <td>1990-05-07 00:00:00</td>\n",
       "      <td>UNKNOWN</td>\n",
       "      <td>NaN</td>\n",
       "      <td>NaN</td>\n",
       "      <td>UNKNOWN</td>\n",
       "    </tr>\n",
       "    <tr>\n",
       "      <th>3</th>\n",
       "      <td>1988-10-02 00:00:00</td>\n",
       "      <td>DOG</td>\n",
       "      <td>NaN</td>\n",
       "      <td>MALE</td>\n",
       "      <td>BLA &amp; BRO</td>\n",
       "      <td>NaN</td>\n",
       "      <td>NaN</td>\n",
       "      <td>NaN</td>\n",
       "      <td>NO</td>\n",
       "      <td>BODY</td>\n",
       "      <td>1990-10-02 00:00:00</td>\n",
       "      <td>UNKNOWN</td>\n",
       "      <td>NaN</td>\n",
       "      <td>NaN</td>\n",
       "      <td>UNKNOWN</td>\n",
       "    </tr>\n",
       "    <tr>\n",
       "      <th>4</th>\n",
       "      <td>1989-08-29 00:00:00</td>\n",
       "      <td>DOG</td>\n",
       "      <td>NaN</td>\n",
       "      <td>FEMALE</td>\n",
       "      <td>BLK-WHT</td>\n",
       "      <td>NaN</td>\n",
       "      <td>NaN</td>\n",
       "      <td>NaN</td>\n",
       "      <td>NO</td>\n",
       "      <td>BODY</td>\n",
       "      <td>NaN</td>\n",
       "      <td>UNKNOWN</td>\n",
       "      <td>NaN</td>\n",
       "      <td>NaN</td>\n",
       "      <td>UNKNOWN</td>\n",
       "    </tr>\n",
       "  </tbody>\n",
       "</table>\n",
       "</div>"
      ],
      "text/plain": [
       "             bite_date SpeciesIDDesc BreedIDDesc GenderIDDesc       color  \\\n",
       "0  1985-05-05 00:00:00           DOG         NaN       FEMALE  LIG. BROWN   \n",
       "1  1986-02-12 00:00:00           DOG         NaN      UNKNOWN   BRO & BLA   \n",
       "2  1987-05-07 00:00:00           DOG         NaN      UNKNOWN         NaN   \n",
       "3  1988-10-02 00:00:00           DOG         NaN         MALE   BLA & BRO   \n",
       "4  1989-08-29 00:00:00           DOG         NaN       FEMALE     BLK-WHT   \n",
       "\n",
       "   vaccination_yrs     vaccination_date victim_zip AdvIssuedYNDesc  \\\n",
       "0              1.0  1985-06-20 00:00:00      40229              NO   \n",
       "1              NaN                  NaN      40218              NO   \n",
       "2              NaN                  NaN      40219              NO   \n",
       "3              NaN                  NaN        NaN              NO   \n",
       "4              NaN                  NaN        NaN              NO   \n",
       "\n",
       "  WhereBittenIDDesc      quarantine_date DispositionIDDesc head_sent_date  \\\n",
       "0              BODY  1985-05-05 00:00:00           UNKNOWN            NaN   \n",
       "1              BODY  1986-02-12 00:00:00           UNKNOWN            NaN   \n",
       "2              BODY  1990-05-07 00:00:00           UNKNOWN            NaN   \n",
       "3              BODY  1990-10-02 00:00:00           UNKNOWN            NaN   \n",
       "4              BODY                  NaN           UNKNOWN            NaN   \n",
       "\n",
       "  release_date ResultsIDDesc  \n",
       "0          NaN       UNKNOWN  \n",
       "1          NaN       UNKNOWN  \n",
       "2          NaN       UNKNOWN  \n",
       "3          NaN       UNKNOWN  \n",
       "4          NaN       UNKNOWN  "
      ]
     },
     "execution_count": 5,
     "metadata": {},
     "output_type": "execute_result"
    }
   ],
   "source": [
    "data.head()"
   ]
  },
  {
   "cell_type": "code",
   "execution_count": 6,
   "metadata": {},
   "outputs": [
    {
     "data": {
      "text/html": [
       "<div>\n",
       "<style>\n",
       "    .dataframe thead tr:only-child th {\n",
       "        text-align: right;\n",
       "    }\n",
       "\n",
       "    .dataframe thead th {\n",
       "        text-align: left;\n",
       "    }\n",
       "\n",
       "    .dataframe tbody tr th {\n",
       "        vertical-align: top;\n",
       "    }\n",
       "</style>\n",
       "<table border=\"1\" class=\"dataframe\">\n",
       "  <thead>\n",
       "    <tr style=\"text-align: right;\">\n",
       "      <th></th>\n",
       "      <th>bite_date</th>\n",
       "      <th>SpeciesIDDesc</th>\n",
       "      <th>BreedIDDesc</th>\n",
       "      <th>GenderIDDesc</th>\n",
       "      <th>color</th>\n",
       "      <th>vaccination_yrs</th>\n",
       "      <th>vaccination_date</th>\n",
       "      <th>victim_zip</th>\n",
       "      <th>AdvIssuedYNDesc</th>\n",
       "      <th>WhereBittenIDDesc</th>\n",
       "      <th>quarantine_date</th>\n",
       "      <th>DispositionIDDesc</th>\n",
       "      <th>head_sent_date</th>\n",
       "      <th>release_date</th>\n",
       "      <th>ResultsIDDesc</th>\n",
       "    </tr>\n",
       "  </thead>\n",
       "  <tbody>\n",
       "    <tr>\n",
       "      <th>8998</th>\n",
       "      <td>2017-09-05 00:00:00</td>\n",
       "      <td>DOG</td>\n",
       "      <td>NaN</td>\n",
       "      <td>NaN</td>\n",
       "      <td>NaN</td>\n",
       "      <td>NaN</td>\n",
       "      <td>NaN</td>\n",
       "      <td>40243</td>\n",
       "      <td>NaN</td>\n",
       "      <td>UNKNOWN</td>\n",
       "      <td>NaN</td>\n",
       "      <td>NaN</td>\n",
       "      <td>NaN</td>\n",
       "      <td>NaN</td>\n",
       "      <td>NaN</td>\n",
       "    </tr>\n",
       "    <tr>\n",
       "      <th>8999</th>\n",
       "      <td>2017-09-07 00:00:00</td>\n",
       "      <td>DOG</td>\n",
       "      <td>POMERANIAN</td>\n",
       "      <td>MALE</td>\n",
       "      <td>RED</td>\n",
       "      <td>NaN</td>\n",
       "      <td>NaN</td>\n",
       "      <td>40204</td>\n",
       "      <td>NaN</td>\n",
       "      <td>HEAD</td>\n",
       "      <td>NaN</td>\n",
       "      <td>NaN</td>\n",
       "      <td>NaN</td>\n",
       "      <td>NaN</td>\n",
       "      <td>NaN</td>\n",
       "    </tr>\n",
       "    <tr>\n",
       "      <th>9000</th>\n",
       "      <td>2017-09-07 00:00:00</td>\n",
       "      <td>DOG</td>\n",
       "      <td>LABRADOR RETRIV</td>\n",
       "      <td>MALE</td>\n",
       "      <td>BROWN</td>\n",
       "      <td>NaN</td>\n",
       "      <td>NaN</td>\n",
       "      <td>47130</td>\n",
       "      <td>NaN</td>\n",
       "      <td>UNKNOWN</td>\n",
       "      <td>NaN</td>\n",
       "      <td>NaN</td>\n",
       "      <td>NaN</td>\n",
       "      <td>NaN</td>\n",
       "      <td>NaN</td>\n",
       "    </tr>\n",
       "    <tr>\n",
       "      <th>9001</th>\n",
       "      <td>2017-09-07 00:00:00</td>\n",
       "      <td>DOG</td>\n",
       "      <td>LABRADOR RETRIV</td>\n",
       "      <td>FEMALE</td>\n",
       "      <td>BLK WHT</td>\n",
       "      <td>NaN</td>\n",
       "      <td>NaN</td>\n",
       "      <td>40229</td>\n",
       "      <td>NaN</td>\n",
       "      <td>BODY</td>\n",
       "      <td>NaN</td>\n",
       "      <td>NaN</td>\n",
       "      <td>NaN</td>\n",
       "      <td>NaN</td>\n",
       "      <td>NaN</td>\n",
       "    </tr>\n",
       "    <tr>\n",
       "      <th>9002</th>\n",
       "      <td>2017-09-07 00:00:00</td>\n",
       "      <td>DOG</td>\n",
       "      <td>BOXER</td>\n",
       "      <td>NaN</td>\n",
       "      <td>BRN BLK</td>\n",
       "      <td>NaN</td>\n",
       "      <td>NaN</td>\n",
       "      <td>40229</td>\n",
       "      <td>NaN</td>\n",
       "      <td>BODY</td>\n",
       "      <td>NaN</td>\n",
       "      <td>NaN</td>\n",
       "      <td>NaN</td>\n",
       "      <td>NaN</td>\n",
       "      <td>NaN</td>\n",
       "    </tr>\n",
       "  </tbody>\n",
       "</table>\n",
       "</div>"
      ],
      "text/plain": [
       "                bite_date SpeciesIDDesc      BreedIDDesc GenderIDDesc  \\\n",
       "8998  2017-09-05 00:00:00           DOG              NaN          NaN   \n",
       "8999  2017-09-07 00:00:00           DOG       POMERANIAN         MALE   \n",
       "9000  2017-09-07 00:00:00           DOG  LABRADOR RETRIV         MALE   \n",
       "9001  2017-09-07 00:00:00           DOG  LABRADOR RETRIV       FEMALE   \n",
       "9002  2017-09-07 00:00:00           DOG            BOXER          NaN   \n",
       "\n",
       "        color  vaccination_yrs vaccination_date victim_zip AdvIssuedYNDesc  \\\n",
       "8998      NaN              NaN              NaN      40243             NaN   \n",
       "8999      RED              NaN              NaN      40204             NaN   \n",
       "9000    BROWN              NaN              NaN      47130             NaN   \n",
       "9001  BLK WHT              NaN              NaN      40229             NaN   \n",
       "9002  BRN BLK              NaN              NaN      40229             NaN   \n",
       "\n",
       "     WhereBittenIDDesc quarantine_date DispositionIDDesc head_sent_date  \\\n",
       "8998           UNKNOWN             NaN               NaN            NaN   \n",
       "8999              HEAD             NaN               NaN            NaN   \n",
       "9000           UNKNOWN             NaN               NaN            NaN   \n",
       "9001              BODY             NaN               NaN            NaN   \n",
       "9002              BODY             NaN               NaN            NaN   \n",
       "\n",
       "     release_date ResultsIDDesc  \n",
       "8998          NaN           NaN  \n",
       "8999          NaN           NaN  \n",
       "9000          NaN           NaN  \n",
       "9001          NaN           NaN  \n",
       "9002          NaN           NaN  "
      ]
     },
     "execution_count": 6,
     "metadata": {},
     "output_type": "execute_result"
    }
   ],
   "source": [
    "data.tail()"
   ]
  },
  {
   "cell_type": "code",
   "execution_count": 8,
   "metadata": {},
   "outputs": [
    {
     "name": "stdout",
     "output_type": "stream",
     "text": [
      "['DOG' 'CAT' 'BAT' 'RACCOON' 'OTHER' 'RABBIT' 'HORSE' 'SKUNK' 'FERRET']\n"
     ]
    }
   ],
   "source": [
    "species = data.SpeciesIDDesc\n",
    "species = species.dropna() #drop nan values in species feature\n",
    "speciesOfAnimal = species.unique()\n",
    "print(speciesOfAnimal)"
   ]
  },
  {
   "cell_type": "markdown",
   "metadata": {},
   "source": [
    "# Animal Name vs Number of Bites"
   ]
  },
  {
   "cell_type": "code",
   "execution_count": 9,
   "metadata": {
    "collapsed": true
   },
   "outputs": [],
   "source": [
    "animal_list = []\n",
    "for  i in speciesOfAnimal:\n",
    "    animal_list.append(len(species[species==i]))"
   ]
  },
  {
   "cell_type": "code",
   "execution_count": 10,
   "metadata": {},
   "outputs": [
    {
     "data": {
      "text/plain": [
       "[7029, 1568, 237, 27, 11, 3, 5, 1, 4]"
      ]
     },
     "execution_count": 10,
     "metadata": {},
     "output_type": "execute_result"
    }
   ],
   "source": [
    "animal_list"
   ]
  },
  {
   "cell_type": "code",
   "execution_count": 11,
   "metadata": {},
   "outputs": [
    {
     "data": {
      "text/plain": [
       "(array([0, 1, 2, 3, 4, 5, 6, 7, 8]), <a list of 9 Text xticklabel objects>)"
      ]
     },
     "execution_count": 11,
     "metadata": {},
     "output_type": "execute_result"
    }
   ],
   "source": [
    "ax = sns.barplot(x=speciesOfAnimal, y =animal_list)\n",
    "plt.title('Number of Species Bite')\n",
    "plt.xticks(rotation=90)"
   ]
  },
  {
   "cell_type": "code",
   "execution_count": 12,
   "metadata": {},
   "outputs": [
    {
     "data": {
      "image/png": "[encoded data removed]",
      "text/plain": [
       "<matplotlib.figure.Figure at 0x7fa1cfe040b8>"
      ]
     },
     "metadata": {},
     "output_type": "display_data"
    }
   ],
   "source": [
    "plt.show()"
   ]
  },
  {
   "cell_type": "markdown",
   "metadata": {},
   "source": [
    "## Monthly distribution of dog, cat and bat bites are visualized."
   ]
  },
  {
   "cell_type": "code",
   "execution_count": 15,
   "metadata": {
    "collapsed": true
   },
   "outputs": [],
   "source": [
    "def animal_month(animal,data):\n",
    "    month_list= ['01','02','03','04','05','06','07','08','09','10','11','12']\n",
    "    numberOfAnimal = []\n",
    "    for i in month_list:\n",
    "        x = data.loc[(data['SpeciesIDDesc']==animal)&(data['bite_date'].str.split('-').str[1]==i)]\n",
    "        numberOfAnimal.append(len(x))\n",
    "    ax = sns.barplot(x=month_list,y=numberOfAnimal,palette  = \"Blues\")\n",
    "    plt.title(animal + ' bite for 12 month')\n",
    "    plt.show()"
   ]
  },
  {
   "cell_type": "code",
   "execution_count": 16,
   "metadata": {},
   "outputs": [
    {
     "data": {
      "image/png": "[encoded data removed]",
      "text/plain": [
       "<matplotlib.figure.Figure at 0x7fa1c7c32fd0>"
      ]
     },
     "metadata": {},
     "output_type": "display_data"
    }
   ],
   "source": [
    "animal_month('DOG',data)"
   ]
  },
  {
   "cell_type": "code",
   "execution_count": 17,
   "metadata": {},
   "outputs": [
    {
     "data": {
      "image/png": "[encoded data removed]",
      "text/plain": [
       "<matplotlib.figure.Figure at 0x7fa1c7cb5fd0>"
      ]
     },
     "metadata": {},
     "output_type": "display_data"
    }
   ],
   "source": [
    "animal_month('CAT',data)"
   ]
  },
  {
   "cell_type": "code",
   "execution_count": 18,
   "metadata": {},
   "outputs": [
    {
     "data": {
      "image/png": "[encoded data removed]",
      "text/plain": [
       "<matplotlib.figure.Figure at 0x7fa1c7b23fd0>"
      ]
     },
     "metadata": {},
     "output_type": "display_data"
    }
   ],
   "source": [
    "animal_month('BAT',data)"
   ]
  },
  {
   "cell_type": "markdown",
   "metadata": {},
   "source": [
    "## Most 10 Aggresive species"
   ]
  },
  {
   "cell_type": "code",
   "execution_count": 19,
   "metadata": {},
   "outputs": [
    {
     "data": {
      "text/plain": [
       "PIT BULL             1102\n",
       "GERM SHEPHERD         327\n",
       "LABRADOR RETRIV       253\n",
       "BOXER                 181\n",
       "CHICHAUHUA            165\n",
       "SHIH TZU              119\n",
       "BEAGLE                116\n",
       "ROTTWEILER             86\n",
       "AAUST. TERR.           78\n",
       "DACHSHUND              67\n",
       "GOLD RETRIEVER         60\n",
       "POODLE                 50\n",
       "BORDER COLLIE          47\n",
       "YORKSHIRE TERRIER      46\n",
       "CHOW CHOW              46\n",
       "GREAT DANE             43\n",
       "CANE CORSO             40\n",
       "SCHNAUZER              39\n",
       "POMERANIAN             38\n",
       "OTHER                  35\n",
       "BULL DOG               34\n",
       "HUSKY                  34\n",
       "DOBERMAN               32\n",
       "COCKER SPAINEL         30\n",
       "BOSTON TERRIER         29\n",
       "AKITA                  28\n",
       "ENGLISH BULLDOG        28\n",
       "MALTASE                28\n",
       "MASTIF                 27\n",
       "MIN PIN                27\n",
       "                     ... \n",
       "TOY POODLE              4\n",
       "BICHON FRISE            4\n",
       "ENGLISH SETTER          4\n",
       "SAMOYED                 4\n",
       "ENG. MASTIFF            3\n",
       "BOX TERRIER             3\n",
       "LAKELAND TER.           3\n",
       "HEELER                  3\n",
       "GOLDEN LAB              3\n",
       "IRISH SETTER            3\n",
       "AIREDALE TER.           3\n",
       "PYRENES                 2\n",
       "SPITZ                   2\n",
       "TOY FOX TERRIER         2\n",
       "BOUVIER                 2\n",
       "COCKAPOO                2\n",
       "NEW FOUNDLAND           2\n",
       "MALAMUTE                2\n",
       "WEINER DOG              1\n",
       "BEARDED COLLIE          1\n",
       "IRISH SPANIEL           1\n",
       "RED HEELER              1\n",
       "AMER FOX HOUND          1\n",
       "STAN POODLE             1\n",
       "BESINJI                 1\n",
       "BRIARD                  1\n",
       "FOX TERRIER MIX         1\n",
       "OLD ENG SHP DOG         1\n",
       "CHOCOLATE LAB.          1\n",
       "IRISH WOLFHOUND         1\n",
       "Name: BreedIDDesc, Length: 101, dtype: int64"
      ]
     },
     "execution_count": 19,
     "metadata": {},
     "output_type": "execute_result"
    }
   ],
   "source": [
    "count = data.BreedIDDesc.value_counts()\n",
    "count"
   ]
  },
  {
   "cell_type": "code",
   "execution_count": 20,
   "metadata": {},
   "outputs": [
    {
     "data": {
      "image/png": "[encoded data removed]",
      "text/plain": [
       "<matplotlib.figure.Figure at 0x7fa1c7c22d30>"
      ]
     },
     "metadata": {},
     "output_type": "display_data"
    },
    {
     "name": "stdout",
     "output_type": "stream",
     "text": [
      "Index(['PIT BULL', 'GERM SHEPHERD', 'LABRADOR RETRIV', 'BOXER', 'CHICHAUHUA',\n",
      "       'SHIH TZU', 'BEAGLE', 'ROTTWEILER', 'AAUST. TERR.', 'DACHSHUND'],\n",
      "      dtype='object')\n"
     ]
    }
   ],
   "source": [
    "plt.figure(figsize=(15,8))\n",
    "ax = sns.barplot(x=count[0:10].index,y=count[0:10])\n",
    "plt.xticks(rotation=20)\n",
    "plt.ylabel(\"Number of Bite\")\n",
    "plt.show()\n",
    "print(count[0:10].index)"
   ]
  },
  {
   "cell_type": "markdown",
   "metadata": {},
   "source": [
    "## Where dogs, cats and bats bite people are visualized. While changing bite_place method, you can observe where other animals bite."
   ]
  },
  {
   "cell_type": "code",
   "execution_count": 22,
   "metadata": {
    "collapsed": true
   },
   "outputs": [],
   "source": [
    "def bite_place(animal,data):\n",
    "    bitePlaces = data.WhereBittenIDDesc.unique()\n",
    "    #print(bitePlaces)\n",
    "    head = data.loc[(data['SpeciesIDDesc']==animal)&(data['WhereBittenIDDesc']=='HEAD')]\n",
    "    body = data.loc[(data['SpeciesIDDesc']==animal)&(data['WhereBittenIDDesc']=='BODY')]\n",
    "    numberOfHead = len(head)\n",
    "    numberOfBody = len(body)\n",
    "    total = numberOfHead+numberOfBody\n",
    "    fig1=plt.figure()\n",
    "    ax1=fig1.add_subplot(111,aspect='equal')\n",
    "    ax1.add_patch(\n",
    "        patches.Rectangle((0.3,0.1),0.4,0.5,alpha=numberOfBody/float(total),color='r')\n",
    "    )\n",
    "    circle = plt.Circle((0.5,0.7),0.1,color='r',alpha=numberOfHead/float(total))\n",
    "    ax1.add_artist(circle)\n",
    "    plt.text(0.45,0.7,round(numberOfHead/float(total),2))\n",
    "    plt.text(0.45,0.4,round(numberOfBody/float(total),2))\n",
    "    plt.title(str(animal)+' Bite Probability of Head and Body')\n",
    "    plt.axis('off')\n",
    "    plt.show()"
   ]
  },
  {
   "cell_type": "code",
   "execution_count": 23,
   "metadata": {},
   "outputs": [
    {
     "data": {
      "image/png": "[encoded data removed]",
      "text/plain": [
       "<matplotlib.figure.Figure at 0x7fa1c7d83e80>"
      ]
     },
     "metadata": {},
     "output_type": "display_data"
    }
   ],
   "source": [
    "#Dog bites 19% head and 81% body\n",
    "bite_place('DOG',data)"
   ]
  },
  {
   "cell_type": "code",
   "execution_count": 24,
   "metadata": {},
   "outputs": [
    {
     "data": {
      "image/png": "[encoded data removed]",
      "text/plain": [
       "<matplotlib.figure.Figure at 0x7fa1c7ce04e0>"
      ]
     },
     "metadata": {},
     "output_type": "display_data"
    }
   ],
   "source": [
    "#Cat bites 4% head and 96% body\n",
    "bite_place('CAT',data)"
   ]
  },
  {
   "cell_type": "code",
   "execution_count": 25,
   "metadata": {},
   "outputs": [
    {
     "data": {
      "image/png": "[encoded data removed]",
      "text/plain": [
       "<matplotlib.figure.Figure at 0x7fa1c7b2c240>"
      ]
     },
     "metadata": {},
     "output_type": "display_data"
    }
   ],
   "source": [
    "#Bat bites 5% head and 95% body\n",
    "bite_place('BAT',data)"
   ]
  },
  {
   "cell_type": "markdown",
   "metadata": {},
   "source": [
    "# Male or Female who is dangerous?"
   ]
  },
  {
   "cell_type": "code",
   "execution_count": 26,
   "metadata": {},
   "outputs": [
    {
     "data": {
      "image/png": "[encoded data removed]",
      "text/plain": [
       "<matplotlib.figure.Figure at 0x7fa1c7dcfdd8>"
      ]
     },
     "metadata": {},
     "output_type": "display_data"
    },
    {
     "name": "stdout",
     "output_type": "stream",
     "text": [
      "MALE      3832\n",
      "FEMALE    2016\n",
      "Name: GenderIDDesc, dtype: int64\n"
     ]
    }
   ],
   "source": [
    "gender = ['MALE','FEMALE']\n",
    "count_gender = data.GenderIDDesc.value_counts()\n",
    "plt.figure(figsize= (7,8))\n",
    "x = sns.barplot(x=gender, y= count_gender[0:2])\n",
    "plt.ylabel('Number of Bite ')\n",
    "plt.xticks(rotation = 20)\n",
    "plt.title('MALE VS FEMALE')\n",
    "plt.show()\n",
    "print(count_gender[0:2])"
   ]
  },
  {
   "cell_type": "markdown",
   "metadata": {
    "collapsed": true
   },
   "source": [
    "## Probabilty of having rabies"
   ]
  },
  {
   "cell_type": "code",
   "execution_count": 32,
   "metadata": {
    "collapsed": true
   },
   "outputs": [],
   "source": [
    "def rabid_prob(animal,data):\n",
    "    labels = ['POSITIVE','NEGATIVE']\n",
    "    colors = ['red','green']\n",
    "    explode = [0.1,0]\n",
    "    p = data.loc[(data['SpeciesIDDesc']==animal)&(data['ResultsIDDesc']=='POSITIVE')]\n",
    "    n = data.loc[(data['SpeciesIDDesc']==animal)&(data['ResultsIDDesc']=='NEGATIVE')]\n",
    "    sizes = [len(p),len(n)]\n",
    "    print(sizes)\n",
    "    if len(p)==0:\n",
    "        labels = ['','NEGATIVE']\n",
    "    plt.pie(sizes,explode=explode,labels=labels,colors=colors,autopct ='%1.1f&&')\n",
    "    plt.axis('equal')\n",
    "    plt.title(animal + ' Rabid Probability')\n",
    "    plt.show()"
   ]
  },
  {
   "cell_type": "code",
   "execution_count": 33,
   "metadata": {},
   "outputs": [
    {
     "name": "stdout",
     "output_type": "stream",
     "text": [
      "[1, 58]\n"
     ]
    },
    {
     "data": {
      "image/png": "[encoded data removed]",
      "text/plain": [
       "<matplotlib.figure.Figure at 0x7fa1c7d91518>"
      ]
     },
     "metadata": {},
     "output_type": "display_data"
    }
   ],
   "source": [
    "# Dog rabid probability is 1.7%\n",
    "rabid_prob('DOG',data)"
   ]
  },
  {
   "cell_type": "code",
   "execution_count": null,
   "metadata": {
    "collapsed": true
   },
   "outputs": [],
   "source": []
  }
 ],
 "metadata": {
  "kernelspec": {
   "display_name": "Python 3",
   "language": "python",
   "name": "python3"
  },
  "language_info": {
   "codemirror_mode": {
    "name": "ipython",
    "version": 3
   },
   "file_extension": ".py",
   "mimetype": "text/x-python",
   "name": "python",
   "nbconvert_exporter": "python",
   "pygments_lexer": "ipython3",
   "version": "3.6.3"
  }
 },
 "nbformat": 4,
 "nbformat_minor": 2
}
